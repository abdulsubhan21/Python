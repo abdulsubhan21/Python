{
  "nbformat": 4,
  "nbformat_minor": 0,
  "metadata": {
    "colab": {
      "provenance": []
    },
    "kernelspec": {
      "name": "python3",
      "display_name": "Python 3"
    },
    "language_info": {
      "name": "python"
    }
  },
  "cells": [
    {
      "cell_type": "markdown",
      "source": [
        "#List"
      ],
      "metadata": {
        "id": "KNZMJwOwnlRO"
      }
    },
    {
      "cell_type": "markdown",
      "source": [
        "#Operations"
      ],
      "metadata": {
        "id": "einm6TSnEVHU"
      }
    },
    {
      "cell_type": "markdown",
      "source": [
        "1. Addition"
      ],
      "metadata": {
        "id": "as7VW-KEhzY1"
      }
    },
    {
      "cell_type": "code",
      "source": [
        "op_1 = [1,2,3,4,5]\n",
        "op_2 = [6,7,8,9,10]"
      ],
      "metadata": {
        "id": "OjUvl9qOELDq"
      },
      "execution_count": 1,
      "outputs": []
    },
    {
      "cell_type": "code",
      "source": [
        "print(op_1 + op_2)"
      ],
      "metadata": {
        "colab": {
          "base_uri": "https://localhost:8080/"
        },
        "id": "DDLexbynFFrr",
        "outputId": "d4e468fa-cdee-4844-9319-842aa14d56b2"
      },
      "execution_count": 2,
      "outputs": [
        {
          "output_type": "stream",
          "name": "stdout",
          "text": [
            "[1, 2, 3, 4, 5, 6, 7, 8, 9, 10]\n"
          ]
        }
      ]
    },
    {
      "cell_type": "markdown",
      "source": [
        "2. Multiplication"
      ],
      "metadata": {
        "id": "3w5nF-eoh6xN"
      }
    },
    {
      "cell_type": "code",
      "source": [
        "print(op_1 * 2)\n",
        "print(op_2 * 2)"
      ],
      "metadata": {
        "colab": {
          "base_uri": "https://localhost:8080/"
        },
        "id": "kvUpjalxFJB9",
        "outputId": "57b58b21-11ed-4c2e-99b5-8be469a47c4e"
      },
      "execution_count": 3,
      "outputs": [
        {
          "output_type": "stream",
          "name": "stdout",
          "text": [
            "[1, 2, 3, 4, 5, 1, 2, 3, 4, 5]\n",
            "[6, 7, 8, 9, 10, 6, 7, 8, 9, 10]\n"
          ]
        }
      ]
    },
    {
      "cell_type": "markdown",
      "source": [
        "3. Indexing"
      ],
      "metadata": {
        "id": "tG5cEFeHrji2"
      }
    },
    {
      "cell_type": "code",
      "source": [
        "course = [\"computer\", \"physics\", \"chemistry\", \"math\", \"english\",]\n",
        "print(course)"
      ],
      "metadata": {
        "colab": {
          "base_uri": "https://localhost:8080/"
        },
        "id": "R_92rDrS8EaM",
        "outputId": "32b2458f-1008-4627-e108-0439c6396167"
      },
      "execution_count": 4,
      "outputs": [
        {
          "output_type": "stream",
          "name": "stdout",
          "text": [
            "['computer', 'physics', 'chemistry', 'math', 'english']\n"
          ]
        }
      ]
    },
    {
      "cell_type": "code",
      "source": [
        "course[0]"
      ],
      "metadata": {
        "colab": {
          "base_uri": "https://localhost:8080/",
          "height": 36
        },
        "id": "mTpMrYGS7nNR",
        "outputId": "101cee1c-bba9-41b1-cd04-609c95d00f25"
      },
      "execution_count": 5,
      "outputs": [
        {
          "output_type": "execute_result",
          "data": {
            "text/plain": [
              "'computer'"
            ],
            "application/vnd.google.colaboratory.intrinsic+json": {
              "type": "string"
            }
          },
          "metadata": {},
          "execution_count": 5
        }
      ]
    },
    {
      "cell_type": "code",
      "source": [
        "course[-1]"
      ],
      "metadata": {
        "colab": {
          "base_uri": "https://localhost:8080/",
          "height": 36
        },
        "id": "c9UaIlBQ7uFO",
        "outputId": "92e61767-5448-4102-9e95-8174c078cbe8"
      },
      "execution_count": 6,
      "outputs": [
        {
          "output_type": "execute_result",
          "data": {
            "text/plain": [
              "'english'"
            ],
            "application/vnd.google.colaboratory.intrinsic+json": {
              "type": "string"
            }
          },
          "metadata": {},
          "execution_count": 6
        }
      ]
    },
    {
      "cell_type": "code",
      "source": [
        "course[2] = \"urdu\"\n",
        "print(course)"
      ],
      "metadata": {
        "colab": {
          "base_uri": "https://localhost:8080/"
        },
        "id": "mBihCf1K8EGc",
        "outputId": "7ed039f7-66cc-4655-f5bc-55995c6009b7"
      },
      "execution_count": 7,
      "outputs": [
        {
          "output_type": "stream",
          "name": "stdout",
          "text": [
            "['computer', 'physics', 'urdu', 'math', 'english']\n"
          ]
        }
      ]
    },
    {
      "cell_type": "markdown",
      "source": [
        "4. Slicing"
      ],
      "metadata": {
        "id": "Gj8_naQsoduJ"
      }
    },
    {
      "cell_type": "code",
      "source": [
        "course[0:4]"
      ],
      "metadata": {
        "colab": {
          "base_uri": "https://localhost:8080/"
        },
        "id": "m60tAnJp7vQ5",
        "outputId": "ffb49cb6-ea2a-4f61-d063-122791bdf720"
      },
      "execution_count": 8,
      "outputs": [
        {
          "output_type": "execute_result",
          "data": {
            "text/plain": [
              "['computer', 'physics', 'urdu', 'math']"
            ]
          },
          "metadata": {},
          "execution_count": 8
        }
      ]
    },
    {
      "cell_type": "code",
      "source": [
        "course[0:4:2]"
      ],
      "metadata": {
        "colab": {
          "base_uri": "https://localhost:8080/"
        },
        "id": "Y7uMLDl4l92T",
        "outputId": "3b39c4c7-3d12-4edd-9f57-73173c22b60e"
      },
      "execution_count": 9,
      "outputs": [
        {
          "output_type": "execute_result",
          "data": {
            "text/plain": [
              "['computer', 'urdu']"
            ]
          },
          "metadata": {},
          "execution_count": 9
        }
      ]
    },
    {
      "cell_type": "code",
      "source": [
        "course[0::2]"
      ],
      "metadata": {
        "colab": {
          "base_uri": "https://localhost:8080/"
        },
        "id": "9O11LGkun3hE",
        "outputId": "0d4ab543-7c82-4174-e35a-f88fe3c67b21"
      },
      "execution_count": 10,
      "outputs": [
        {
          "output_type": "execute_result",
          "data": {
            "text/plain": [
              "['computer', 'urdu', 'english']"
            ]
          },
          "metadata": {},
          "execution_count": 10
        }
      ]
    },
    {
      "cell_type": "code",
      "source": [
        "course[::2]"
      ],
      "metadata": {
        "colab": {
          "base_uri": "https://localhost:8080/"
        },
        "id": "7BpSEz4vo1B9",
        "outputId": "e1b1f941-0eb6-47eb-f2bf-c013326e58a3"
      },
      "execution_count": 11,
      "outputs": [
        {
          "output_type": "execute_result",
          "data": {
            "text/plain": [
              "['computer', 'urdu', 'english']"
            ]
          },
          "metadata": {},
          "execution_count": 11
        }
      ]
    },
    {
      "cell_type": "code",
      "source": [
        "course[-2::-1]"
      ],
      "metadata": {
        "colab": {
          "base_uri": "https://localhost:8080/"
        },
        "id": "nPM3jkfWpGRG",
        "outputId": "35091712-f14a-48b5-da7b-951c1606b09f"
      },
      "execution_count": 12,
      "outputs": [
        {
          "output_type": "execute_result",
          "data": {
            "text/plain": [
              "['math', 'urdu', 'physics', 'computer']"
            ]
          },
          "metadata": {},
          "execution_count": 12
        }
      ]
    },
    {
      "cell_type": "code",
      "source": [
        "course[::-1]"
      ],
      "metadata": {
        "colab": {
          "base_uri": "https://localhost:8080/"
        },
        "id": "7wl6925e7vDM",
        "outputId": "70a08830-5f63-408e-b1d7-5832ff0df3f2"
      },
      "execution_count": 13,
      "outputs": [
        {
          "output_type": "execute_result",
          "data": {
            "text/plain": [
              "['english', 'math', 'urdu', 'physics', 'computer']"
            ]
          },
          "metadata": {},
          "execution_count": 13
        }
      ]
    },
    {
      "cell_type": "markdown",
      "source": [
        "#Functions"
      ],
      "metadata": {
        "id": "mi8Cy2SDXXh4"
      }
    },
    {
      "cell_type": "markdown",
      "source": [
        "1. Append"
      ],
      "metadata": {
        "id": "8SdMQnJCAf_r"
      }
    },
    {
      "cell_type": "code",
      "source": [
        "students = [\"abdul subhan\",\"asad\",\"ameen\",\"umer\",\"ali\"]\n",
        "print(students)"
      ],
      "metadata": {
        "colab": {
          "base_uri": "https://localhost:8080/"
        },
        "id": "L2Drkv8CV3oP",
        "outputId": "01124238-659c-4741-d427-87cc47756e4e"
      },
      "execution_count": 14,
      "outputs": [
        {
          "output_type": "stream",
          "name": "stdout",
          "text": [
            "['abdul subhan', 'asad', 'ameen', 'umer', 'ali']\n"
          ]
        }
      ]
    },
    {
      "cell_type": "code",
      "source": [
        "students.append(\"saim\")\n",
        "print(students)"
      ],
      "metadata": {
        "colab": {
          "base_uri": "https://localhost:8080/"
        },
        "id": "kdvRpSh0CuNj",
        "outputId": "440e3582-026e-49a9-d044-d4745d92cd2a"
      },
      "execution_count": 15,
      "outputs": [
        {
          "output_type": "stream",
          "name": "stdout",
          "text": [
            "['abdul subhan', 'asad', 'ameen', 'umer', 'ali', 'saim']\n"
          ]
        }
      ]
    },
    {
      "cell_type": "markdown",
      "source": [
        "2. Extend"
      ],
      "metadata": {
        "id": "U6fd1ay5Alw4"
      }
    },
    {
      "cell_type": "code",
      "source": [
        "students.extend([\"adan\", \"sejeel\"])\n",
        "print(students)"
      ],
      "metadata": {
        "colab": {
          "base_uri": "https://localhost:8080/"
        },
        "id": "u9znAJRmC4w3",
        "outputId": "9c6fb82c-3d52-4d18-fc39-e15dbb34160a"
      },
      "execution_count": 16,
      "outputs": [
        {
          "output_type": "stream",
          "name": "stdout",
          "text": [
            "['abdul subhan', 'asad', 'ameen', 'umer', 'ali', 'saim', 'adan', 'sejeel']\n"
          ]
        }
      ]
    },
    {
      "cell_type": "markdown",
      "source": [
        "3. Insert"
      ],
      "metadata": {
        "id": "fTIhYWrTB_N4"
      }
    },
    {
      "cell_type": "code",
      "source": [
        "students.insert(5, \"ashar\")\n",
        "print(students)"
      ],
      "metadata": {
        "colab": {
          "base_uri": "https://localhost:8080/"
        },
        "id": "t6Zz-8ypDSM7",
        "outputId": "e7f157a5-66b0-4ec5-9405-1863b7a82b3d"
      },
      "execution_count": 17,
      "outputs": [
        {
          "output_type": "stream",
          "name": "stdout",
          "text": [
            "['abdul subhan', 'asad', 'ameen', 'umer', 'ali', 'ashar', 'saim', 'adan', 'sejeel']\n"
          ]
        }
      ]
    },
    {
      "cell_type": "code",
      "source": [
        "del students[3]\n",
        "print(students)"
      ],
      "metadata": {
        "colab": {
          "base_uri": "https://localhost:8080/"
        },
        "id": "_BE2Q75k2uIk",
        "outputId": "e00328d6-0daa-4876-e76b-4d2a9f229221"
      },
      "execution_count": 19,
      "outputs": [
        {
          "output_type": "stream",
          "name": "stdout",
          "text": [
            "['abdul subhan', 'asad', 'ameen', 'ashar', 'saim', 'adan', 'sejeel']\n"
          ]
        }
      ]
    },
    {
      "cell_type": "markdown",
      "source": [
        "4. Remove"
      ],
      "metadata": {
        "id": "1jyBEvELDnby"
      }
    },
    {
      "cell_type": "code",
      "source": [
        "students.remove(\"asad\")\n",
        "print(students)"
      ],
      "metadata": {
        "colab": {
          "base_uri": "https://localhost:8080/"
        },
        "id": "CiI9Y6XKDrAM",
        "outputId": "5f8ccb00-2dcd-44fa-e463-959a3f6a1752"
      },
      "execution_count": 21,
      "outputs": [
        {
          "output_type": "stream",
          "name": "stdout",
          "text": [
            "['abdul subhan', 'ameen', 'ashar', 'saim', 'adan', 'sejeel']\n"
          ]
        }
      ]
    },
    {
      "cell_type": "markdown",
      "source": [
        "5. Pop"
      ],
      "metadata": {
        "id": "qm_IOyW4EeAc"
      }
    },
    {
      "cell_type": "code",
      "source": [
        "students.pop()\n",
        "print(students)"
      ],
      "metadata": {
        "colab": {
          "base_uri": "https://localhost:8080/"
        },
        "id": "bUFXeZCzErE-",
        "outputId": "751159f3-9ef3-4520-f3ee-5d89758ccade"
      },
      "execution_count": 22,
      "outputs": [
        {
          "output_type": "stream",
          "name": "stdout",
          "text": [
            "['abdul subhan', 'ameen', 'ashar', 'saim', 'adan']\n"
          ]
        }
      ]
    },
    {
      "cell_type": "markdown",
      "source": [
        "6. Clear"
      ],
      "metadata": {
        "id": "d951wCaxFKFg"
      }
    },
    {
      "cell_type": "code",
      "source": [
        "students.clear()\n",
        "print(students)"
      ],
      "metadata": {
        "colab": {
          "base_uri": "https://localhost:8080/"
        },
        "id": "kC92_d66FNcJ",
        "outputId": "6b9e836a-1090-4537-9bf6-473edd56434e"
      },
      "execution_count": 23,
      "outputs": [
        {
          "output_type": "stream",
          "name": "stdout",
          "text": [
            "[]\n"
          ]
        }
      ]
    },
    {
      "cell_type": "markdown",
      "source": [
        "7. Index"
      ],
      "metadata": {
        "id": "Bh19WxbUFjta"
      }
    },
    {
      "cell_type": "code",
      "source": [
        "numbers = [0, 8, 2, 6, 4, 9, 1, 7, 3, 5]"
      ],
      "metadata": {
        "id": "30iFD0YHkPXO"
      },
      "execution_count": 24,
      "outputs": []
    },
    {
      "cell_type": "code",
      "source": [
        "num = numbers.index(7)\n",
        "print(num)"
      ],
      "metadata": {
        "colab": {
          "base_uri": "https://localhost:8080/"
        },
        "id": "wpzMnGWSFx4b",
        "outputId": "91950f89-9314-4d4e-d5a3-9f2df14d0f49"
      },
      "execution_count": 25,
      "outputs": [
        {
          "output_type": "stream",
          "name": "stdout",
          "text": [
            "7\n"
          ]
        }
      ]
    },
    {
      "cell_type": "markdown",
      "source": [
        "8. Count"
      ],
      "metadata": {
        "id": "8gTImXTLJi0v"
      }
    },
    {
      "cell_type": "code",
      "source": [
        "num = numbers.count(4)\n",
        "print(num)"
      ],
      "metadata": {
        "colab": {
          "base_uri": "https://localhost:8080/"
        },
        "id": "vlSZCN63Jl6t",
        "outputId": "dd5f1fad-8ec3-411c-b675-eb6da50134c9"
      },
      "execution_count": 26,
      "outputs": [
        {
          "output_type": "stream",
          "name": "stdout",
          "text": [
            "1\n"
          ]
        }
      ]
    },
    {
      "cell_type": "markdown",
      "source": [
        "9. Sort"
      ],
      "metadata": {
        "id": "XnFAB8pSP3Hx"
      }
    },
    {
      "cell_type": "code",
      "source": [
        "numbers.sort()\n",
        "print(numbers)\n",
        "\n",
        "numbers.sort(reverse = True)\n",
        "print(numbers)"
      ],
      "metadata": {
        "colab": {
          "base_uri": "https://localhost:8080/"
        },
        "id": "FGg-orkFR6pu",
        "outputId": "5a1c431b-57e6-4083-e258-e1d7ea764778"
      },
      "execution_count": 27,
      "outputs": [
        {
          "output_type": "stream",
          "name": "stdout",
          "text": [
            "[0, 1, 2, 3, 4, 5, 6, 7, 8, 9]\n",
            "[9, 8, 7, 6, 5, 4, 3, 2, 1, 0]\n"
          ]
        }
      ]
    },
    {
      "cell_type": "markdown",
      "source": [
        "10. Reverse"
      ],
      "metadata": {
        "id": "0psX6Oj9Qwn4"
      }
    },
    {
      "cell_type": "code",
      "source": [
        "numbers.reverse()\n",
        "print(numbers)"
      ],
      "metadata": {
        "colab": {
          "base_uri": "https://localhost:8080/"
        },
        "id": "FS8nYDolR-kb",
        "outputId": "ee30a2e6-a70e-4923-95f1-ecdaf1961333"
      },
      "execution_count": 28,
      "outputs": [
        {
          "output_type": "stream",
          "name": "stdout",
          "text": [
            "[0, 1, 2, 3, 4, 5, 6, 7, 8, 9]\n"
          ]
        }
      ]
    },
    {
      "cell_type": "markdown",
      "source": [
        "11. Copy"
      ],
      "metadata": {
        "id": "lOo85UkqWTW6"
      }
    },
    {
      "cell_type": "code",
      "source": [
        "numbers.copy()\n",
        "print(numbers)"
      ],
      "metadata": {
        "colab": {
          "base_uri": "https://localhost:8080/"
        },
        "id": "rPkeWvaaWcIB",
        "outputId": "397756bf-5d28-4472-d872-0248bbef5ce6"
      },
      "execution_count": 29,
      "outputs": [
        {
          "output_type": "stream",
          "name": "stdout",
          "text": [
            "[0, 1, 2, 3, 4, 5, 6, 7, 8, 9]\n"
          ]
        }
      ]
    },
    {
      "cell_type": "markdown",
      "source": [
        " 12. Len"
      ],
      "metadata": {
        "id": "VjLPLnkoW2Lz"
      }
    },
    {
      "cell_type": "code",
      "source": [
        "num = len(numbers)\n",
        "print(num)"
      ],
      "metadata": {
        "colab": {
          "base_uri": "https://localhost:8080/"
        },
        "id": "1R_3PWZkW7eA",
        "outputId": "5ee56d1e-21ca-4a60-d573-0bcf57ee7c92"
      },
      "execution_count": 30,
      "outputs": [
        {
          "output_type": "stream",
          "name": "stdout",
          "text": [
            "10\n"
          ]
        }
      ]
    },
    {
      "cell_type": "markdown",
      "source": [
        "13. Max"
      ],
      "metadata": {
        "id": "M15YNz1EeG4o"
      }
    },
    {
      "cell_type": "code",
      "source": [
        "num = max(numbers)\n",
        "print(num)"
      ],
      "metadata": {
        "colab": {
          "base_uri": "https://localhost:8080/"
        },
        "id": "IV3ghLBveOYz",
        "outputId": "92e72b7e-1ba3-4c24-9fc6-db0f17409c2f"
      },
      "execution_count": 31,
      "outputs": [
        {
          "output_type": "stream",
          "name": "stdout",
          "text": [
            "9\n"
          ]
        }
      ]
    },
    {
      "cell_type": "markdown",
      "source": [
        "14. Min"
      ],
      "metadata": {
        "id": "d3IeB8kOeua6"
      }
    },
    {
      "cell_type": "code",
      "source": [
        "num = min(numbers)\n",
        "print(num)"
      ],
      "metadata": {
        "colab": {
          "base_uri": "https://localhost:8080/"
        },
        "id": "NArkWuTWezDK",
        "outputId": "65b957af-3503-440c-b273-deddd0e0202f"
      },
      "execution_count": 32,
      "outputs": [
        {
          "output_type": "stream",
          "name": "stdout",
          "text": [
            "0\n"
          ]
        }
      ]
    },
    {
      "cell_type": "markdown",
      "source": [
        "15. Sum"
      ],
      "metadata": {
        "id": "wAJgRstUe__n"
      }
    },
    {
      "cell_type": "code",
      "source": [
        "num = sum(numbers)\n",
        "print(num)"
      ],
      "metadata": {
        "colab": {
          "base_uri": "https://localhost:8080/"
        },
        "id": "tKarp2XnfFz2",
        "outputId": "bd7eb3a3-e2d5-48e2-8144-673d0894e97d"
      },
      "execution_count": 33,
      "outputs": [
        {
          "output_type": "stream",
          "name": "stdout",
          "text": [
            "45\n"
          ]
        }
      ]
    },
    {
      "cell_type": "markdown",
      "source": [
        "16. Sorted"
      ],
      "metadata": {
        "id": "0tAIZfqcg8uZ"
      }
    },
    {
      "cell_type": "code",
      "source": [
        "num = sorted(numbers)\n",
        "print(num)\n",
        "\n",
        "num = sorted(numbers, reverse = True)\n",
        "print(num)"
      ],
      "metadata": {
        "colab": {
          "base_uri": "https://localhost:8080/"
        },
        "id": "DQ7nNGpvhYTW",
        "outputId": "f78384cb-d5ba-4f87-e379-330a66602068"
      },
      "execution_count": 34,
      "outputs": [
        {
          "output_type": "stream",
          "name": "stdout",
          "text": [
            "[0, 1, 2, 3, 4, 5, 6, 7, 8, 9]\n",
            "[9, 8, 7, 6, 5, 4, 3, 2, 1, 0]\n"
          ]
        }
      ]
    },
    {
      "cell_type": "markdown",
      "source": [
        "17. Any"
      ],
      "metadata": {
        "id": "54LdVCjVjWU1"
      }
    },
    {
      "cell_type": "code",
      "source": [
        "num = any(numbers)\n",
        "print(num)"
      ],
      "metadata": {
        "colab": {
          "base_uri": "https://localhost:8080/"
        },
        "id": "HAjBoUCajgO1",
        "outputId": "81d3ade0-6a53-4057-ca44-2c35ca2c931d"
      },
      "execution_count": 35,
      "outputs": [
        {
          "output_type": "stream",
          "name": "stdout",
          "text": [
            "True\n"
          ]
        }
      ]
    },
    {
      "cell_type": "markdown",
      "source": [
        "18. All"
      ],
      "metadata": {
        "id": "jYLPCG1hjxMY"
      }
    },
    {
      "cell_type": "code",
      "source": [
        "num = all(numbers)\n",
        "print(num)"
      ],
      "metadata": {
        "colab": {
          "base_uri": "https://localhost:8080/"
        },
        "id": "k8xBX59-j0dY",
        "outputId": "f72282ce-d64d-4ae4-bf76-82c4640de522"
      },
      "execution_count": 36,
      "outputs": [
        {
          "output_type": "stream",
          "name": "stdout",
          "text": [
            "False\n"
          ]
        }
      ]
    }
  ]
}