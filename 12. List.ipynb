{
  "nbformat": 4,
  "nbformat_minor": 0,
  "metadata": {
    "colab": {
      "provenance": [],
      "collapsed_sections": [
        "einm6TSnEVHU",
        "mi8Cy2SDXXh4"
      ]
    },
    "kernelspec": {
      "name": "python3",
      "display_name": "Python 3"
    },
    "language_info": {
      "name": "python"
    }
  },
  "cells": [
    {
      "cell_type": "markdown",
      "source": [
        "#List"
      ],
      "metadata": {
        "id": "KNZMJwOwnlRO"
      }
    },
    {
      "cell_type": "markdown",
      "source": [
        "#Operations"
      ],
      "metadata": {
        "id": "einm6TSnEVHU"
      }
    },
    {
      "cell_type": "markdown",
      "source": [
        "1. Addition"
      ],
      "metadata": {
        "id": "as7VW-KEhzY1"
      }
    },
    {
      "cell_type": "code",
      "source": [
        "op_1 = [1,2,3,4,5]\n",
        "op_2 = [6,7,8,9,10]"
      ],
      "metadata": {
        "id": "OjUvl9qOELDq"
      },
      "execution_count": 1,
      "outputs": []
    },
    {
      "cell_type": "code",
      "source": [
        "print(op_1 + op_2)"
      ],
      "metadata": {
        "colab": {
          "base_uri": "https://localhost:8080/"
        },
        "id": "DDLexbynFFrr",
        "outputId": "67a234ff-b9b7-42c3-e206-b56aee237e41"
      },
      "execution_count": 2,
      "outputs": [
        {
          "output_type": "stream",
          "name": "stdout",
          "text": [
            "[1, 2, 3, 4, 5, 6, 7, 8, 9, 10]\n"
          ]
        }
      ]
    },
    {
      "cell_type": "markdown",
      "source": [
        "2. Multiplication"
      ],
      "metadata": {
        "id": "3w5nF-eoh6xN"
      }
    },
    {
      "cell_type": "code",
      "source": [
        "print(op_1 * 2)\n",
        "print(op_2 * 2)"
      ],
      "metadata": {
        "colab": {
          "base_uri": "https://localhost:8080/"
        },
        "id": "kvUpjalxFJB9",
        "outputId": "a44a0721-8311-47dd-f76f-359dee039047"
      },
      "execution_count": 3,
      "outputs": [
        {
          "output_type": "stream",
          "name": "stdout",
          "text": [
            "[1, 2, 3, 4, 5, 1, 2, 3, 4, 5]\n",
            "[6, 7, 8, 9, 10, 6, 7, 8, 9, 10]\n"
          ]
        }
      ]
    },
    {
      "cell_type": "markdown",
      "source": [
        "3. Indexing"
      ],
      "metadata": {
        "id": "tG5cEFeHrji2"
      }
    },
    {
      "cell_type": "code",
      "source": [
        "course = [\"computer\", \"physics\", \"chemistry\", \"math\", \"english\",]\n",
        "print(course)"
      ],
      "metadata": {
        "colab": {
          "base_uri": "https://localhost:8080/"
        },
        "id": "R_92rDrS8EaM",
        "outputId": "ddac6154-a04c-4f4d-ae99-4ec713a72590"
      },
      "execution_count": 4,
      "outputs": [
        {
          "output_type": "stream",
          "name": "stdout",
          "text": [
            "['computer', 'physics', 'chemistry', 'math', 'english']\n"
          ]
        }
      ]
    },
    {
      "cell_type": "code",
      "source": [
        "course[0]"
      ],
      "metadata": {
        "colab": {
          "base_uri": "https://localhost:8080/",
          "height": 36
        },
        "id": "mTpMrYGS7nNR",
        "outputId": "1c6cbea8-eba3-41f7-a7f6-73e9fc456bf8"
      },
      "execution_count": 5,
      "outputs": [
        {
          "output_type": "execute_result",
          "data": {
            "text/plain": [
              "'computer'"
            ],
            "application/vnd.google.colaboratory.intrinsic+json": {
              "type": "string"
            }
          },
          "metadata": {},
          "execution_count": 5
        }
      ]
    },
    {
      "cell_type": "code",
      "source": [
        "course[-1]"
      ],
      "metadata": {
        "colab": {
          "base_uri": "https://localhost:8080/",
          "height": 36
        },
        "id": "c9UaIlBQ7uFO",
        "outputId": "a1e57bc1-4166-48f1-fc9c-709ccaadf678"
      },
      "execution_count": 6,
      "outputs": [
        {
          "output_type": "execute_result",
          "data": {
            "text/plain": [
              "'english'"
            ],
            "application/vnd.google.colaboratory.intrinsic+json": {
              "type": "string"
            }
          },
          "metadata": {},
          "execution_count": 6
        }
      ]
    },
    {
      "cell_type": "code",
      "source": [
        "course[2] = \"urdu\"\n",
        "print(course)"
      ],
      "metadata": {
        "colab": {
          "base_uri": "https://localhost:8080/"
        },
        "id": "mBihCf1K8EGc",
        "outputId": "73758162-1ef7-4ac6-c5c7-0035cac60446"
      },
      "execution_count": 7,
      "outputs": [
        {
          "output_type": "stream",
          "name": "stdout",
          "text": [
            "['computer', 'physics', 'urdu', 'math', 'english']\n"
          ]
        }
      ]
    },
    {
      "cell_type": "markdown",
      "source": [
        "4. Slicing"
      ],
      "metadata": {
        "id": "Gj8_naQsoduJ"
      }
    },
    {
      "cell_type": "code",
      "source": [
        "course[0:4]"
      ],
      "metadata": {
        "colab": {
          "base_uri": "https://localhost:8080/"
        },
        "id": "m60tAnJp7vQ5",
        "outputId": "4e35aa46-21b8-4a51-e588-6360c45bd004"
      },
      "execution_count": 8,
      "outputs": [
        {
          "output_type": "execute_result",
          "data": {
            "text/plain": [
              "['computer', 'physics', 'urdu', 'math']"
            ]
          },
          "metadata": {},
          "execution_count": 8
        }
      ]
    },
    {
      "cell_type": "code",
      "source": [
        "course[0:4:2]"
      ],
      "metadata": {
        "colab": {
          "base_uri": "https://localhost:8080/"
        },
        "id": "Y7uMLDl4l92T",
        "outputId": "82e06f77-11f1-4d3a-fbcb-c99232330e90"
      },
      "execution_count": 9,
      "outputs": [
        {
          "output_type": "execute_result",
          "data": {
            "text/plain": [
              "['computer', 'urdu']"
            ]
          },
          "metadata": {},
          "execution_count": 9
        }
      ]
    },
    {
      "cell_type": "code",
      "source": [
        "course[0::2]"
      ],
      "metadata": {
        "colab": {
          "base_uri": "https://localhost:8080/"
        },
        "id": "9O11LGkun3hE",
        "outputId": "1a3f3202-6b39-4b47-886c-257dbea472f4"
      },
      "execution_count": 10,
      "outputs": [
        {
          "output_type": "execute_result",
          "data": {
            "text/plain": [
              "['computer', 'urdu', 'english']"
            ]
          },
          "metadata": {},
          "execution_count": 10
        }
      ]
    },
    {
      "cell_type": "code",
      "source": [
        "course[::2]"
      ],
      "metadata": {
        "colab": {
          "base_uri": "https://localhost:8080/"
        },
        "id": "7BpSEz4vo1B9",
        "outputId": "b4e147cd-efa9-44cf-8264-8abaad5ab952"
      },
      "execution_count": 11,
      "outputs": [
        {
          "output_type": "execute_result",
          "data": {
            "text/plain": [
              "['computer', 'urdu', 'english']"
            ]
          },
          "metadata": {},
          "execution_count": 11
        }
      ]
    },
    {
      "cell_type": "code",
      "source": [
        "course[-2::-1]"
      ],
      "metadata": {
        "colab": {
          "base_uri": "https://localhost:8080/"
        },
        "id": "nPM3jkfWpGRG",
        "outputId": "9b71832d-1d6f-4501-b70b-e2345d5e2fbf"
      },
      "execution_count": 12,
      "outputs": [
        {
          "output_type": "execute_result",
          "data": {
            "text/plain": [
              "['math', 'urdu', 'physics', 'computer']"
            ]
          },
          "metadata": {},
          "execution_count": 12
        }
      ]
    },
    {
      "cell_type": "code",
      "source": [
        "course[::-1]"
      ],
      "metadata": {
        "colab": {
          "base_uri": "https://localhost:8080/"
        },
        "id": "7wl6925e7vDM",
        "outputId": "58dce07e-fe22-4276-a4ef-147e76deefbe"
      },
      "execution_count": 13,
      "outputs": [
        {
          "output_type": "execute_result",
          "data": {
            "text/plain": [
              "['english', 'math', 'urdu', 'physics', 'computer']"
            ]
          },
          "metadata": {},
          "execution_count": 13
        }
      ]
    },
    {
      "cell_type": "markdown",
      "source": [
        "#Functions"
      ],
      "metadata": {
        "id": "mi8Cy2SDXXh4"
      }
    },
    {
      "cell_type": "markdown",
      "source": [
        "1. Append"
      ],
      "metadata": {
        "id": "8SdMQnJCAf_r"
      }
    },
    {
      "cell_type": "code",
      "source": [
        "students = [\"abdul subhan\",\"asad\",\"ameen\",\"umer\",\"ali\"]\n",
        "print(students)"
      ],
      "metadata": {
        "colab": {
          "base_uri": "https://localhost:8080/"
        },
        "id": "L2Drkv8CV3oP",
        "outputId": "3c7ac346-50e4-470a-b529-5ac3a1223759"
      },
      "execution_count": 14,
      "outputs": [
        {
          "output_type": "stream",
          "name": "stdout",
          "text": [
            "['abdul subhan', 'asad', 'ameen', 'umer', 'ali']\n"
          ]
        }
      ]
    },
    {
      "cell_type": "code",
      "source": [
        "students.append(\"saim\")\n",
        "print(students)"
      ],
      "metadata": {
        "colab": {
          "base_uri": "https://localhost:8080/"
        },
        "id": "kdvRpSh0CuNj",
        "outputId": "88637b06-1416-4efa-9745-310445265866"
      },
      "execution_count": 15,
      "outputs": [
        {
          "output_type": "stream",
          "name": "stdout",
          "text": [
            "['abdul subhan', 'asad', 'ameen', 'umer', 'ali', 'saim']\n"
          ]
        }
      ]
    },
    {
      "cell_type": "markdown",
      "source": [
        "2. Extend"
      ],
      "metadata": {
        "id": "U6fd1ay5Alw4"
      }
    },
    {
      "cell_type": "code",
      "source": [
        "students.extend([\"adan\", \"sejeel\"])\n",
        "print(students)"
      ],
      "metadata": {
        "colab": {
          "base_uri": "https://localhost:8080/"
        },
        "id": "u9znAJRmC4w3",
        "outputId": "0d767953-be44-45a9-956f-26b72e78e6ac"
      },
      "execution_count": 16,
      "outputs": [
        {
          "output_type": "stream",
          "name": "stdout",
          "text": [
            "['abdul subhan', 'asad', 'ameen', 'umer', 'ali', 'saim', 'adan', 'sejeel']\n"
          ]
        }
      ]
    },
    {
      "cell_type": "markdown",
      "source": [
        "3. Insert"
      ],
      "metadata": {
        "id": "fTIhYWrTB_N4"
      }
    },
    {
      "cell_type": "code",
      "source": [
        "students.insert(5, \"ashar\")\n",
        "print(students)"
      ],
      "metadata": {
        "colab": {
          "base_uri": "https://localhost:8080/"
        },
        "id": "t6Zz-8ypDSM7",
        "outputId": "8a98a850-ad01-430a-baa1-dcd60a5d214f"
      },
      "execution_count": 17,
      "outputs": [
        {
          "output_type": "stream",
          "name": "stdout",
          "text": [
            "['abdul subhan', 'asad', 'ameen', 'umer', 'ali', 'ashar', 'saim', 'adan', 'sejeel']\n"
          ]
        }
      ]
    },
    {
      "cell_type": "code",
      "source": [
        "del students[3]\n",
        "print(students)"
      ],
      "metadata": {
        "colab": {
          "base_uri": "https://localhost:8080/"
        },
        "id": "_BE2Q75k2uIk",
        "outputId": "b652b859-8858-4799-8ded-854dbe427520"
      },
      "execution_count": 18,
      "outputs": [
        {
          "output_type": "stream",
          "name": "stdout",
          "text": [
            "['abdul subhan', 'asad', 'ameen', 'ali', 'ashar', 'saim', 'adan', 'sejeel']\n"
          ]
        }
      ]
    },
    {
      "cell_type": "markdown",
      "source": [
        "4. Remove"
      ],
      "metadata": {
        "id": "1jyBEvELDnby"
      }
    },
    {
      "cell_type": "code",
      "source": [
        "students.remove(\"asad\")\n",
        "print(students)"
      ],
      "metadata": {
        "colab": {
          "base_uri": "https://localhost:8080/"
        },
        "id": "CiI9Y6XKDrAM",
        "outputId": "768ecaff-0331-44e9-c91b-f5e1e5b3f58a"
      },
      "execution_count": 19,
      "outputs": [
        {
          "output_type": "stream",
          "name": "stdout",
          "text": [
            "['abdul subhan', 'ameen', 'ali', 'ashar', 'saim', 'adan', 'sejeel']\n"
          ]
        }
      ]
    },
    {
      "cell_type": "markdown",
      "source": [
        "5. Pop"
      ],
      "metadata": {
        "id": "qm_IOyW4EeAc"
      }
    },
    {
      "cell_type": "code",
      "source": [
        "students.pop()\n",
        "print(students)"
      ],
      "metadata": {
        "colab": {
          "base_uri": "https://localhost:8080/"
        },
        "id": "bUFXeZCzErE-",
        "outputId": "c038fc33-a863-4d33-c7d1-05297dbbf7ef"
      },
      "execution_count": 20,
      "outputs": [
        {
          "output_type": "stream",
          "name": "stdout",
          "text": [
            "['abdul subhan', 'ameen', 'ali', 'ashar', 'saim', 'adan']\n"
          ]
        }
      ]
    },
    {
      "cell_type": "markdown",
      "source": [
        "6. Clear"
      ],
      "metadata": {
        "id": "d951wCaxFKFg"
      }
    },
    {
      "cell_type": "code",
      "source": [
        "students.clear()\n",
        "print(students)"
      ],
      "metadata": {
        "colab": {
          "base_uri": "https://localhost:8080/"
        },
        "id": "kC92_d66FNcJ",
        "outputId": "b4925bf0-363b-4add-cdb6-45032f350630"
      },
      "execution_count": 21,
      "outputs": [
        {
          "output_type": "stream",
          "name": "stdout",
          "text": [
            "[]\n"
          ]
        }
      ]
    },
    {
      "cell_type": "markdown",
      "source": [
        "7. Index"
      ],
      "metadata": {
        "id": "Bh19WxbUFjta"
      }
    },
    {
      "cell_type": "code",
      "source": [
        "numbers = [0, 8, 2, 6, 4, 9, 1, 7, 3, 5]"
      ],
      "metadata": {
        "id": "30iFD0YHkPXO"
      },
      "execution_count": 22,
      "outputs": []
    },
    {
      "cell_type": "code",
      "source": [
        "num = numbers.index(7)\n",
        "print(num)"
      ],
      "metadata": {
        "colab": {
          "base_uri": "https://localhost:8080/"
        },
        "id": "wpzMnGWSFx4b",
        "outputId": "bdd2f87f-606d-42af-ff73-ad7e79afd6d8"
      },
      "execution_count": 23,
      "outputs": [
        {
          "output_type": "stream",
          "name": "stdout",
          "text": [
            "7\n"
          ]
        }
      ]
    },
    {
      "cell_type": "markdown",
      "source": [
        "8. Count"
      ],
      "metadata": {
        "id": "8gTImXTLJi0v"
      }
    },
    {
      "cell_type": "code",
      "source": [
        "num = numbers.count(4)\n",
        "print(num)"
      ],
      "metadata": {
        "colab": {
          "base_uri": "https://localhost:8080/"
        },
        "id": "vlSZCN63Jl6t",
        "outputId": "9ea0d1b6-e1d4-49a3-edfe-f74755116b35"
      },
      "execution_count": 24,
      "outputs": [
        {
          "output_type": "stream",
          "name": "stdout",
          "text": [
            "1\n"
          ]
        }
      ]
    },
    {
      "cell_type": "markdown",
      "source": [
        "9. Sort"
      ],
      "metadata": {
        "id": "XnFAB8pSP3Hx"
      }
    },
    {
      "cell_type": "code",
      "source": [
        "numbers.sort()\n",
        "print(numbers)\n",
        "\n",
        "numbers.sort(reverse = True)\n",
        "print(numbers)"
      ],
      "metadata": {
        "colab": {
          "base_uri": "https://localhost:8080/"
        },
        "id": "FGg-orkFR6pu",
        "outputId": "91af61bf-b448-42d1-9f75-714dda539e2e"
      },
      "execution_count": 25,
      "outputs": [
        {
          "output_type": "stream",
          "name": "stdout",
          "text": [
            "[0, 1, 2, 3, 4, 5, 6, 7, 8, 9]\n",
            "[9, 8, 7, 6, 5, 4, 3, 2, 1, 0]\n"
          ]
        }
      ]
    },
    {
      "cell_type": "markdown",
      "source": [
        "10. Reverse"
      ],
      "metadata": {
        "id": "0psX6Oj9Qwn4"
      }
    },
    {
      "cell_type": "code",
      "source": [
        "numbers.reverse()\n",
        "print(numbers)"
      ],
      "metadata": {
        "colab": {
          "base_uri": "https://localhost:8080/"
        },
        "id": "FS8nYDolR-kb",
        "outputId": "9fcf3f53-b23b-42ca-fab5-cc99b53bf37a"
      },
      "execution_count": 26,
      "outputs": [
        {
          "output_type": "stream",
          "name": "stdout",
          "text": [
            "[0, 1, 2, 3, 4, 5, 6, 7, 8, 9]\n"
          ]
        }
      ]
    },
    {
      "cell_type": "markdown",
      "source": [
        "11. Copy"
      ],
      "metadata": {
        "id": "lOo85UkqWTW6"
      }
    },
    {
      "cell_type": "code",
      "source": [
        "numbers.copy()\n",
        "print(numbers)"
      ],
      "metadata": {
        "colab": {
          "base_uri": "https://localhost:8080/"
        },
        "id": "rPkeWvaaWcIB",
        "outputId": "ac87f15b-da52-4ef7-a489-a9e4f8f0b44f"
      },
      "execution_count": 27,
      "outputs": [
        {
          "output_type": "stream",
          "name": "stdout",
          "text": [
            "[0, 1, 2, 3, 4, 5, 6, 7, 8, 9]\n"
          ]
        }
      ]
    },
    {
      "cell_type": "markdown",
      "source": [
        " 12. Len"
      ],
      "metadata": {
        "id": "VjLPLnkoW2Lz"
      }
    },
    {
      "cell_type": "code",
      "source": [
        "num = len(numbers)\n",
        "print(num)"
      ],
      "metadata": {
        "colab": {
          "base_uri": "https://localhost:8080/"
        },
        "id": "1R_3PWZkW7eA",
        "outputId": "12434399-07e8-41e3-d0e1-e30a4a2c1a97"
      },
      "execution_count": 28,
      "outputs": [
        {
          "output_type": "stream",
          "name": "stdout",
          "text": [
            "10\n"
          ]
        }
      ]
    },
    {
      "cell_type": "markdown",
      "source": [
        "13. Max"
      ],
      "metadata": {
        "id": "M15YNz1EeG4o"
      }
    },
    {
      "cell_type": "code",
      "source": [
        "num = max(numbers)\n",
        "print(num)"
      ],
      "metadata": {
        "colab": {
          "base_uri": "https://localhost:8080/"
        },
        "id": "IV3ghLBveOYz",
        "outputId": "8fcc58f2-a14d-4043-eede-2e1b53cd81c7"
      },
      "execution_count": 29,
      "outputs": [
        {
          "output_type": "stream",
          "name": "stdout",
          "text": [
            "9\n"
          ]
        }
      ]
    },
    {
      "cell_type": "markdown",
      "source": [
        "14. Min"
      ],
      "metadata": {
        "id": "d3IeB8kOeua6"
      }
    },
    {
      "cell_type": "code",
      "source": [
        "num = min(numbers)\n",
        "print(num)"
      ],
      "metadata": {
        "colab": {
          "base_uri": "https://localhost:8080/"
        },
        "id": "NArkWuTWezDK",
        "outputId": "c5662472-8057-4ec1-bccd-2aa5a382968d"
      },
      "execution_count": 30,
      "outputs": [
        {
          "output_type": "stream",
          "name": "stdout",
          "text": [
            "0\n"
          ]
        }
      ]
    },
    {
      "cell_type": "markdown",
      "source": [
        "15. Sum"
      ],
      "metadata": {
        "id": "wAJgRstUe__n"
      }
    },
    {
      "cell_type": "code",
      "source": [
        "num = sum(numbers)\n",
        "print(num)"
      ],
      "metadata": {
        "colab": {
          "base_uri": "https://localhost:8080/"
        },
        "id": "tKarp2XnfFz2",
        "outputId": "c38866e7-01ef-48ba-99d7-2143de92aa3c"
      },
      "execution_count": 31,
      "outputs": [
        {
          "output_type": "stream",
          "name": "stdout",
          "text": [
            "45\n"
          ]
        }
      ]
    },
    {
      "cell_type": "markdown",
      "source": [
        "16. Sorted"
      ],
      "metadata": {
        "id": "0tAIZfqcg8uZ"
      }
    },
    {
      "cell_type": "code",
      "source": [
        "num = sorted(numbers)\n",
        "print(num)\n",
        "\n",
        "num = sorted(numbers, reverse = True)\n",
        "print(num)"
      ],
      "metadata": {
        "colab": {
          "base_uri": "https://localhost:8080/"
        },
        "id": "DQ7nNGpvhYTW",
        "outputId": "7975a930-7216-4a7e-eaed-6e5233b4bdc1"
      },
      "execution_count": 32,
      "outputs": [
        {
          "output_type": "stream",
          "name": "stdout",
          "text": [
            "[0, 1, 2, 3, 4, 5, 6, 7, 8, 9]\n",
            "[9, 8, 7, 6, 5, 4, 3, 2, 1, 0]\n"
          ]
        }
      ]
    },
    {
      "cell_type": "markdown",
      "source": [
        "17. Any"
      ],
      "metadata": {
        "id": "54LdVCjVjWU1"
      }
    },
    {
      "cell_type": "code",
      "source": [
        "num = any(numbers)\n",
        "print(num)"
      ],
      "metadata": {
        "colab": {
          "base_uri": "https://localhost:8080/"
        },
        "id": "HAjBoUCajgO1",
        "outputId": "20239de3-accb-4d08-f7f7-4b88443460d3"
      },
      "execution_count": 33,
      "outputs": [
        {
          "output_type": "stream",
          "name": "stdout",
          "text": [
            "True\n"
          ]
        }
      ]
    },
    {
      "cell_type": "markdown",
      "source": [
        "18. All"
      ],
      "metadata": {
        "id": "jYLPCG1hjxMY"
      }
    },
    {
      "cell_type": "code",
      "source": [
        "num = all(numbers)\n",
        "print(num)"
      ],
      "metadata": {
        "colab": {
          "base_uri": "https://localhost:8080/"
        },
        "id": "k8xBX59-j0dY",
        "outputId": "5c617947-453a-4d17-ccaf-f646db50afca"
      },
      "execution_count": 34,
      "outputs": [
        {
          "output_type": "stream",
          "name": "stdout",
          "text": [
            "False\n"
          ]
        }
      ]
    }
  ]
}