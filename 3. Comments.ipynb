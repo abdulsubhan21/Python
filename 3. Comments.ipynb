{
  "nbformat": 4,
  "nbformat_minor": 0,
  "metadata": {
    "colab": {
      "provenance": []
    },
    "kernelspec": {
      "name": "python3",
      "display_name": "Python 3"
    },
    "language_info": {
      "name": "python"
    }
  },
  "cells": [
    {
      "cell_type": "markdown",
      "source": [
        "#Comment"
      ],
      "metadata": {
        "id": "sYbYqnpjehwy"
      }
    },
    {
      "cell_type": "code",
      "source": [
        "# This is Comment"
      ],
      "metadata": {
        "id": "XDN7RKC2ogH6"
      },
      "execution_count": 1,
      "outputs": []
    }
  ]
}