{
  "nbformat": 4,
  "nbformat_minor": 0,
  "metadata": {
    "colab": {
      "provenance": []
    },
    "kernelspec": {
      "name": "python3",
      "display_name": "Python 3"
    },
    "language_info": {
      "name": "python"
    }
  },
  "cells": [
    {
      "cell_type": "markdown",
      "source": [
        "# If Elif Else Nested Statement"
      ],
      "metadata": {
        "id": "i4prvnazOk28"
      }
    },
    {
      "cell_type": "markdown",
      "source": [
        "#1. If"
      ],
      "metadata": {
        "id": "Y6uHoSxoNtTK"
      }
    },
    {
      "cell_type": "code",
      "source": [
        "num = int(input(\"Enter the Number:\"))\n",
        "\n",
        "if num % 2 == 0:\n",
        "   print(\"Even Number\")"
      ],
      "metadata": {
        "colab": {
          "base_uri": "https://localhost:8080/"
        },
        "id": "dUmtuLwoNeCY",
        "outputId": "83282be6-927c-443e-9874-26131c8a447c"
      },
      "execution_count": null,
      "outputs": [
        {
          "output_type": "stream",
          "name": "stdout",
          "text": [
            "Enter the Number:4\n",
            "Even Number\n"
          ]
        }
      ]
    },
    {
      "cell_type": "markdown",
      "source": [
        "#2. If Else"
      ],
      "metadata": {
        "id": "TPARr8QON-00"
      }
    },
    {
      "cell_type": "code",
      "execution_count": null,
      "metadata": {
        "colab": {
          "base_uri": "https://localhost:8080/"
        },
        "id": "x9RB0xdJ4nld",
        "outputId": "1a4a9c6f-3831-46af-a88a-2a6d04c0b9ac"
      },
      "outputs": [
        {
          "output_type": "stream",
          "name": "stdout",
          "text": [
            "Enter the Number:5\n",
            "Odd Number\n"
          ]
        }
      ],
      "source": [
        "num = int(input(\"Enter the Number:\"))\n",
        "\n",
        "if num % 2 == 0:\n",
        "   print(\"Even Number\")\n",
        "else:\n",
        "     print(\"Odd Number\")"
      ]
    },
    {
      "cell_type": "markdown",
      "source": [
        "#3. If Elif Else"
      ],
      "metadata": {
        "id": "iJKcaCGNOIlq"
      }
    },
    {
      "cell_type": "code",
      "source": [
        "per = int(input(\"Enter the value\"))\n",
        "\n",
        "if per >= 80:\n",
        "    print(\"A+ Grade\")\n",
        "elif per >= 70:\n",
        "    print(\"A Grade\")\n",
        "elif per >= 60:\n",
        "    print(\"B Grade\")\n",
        "elif per >= 50:\n",
        "    print(\"C Grade\")\n",
        "elif per >= 40:\n",
        "    print(\"D Grade\")\n",
        "else:\n",
        "    print(\"Fail\")"
      ],
      "metadata": {
        "colab": {
          "base_uri": "https://localhost:8080/"
        },
        "id": "5SYXVQ_B5UnY",
        "outputId": "83dff38d-e635-40e3-c346-0e268c2fcef9"
      },
      "execution_count": null,
      "outputs": [
        {
          "output_type": "stream",
          "name": "stdout",
          "text": [
            "Enter the value39\n",
            "Fail\n"
          ]
        }
      ]
    },
    {
      "cell_type": "markdown",
      "source": [
        "#4. Nested If Elif Else"
      ],
      "metadata": {
        "id": "xOEwh6ZaQg2O"
      }
    },
    {
      "cell_type": "code",
      "source": [
        "email = input(\"Enter Your Email: \")\n",
        "password = input(\"Enter Your passowrd: \")\n",
        "\n",
        "if email == \"abdulsubhan@gmail.com\" and password == \"subhan\":\n",
        "   print(\"Welcome\")\n",
        "elif email == \"abdulsubhan@gmail.com\" and password != \"subhan\":\n",
        "     print(\"Password Incorrect\")\n",
        "     password = input(\"Re-enter Your Password\")\n",
        "     if password == \"subhan\":\n",
        "        print(\"Finally correct\")\n",
        "     else:\n",
        "          print(\"Still incorrect\")\n",
        "else:\n",
        "     print(\"Incorrect credentials\")"
      ],
      "metadata": {
        "colab": {
          "base_uri": "https://localhost:8080/"
        },
        "id": "xgsmcCJlOUpo",
        "outputId": "70399240-0bad-49d0-f672-20a4743377df"
      },
      "execution_count": null,
      "outputs": [
        {
          "output_type": "stream",
          "name": "stdout",
          "text": [
            "Enter Your Email: abdulsubhan@gmail.com\n",
            "Enter Your passowrd: 12345\n",
            "Password Incorrect\n",
            "Re-enter Your Passwordsubhan\n",
            "Finally correct\n"
          ]
        }
      ]
    }
  ]
}