{
  "nbformat": 4,
  "nbformat_minor": 0,
  "metadata": {
    "colab": {
      "provenance": []
    },
    "kernelspec": {
      "name": "python3",
      "display_name": "Python 3"
    },
    "language_info": {
      "name": "python"
    }
  },
  "cells": [
    {
      "cell_type": "markdown",
      "source": [
        "# If Elif Else Nested Statement"
      ],
      "metadata": {
        "id": "i4prvnazOk28"
      }
    },
    {
      "cell_type": "markdown",
      "source": [
        "#1. If"
      ],
      "metadata": {
        "id": "Y6uHoSxoNtTK"
      }
    },
    {
      "cell_type": "code",
      "source": [
        "num = int(input(\"Enter the Number: \"))\n",
        "\n",
        "if num % 2 == 0:\n",
        "   print(\"Even Number\")"
      ],
      "metadata": {
        "colab": {
          "base_uri": "https://localhost:8080/"
        },
        "id": "dUmtuLwoNeCY",
        "outputId": "ffc02c53-b88b-429f-e829-fb0749be32f5"
      },
      "execution_count": 1,
      "outputs": [
        {
          "name": "stdout",
          "output_type": "stream",
          "text": [
            "Enter the Number: 5\n"
          ]
        }
      ]
    },
    {
      "cell_type": "markdown",
      "source": [
        "#2. If Else"
      ],
      "metadata": {
        "id": "TPARr8QON-00"
      }
    },
    {
      "cell_type": "code",
      "execution_count": 2,
      "metadata": {
        "colab": {
          "base_uri": "https://localhost:8080/"
        },
        "id": "x9RB0xdJ4nld",
        "outputId": "445ab857-06e5-4b13-f8c4-864e3b6cd731"
      },
      "outputs": [
        {
          "output_type": "stream",
          "name": "stdout",
          "text": [
            "Enter the Number:5\n",
            "Odd Number\n"
          ]
        }
      ],
      "source": [
        "num = int(input(\"Enter the Number:\"))\n",
        "\n",
        "if num % 2 == 0:\n",
        "   print(\"Even Number\")\n",
        "else:\n",
        "     print(\"Odd Number\")"
      ]
    },
    {
      "cell_type": "markdown",
      "source": [
        "#3. If Elif Else"
      ],
      "metadata": {
        "id": "iJKcaCGNOIlq"
      }
    },
    {
      "cell_type": "code",
      "source": [
        "per = int(input(\"Enter the Pecentage: \"))\n",
        "\n",
        "if per >= 80:\n",
        "    print(\"A+ Grade\")\n",
        "elif per >= 70:\n",
        "    print(\"A Grade\")\n",
        "elif per >= 60:\n",
        "    print(\"B Grade\")\n",
        "elif per >= 50:\n",
        "    print(\"C Grade\")\n",
        "elif per >= 40:\n",
        "    print(\"D Grade\")\n",
        "else:\n",
        "    print(\"Fail\")"
      ],
      "metadata": {
        "colab": {
          "base_uri": "https://localhost:8080/"
        },
        "id": "5SYXVQ_B5UnY",
        "outputId": "e529d1e4-5ef4-4528-d480-6d507c653440"
      },
      "execution_count": 3,
      "outputs": [
        {
          "output_type": "stream",
          "name": "stdout",
          "text": [
            "Enter the Pecentage: 79\n",
            "A Grade\n"
          ]
        }
      ]
    },
    {
      "cell_type": "markdown",
      "source": [
        "#4. Nested If Elif Else"
      ],
      "metadata": {
        "id": "xOEwh6ZaQg2O"
      }
    },
    {
      "cell_type": "code",
      "source": [
        "email = input(\"Enter the email: \")\n",
        "password = input(\"Enter the password: \")\n",
        "\n",
        "if email == \"abdulsubhan@gmail.com\" and password == \"Subhan\":\n",
        "   print(\"Welcome\")\n",
        "\n",
        "elif email != \"abdulsubhan@gmail.com\" and password == \"Subhan\":\n",
        "     print(\"Email is incorrect\")\n",
        "     email = input(\"Re-enter the email: \")\n",
        "     if email == \"abdulsubhan@gmail.com\":\n",
        "        print(\"Finally email is correct\")\n",
        "     else:\n",
        "          print(\"Email is still incorrect\")\n",
        "\n",
        "elif email == \"abdulsubhan@gmail.com\" and password != \"Subhan\":\n",
        "     print(\"Password is incorrect\")\n",
        "     password = input(\"Re-enter the password: \")\n",
        "     if password == \"Subhan\":\n",
        "        print(\"Finally password is correct\")\n",
        "     else:\n",
        "          print(\"Password is still incorrect\")\n",
        "\n",
        "else:\n",
        "     print(\"Email and password both are incorrect\")"
      ],
      "metadata": {
        "colab": {
          "base_uri": "https://localhost:8080/"
        },
        "id": "xgsmcCJlOUpo",
        "outputId": "aac6fb29-e63d-45bf-dec0-bc1a9f4ed771"
      },
      "execution_count": 4,
      "outputs": [
        {
          "output_type": "stream",
          "name": "stdout",
          "text": [
            "Enter the email: abdulsubhan@gmail.com\n",
            "Enter the password: Subhan\n",
            "Welcome\n"
          ]
        }
      ]
    }
  ]
}