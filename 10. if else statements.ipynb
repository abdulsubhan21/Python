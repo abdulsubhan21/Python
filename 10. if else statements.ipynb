{
  "nbformat": 4,
  "nbformat_minor": 0,
  "metadata": {
    "colab": {
      "provenance": [],
      "collapsed_sections": [
        "Y6uHoSxoNtTK",
        "TPARr8QON-00",
        "iJKcaCGNOIlq",
        "xOEwh6ZaQg2O"
      ]
    },
    "kernelspec": {
      "name": "python3",
      "display_name": "Python 3"
    },
    "language_info": {
      "name": "python"
    }
  },
  "cells": [
    {
      "cell_type": "markdown",
      "source": [
        "# If Elif Else Nested Statement"
      ],
      "metadata": {
        "id": "i4prvnazOk28"
      }
    },
    {
      "cell_type": "markdown",
      "source": [
        "#1. If"
      ],
      "metadata": {
        "id": "Y6uHoSxoNtTK"
      }
    },
    {
      "cell_type": "code",
      "source": [
        "num = int(input(\"Enter the Number: \"))\n",
        "\n",
        "if num % 2 == 0:\n",
        "   print(\"Even Number\")"
      ],
      "metadata": {
        "colab": {
          "base_uri": "https://localhost:8080/"
        },
        "id": "dUmtuLwoNeCY",
        "outputId": "1dc07519-1dcf-4ec4-9576-bfabaddab9ce"
      },
      "execution_count": 1,
      "outputs": [
        {
          "name": "stdout",
          "output_type": "stream",
          "text": [
            "Enter the Number: 5\n"
          ]
        }
      ]
    },
    {
      "cell_type": "markdown",
      "source": [
        "#2. If Else"
      ],
      "metadata": {
        "id": "TPARr8QON-00"
      }
    },
    {
      "cell_type": "code",
      "execution_count": 2,
      "metadata": {
        "colab": {
          "base_uri": "https://localhost:8080/"
        },
        "id": "x9RB0xdJ4nld",
        "outputId": "ba0e780d-5025-48e7-c450-88c2081958ae"
      },
      "outputs": [
        {
          "output_type": "stream",
          "name": "stdout",
          "text": [
            "Enter the Number:5\n",
            "Odd Number\n"
          ]
        }
      ],
      "source": [
        "num = int(input(\"Enter the Number:\"))\n",
        "\n",
        "if num % 2 == 0:\n",
        "   print(\"Even Number\")\n",
        "else:\n",
        "     print(\"Odd Number\")"
      ]
    },
    {
      "cell_type": "markdown",
      "source": [
        "#3. If Elif Else"
      ],
      "metadata": {
        "id": "iJKcaCGNOIlq"
      }
    },
    {
      "cell_type": "code",
      "source": [
        "per = int(input(\"Enter the Pecentage: \"))\n",
        "\n",
        "if per >= 80:\n",
        "    print(\"A+ Grade\")\n",
        "elif per >= 70:\n",
        "    print(\"A Grade\")\n",
        "elif per >= 60:\n",
        "    print(\"B Grade\")\n",
        "elif per >= 50:\n",
        "    print(\"C Grade\")\n",
        "elif per >= 40:\n",
        "    print(\"D Grade\")\n",
        "else:\n",
        "    print(\"Fail\")"
      ],
      "metadata": {
        "colab": {
          "base_uri": "https://localhost:8080/"
        },
        "id": "5SYXVQ_B5UnY",
        "outputId": "bfc70f28-74a9-4da0-db36-91ba9f07edb5"
      },
      "execution_count": 3,
      "outputs": [
        {
          "output_type": "stream",
          "name": "stdout",
          "text": [
            "Enter the Pecentage: 79\n",
            "A Grade\n"
          ]
        }
      ]
    },
    {
      "cell_type": "markdown",
      "source": [
        "#4. Nested If Elif Else"
      ],
      "metadata": {
        "id": "xOEwh6ZaQg2O"
      }
    },
    {
      "cell_type": "code",
      "source": [
        "email = input(\"Enter the email: \")\n",
        "password = input(\"Enter the password: \")\n",
        "\n",
        "if email == \"abdulsubhan@gmail.com\" and password == \"Subhan\":\n",
        "   print(\"Welcome\")\n",
        "\n",
        "elif email != \"abdulsubhan@gmail.com\" and password == \"Subhan\":\n",
        "     print(\"Email is incorrect\")\n",
        "     email = input(\"Re-enter the email: \")\n",
        "     if email == \"abdulsubhan@gmail.com\":\n",
        "        print(\"Finally email is correct\")\n",
        "     else:\n",
        "          print(\"Email is still incorrect\")\n",
        "\n",
        "elif email == \"abdulsubhan@gmail.com\" and password != \"Subhan\":\n",
        "     print(\"Password is incorrect\")\n",
        "     password = input(\"Re-enter the password: \")\n",
        "     if password == \"Subhan\":\n",
        "        print(\"Finally password is correct\")\n",
        "     else:\n",
        "          print(\"Password is still incorrect\")\n",
        "\n",
        "else:\n",
        "     print(\"Email and password both are incorrect\")"
      ],
      "metadata": {
        "colab": {
          "base_uri": "https://localhost:8080/"
        },
        "id": "xgsmcCJlOUpo",
        "outputId": "578918bb-de85-43c6-80ec-b4c5b761c5f8"
      },
      "execution_count": 5,
      "outputs": [
        {
          "output_type": "stream",
          "name": "stdout",
          "text": [
            "Enter the email: abdulsubhan@gmail.com\n",
            "Enter the password: Subhan\n",
            "Welcome\n"
          ]
        }
      ]
    }
  ]
}