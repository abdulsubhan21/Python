{
  "nbformat": 4,
  "nbformat_minor": 0,
  "metadata": {
    "colab": {
      "provenance": [],
      "collapsed_sections": [
        "fXSYEYsQ6exg",
        "F9HpDmEk0MsN",
        "g0DekQLGm1GP",
        "pxkDisRbnDll",
        "Y0tTsBsJrk2e",
        "n6FiB9X4y-K7"
      ]
    },
    "kernelspec": {
      "name": "python3",
      "display_name": "Python 3"
    },
    "language_info": {
      "name": "python"
    }
  },
  "cells": [
    {
      "cell_type": "markdown",
      "source": [
        "# File Hadling"
      ],
      "metadata": {
        "id": "DFeeD8JtLloH"
      }
    },
    {
      "cell_type": "markdown",
      "source": [
        "# Text File Handling"
      ],
      "metadata": {
        "id": "l5vVdU2JY5jk"
      }
    },
    {
      "cell_type": "markdown",
      "source": [
        "# Read Functions"
      ],
      "metadata": {
        "id": "fXSYEYsQ6exg"
      }
    },
    {
      "cell_type": "markdown",
      "source": [
        "Read Function"
      ],
      "metadata": {
        "id": "t9K1C9Hk6tli"
      }
    },
    {
      "cell_type": "code",
      "execution_count": null,
      "metadata": {
        "id": "oJfuAEKhBLrA"
      },
      "outputs": [],
      "source": [
        "fh_1 = open(r\"/content/Text File Handling Read.txt\", \"r\")\n",
        "\n",
        "fun_1 = fh_1.read()\n",
        "\n",
        "print(fun_1)"
      ]
    },
    {
      "cell_type": "markdown",
      "source": [
        "Readline Function"
      ],
      "metadata": {
        "id": "ZW7soxZM7A4n"
      }
    },
    {
      "cell_type": "code",
      "source": [
        "fh_2 = open(r\"/content/Text File Handling Readline.txt\", \"r\")\n",
        "\n",
        "fun_2 = fh_2.readline()\n",
        "\n",
        "print(fun_2)\n",
        "\n",
        "fun_2 = fh_2.readline()\n",
        "\n",
        "print(fun_2)"
      ],
      "metadata": {
        "id": "-h5GKcpZ6-y2"
      },
      "execution_count": null,
      "outputs": []
    },
    {
      "cell_type": "markdown",
      "source": [
        "Readlines Function"
      ],
      "metadata": {
        "id": "dEJXDAJw72KE"
      }
    },
    {
      "cell_type": "code",
      "source": [
        "fh_3 = open(r\"/content/Text File Handling Readlines.txt\", \"r\")\n",
        "\n",
        "fun_3 = fh_3.readlines()\n",
        "\n",
        "for i in fun_3:\n",
        "  print(i)"
      ],
      "metadata": {
        "id": "eg72tkzA75oB"
      },
      "execution_count": null,
      "outputs": []
    },
    {
      "cell_type": "markdown",
      "source": [
        "# Write Functions"
      ],
      "metadata": {
        "id": "F9HpDmEk0MsN"
      }
    },
    {
      "cell_type": "markdown",
      "source": [
        "Write Function"
      ],
      "metadata": {
        "id": "RgdOh5G-0S6-"
      }
    },
    {
      "cell_type": "code",
      "source": [
        "fh_4 = open(r\"/content/Text File Handling Readlines.txt\",\"w\")\n",
        "\n",
        "fun_4 = fh_4.write(\"Hello World! \\n\")\n",
        "fun_4 = fh_4.write(\"This is fourth python program.\")\n",
        "\n",
        "fh_4.close()"
      ],
      "metadata": {
        "id": "5wgPmdh7Ddjs"
      },
      "execution_count": 4,
      "outputs": []
    },
    {
      "cell_type": "markdown",
      "source": [
        "Writelines Function"
      ],
      "metadata": {
        "id": "Tv4q1C1-MXhD"
      }
    },
    {
      "cell_type": "code",
      "source": [
        "fh_5 = open(r\"/content/Text File Handling Writelines.txt\",\"w\")\n",
        "\n",
        "fun_5 = fh_5.writelines([\"Hello World! \\n\", \"This is fifth python program.\"])\n",
        "\n",
        "fh_5.close()"
      ],
      "metadata": {
        "id": "0kz0SfIuJ3_h"
      },
      "execution_count": 5,
      "outputs": []
    },
    {
      "cell_type": "markdown",
      "source": [
        "Append Functions"
      ],
      "metadata": {
        "id": "Fl2bBoc32gNU"
      }
    },
    {
      "cell_type": "markdown",
      "source": [
        "Write Function"
      ],
      "metadata": {
        "id": "CCtnEg8K3mXG"
      }
    },
    {
      "cell_type": "code",
      "source": [
        "fh_6 = open(r\"/content/Text File Handling Write.txt\",\"a\")\n",
        "\n",
        "fun_6 = fh_6.write(\"\\nThis is sixth python program. \\n\")\n",
        "fun_6 = fh_6.write(\"Not a fifth\")\n",
        "\n",
        "fh_6.close()"
      ],
      "metadata": {
        "id": "DXLXMhZc3qbZ"
      },
      "execution_count": 6,
      "outputs": []
    },
    {
      "cell_type": "markdown",
      "source": [
        "Writelines Function"
      ],
      "metadata": {
        "id": "BOmdNhTG9Dz5"
      }
    },
    {
      "cell_type": "code",
      "source": [
        "fh_6 = open(r\"/content/Text File Handling Writelines.txt\",\"a\")\n",
        "\n",
        "fun_6 = fh_6.writelines([\"\\nThis is seventh python program. \\n\", \"Not a sixth\"])\n",
        "\n",
        "fh_6.close()"
      ],
      "metadata": {
        "id": "mEWQ3nMQ9L6N"
      },
      "execution_count": 7,
      "outputs": []
    },
    {
      "cell_type": "markdown",
      "source": [
        "# Binary File Handling"
      ],
      "metadata": {
        "id": "S2fxVnZdZFBc"
      }
    },
    {
      "cell_type": "markdown",
      "source": [
        "# Write Functions"
      ],
      "metadata": {
        "id": "g0DekQLGm1GP"
      }
    },
    {
      "cell_type": "markdown",
      "source": [
        "Dump Function"
      ],
      "metadata": {
        "id": "XEjlRzH3ymPU"
      }
    },
    {
      "cell_type": "code",
      "source": [
        "import pickle\n",
        "\n",
        "fh_6 = open(r\"/content/Binary File Handling Write and Read.dat\",\"wb\")\n",
        "\n",
        "integer = 5\n",
        "float = 5.5\n",
        "string = \"Hello World\"\n",
        "complex = 5 + 5j\n",
        "boolean = True\n",
        "list = [1, 2, 3, 4, 5]\n",
        "tuple = (1, 2, 3, 4, 5)\n",
        "sets = {1, 2, 3, 4, 5}\n",
        "dictionary = {1:\"A\", 2:\"B\", 3:\"C\", 4:\"D\", 5:\"E\"}\n",
        "\n",
        "pickle.dump(integer, fh_6)\n",
        "pickle.dump(float, fh_6)\n",
        "pickle.dump(string, fh_6)\n",
        "pickle.dump(complex, fh_6)\n",
        "pickle.dump(boolean, fh_6)\n",
        "pickle.dump(list, fh_6)\n",
        "pickle.dump(tuple, fh_6)\n",
        "pickle.dump(sets, fh_6)\n",
        "pickle.dump(dictionary, fh_6)\n",
        "\n",
        "fh_6.close()"
      ],
      "metadata": {
        "id": "3dg5TzQmeWrL"
      },
      "execution_count": 8,
      "outputs": []
    },
    {
      "cell_type": "markdown",
      "source": [
        "# Read Functions"
      ],
      "metadata": {
        "id": "pxkDisRbnDll"
      }
    },
    {
      "cell_type": "markdown",
      "source": [
        "Load Function"
      ],
      "metadata": {
        "id": "Jb5NFwabyu2n"
      }
    },
    {
      "cell_type": "code",
      "source": [
        "import pickle\n",
        "\n",
        "fh_6 = open(r\"/content/Binary File Handling Write and Read.dat\",\"rb\")\n",
        "\n",
        "integer = pickle.load(fh_6)\n",
        "float = pickle.load(fh_6)\n",
        "string = pickle.load(fh_6)\n",
        "complex = pickle.load(fh_6)\n",
        "boolean = pickle.load(fh_6)\n",
        "list = pickle.load(fh_6)\n",
        "tuple = pickle.load(fh_6)\n",
        "sets = pickle.load(fh_6)\n",
        "dictionary = pickle.load(fh_6)\n",
        "\n",
        "print(integer)\n",
        "print(float)\n",
        "print(string)\n",
        "print(complex)\n",
        "print(boolean)\n",
        "print(list)\n",
        "print(tuple)\n",
        "print(sets)\n",
        "print(dictionary)"
      ],
      "metadata": {
        "colab": {
          "base_uri": "https://localhost:8080/"
        },
        "id": "8KZpipjdhlqS",
        "outputId": "e2e945f8-67a8-4c9d-c3f0-b3a436a2df56"
      },
      "execution_count": 9,
      "outputs": [
        {
          "output_type": "stream",
          "name": "stdout",
          "text": [
            "5\n",
            "5.5\n",
            "Hello World\n",
            "(5+5j)\n",
            "True\n",
            "[1, 2, 3, 4, 5]\n",
            "(1, 2, 3, 4, 5)\n",
            "{1, 2, 3, 4, 5}\n",
            "{1: 'A', 2: 'B', 3: 'C', 4: 'D', 5: 'E'}\n"
          ]
        }
      ]
    },
    {
      "cell_type": "markdown",
      "source": [
        "# CSV File Handling"
      ],
      "metadata": {
        "id": "1k0sOoDBrdav"
      }
    },
    {
      "cell_type": "markdown",
      "source": [
        "# Read Functions"
      ],
      "metadata": {
        "id": "Y0tTsBsJrk2e"
      }
    },
    {
      "cell_type": "markdown",
      "source": [
        "Reader Function"
      ],
      "metadata": {
        "id": "efFL7FmmyUiP"
      }
    },
    {
      "cell_type": "code",
      "source": [
        "import csv\n",
        "\n",
        "fh_7 = open(r\"/content/CSV File Handling Read.txt\",\"r\")\n",
        "\n",
        "fun_7 = csv.reader(fh_7, delimiter = \",\")\n",
        "\n",
        "for i in fun_7:\n",
        "  print(i)"
      ],
      "metadata": {
        "id": "heFW5VJBqYEd"
      },
      "execution_count": null,
      "outputs": []
    },
    {
      "cell_type": "markdown",
      "source": [
        "# Write Functions"
      ],
      "metadata": {
        "id": "5ZDn37sLyTUp"
      }
    },
    {
      "cell_type": "markdown",
      "source": [
        "# Writer Function"
      ],
      "metadata": {
        "id": "n6FiB9X4y-K7"
      }
    },
    {
      "cell_type": "markdown",
      "source": [
        "Writerow Function"
      ],
      "metadata": {
        "id": "WnIP-MuB9oeZ"
      }
    },
    {
      "cell_type": "code",
      "source": [
        "import csv\n",
        "\n",
        "fh_8 = open(r\"/content/CSV File Handling Write.txt\",\"w\")\n",
        "\n",
        "fun_8 = csv.writer(fh_8, delimiter = \",\")\n",
        "\n",
        "fun_8.writerow([1, 2, 3])\n",
        "fun_8.writerow([\"a\", \"b\", \"c\"])\n",
        "fun_8.writerow([\"!\", \"@\", \"#\"])\n",
        "\n",
        "fh_8.close()"
      ],
      "metadata": {
        "id": "GmV9TY54stBl"
      },
      "execution_count": 11,
      "outputs": []
    },
    {
      "cell_type": "markdown",
      "source": [
        "Writerows Function"
      ],
      "metadata": {
        "id": "QfCA-5pL9bR-"
      }
    },
    {
      "cell_type": "code",
      "source": [
        "import csv\n",
        "\n",
        "fh_8 = open(r\"/content/CSV File Handling Write.txt\",\"w\")\n",
        "\n",
        "fun_8 = csv.writer(fh_8, delimiter = \",\")\n",
        "\n",
        "fun_8.writerows([[1, 2, 3],\n",
        "                 [\"a\", \"b\", \"c\"],\n",
        "                 [\"!\", \"@\", \"#\"]])\n",
        "\n",
        "fh_8.close()"
      ],
      "metadata": {
        "id": "iJguSiZ7zp-D"
      },
      "execution_count": 12,
      "outputs": []
    }
  ]
}