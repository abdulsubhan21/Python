{
  "nbformat": 4,
  "nbformat_minor": 0,
  "metadata": {
    "colab": {
      "provenance": []
    },
    "kernelspec": {
      "name": "python3",
      "display_name": "Python 3"
    },
    "language_info": {
      "name": "python"
    }
  },
  "cells": [
    {
      "cell_type": "markdown",
      "source": [
        "# File Hadling"
      ],
      "metadata": {
        "id": "DFeeD8JtLloH"
      }
    },
    {
      "cell_type": "markdown",
      "source": [
        "# Text File Handling"
      ],
      "metadata": {
        "id": "l5vVdU2JY5jk"
      }
    },
    {
      "cell_type": "markdown",
      "source": [
        "# Read Functions"
      ],
      "metadata": {
        "id": "fXSYEYsQ6exg"
      }
    },
    {
      "cell_type": "markdown",
      "source": [
        "Read Function"
      ],
      "metadata": {
        "id": "t9K1C9Hk6tli"
      }
    },
    {
      "cell_type": "code",
      "execution_count": null,
      "metadata": {
        "colab": {
          "base_uri": "https://localhost:8080/"
        },
        "id": "oJfuAEKhBLrA",
        "outputId": "b359ca2b-ce0d-4984-f40e-a9cfbadcb47e"
      },
      "outputs": [
        {
          "output_type": "stream",
          "name": "stdout",
          "text": [
            "HELLO WORLD!\n",
            "This is first python program.\n"
          ]
        }
      ],
      "source": [
        "fh_1 = open(r\"/content/File Handling Read.txt\", \"r\")\n",
        "\n",
        "fun_1 = fh_1.read()\n",
        "\n",
        "print(fun_1)"
      ]
    },
    {
      "cell_type": "markdown",
      "source": [
        "Readline Function"
      ],
      "metadata": {
        "id": "ZW7soxZM7A4n"
      }
    },
    {
      "cell_type": "code",
      "source": [
        "fh_2 = open(r\"/content/File Handling Readline.txt\", \"r\")\n",
        "\n",
        "fun_2 = fh_2.readline()\n",
        "\n",
        "print(fun_2)\n",
        "\n",
        "fun_2 = fh_2.readline()\n",
        "\n",
        "print(fun_2)"
      ],
      "metadata": {
        "id": "-h5GKcpZ6-y2",
        "colab": {
          "base_uri": "https://localhost:8080/"
        },
        "outputId": "58684cfa-f9d1-4270-cc86-ee22b2583d47"
      },
      "execution_count": null,
      "outputs": [
        {
          "output_type": "stream",
          "name": "stdout",
          "text": [
            "Hello World!\n",
            "\n",
            "This is Second python program.\n"
          ]
        }
      ]
    },
    {
      "cell_type": "markdown",
      "source": [
        "Readlines Function"
      ],
      "metadata": {
        "id": "dEJXDAJw72KE"
      }
    },
    {
      "cell_type": "code",
      "source": [
        "fh_3 = open(r\"/content/File Handling Readlines.txt\", \"r\")\n",
        "\n",
        "fun_3 = fh_3.readlines()\n",
        "\n",
        "for i in fun_3:\n",
        "  print(i)"
      ],
      "metadata": {
        "id": "eg72tkzA75oB",
        "colab": {
          "base_uri": "https://localhost:8080/"
        },
        "outputId": "abd95d36-dfbc-40be-e45a-d5d0fc4c5933"
      },
      "execution_count": null,
      "outputs": [
        {
          "output_type": "stream",
          "name": "stdout",
          "text": [
            "Hello World!\n",
            "\n",
            "This is third python program.\n"
          ]
        }
      ]
    },
    {
      "cell_type": "markdown",
      "source": [
        "# Write Functions"
      ],
      "metadata": {
        "id": "F9HpDmEk0MsN"
      }
    },
    {
      "cell_type": "markdown",
      "source": [
        "Write Function"
      ],
      "metadata": {
        "id": "RgdOh5G-0S6-"
      }
    },
    {
      "cell_type": "code",
      "source": [
        "fh_4 = open(r\"/content/File Handling Write.txt\",\"w\")\n",
        "\n",
        "fun_4 = fh_4.write(\"Hello World! \\n\")\n",
        "fun_4 = fh_4.write(\"This is fourth python program.\")\n",
        "\n",
        "fh_4.close()"
      ],
      "metadata": {
        "id": "5wgPmdh7Ddjs"
      },
      "execution_count": null,
      "outputs": []
    },
    {
      "cell_type": "markdown",
      "source": [
        "Writelines Function"
      ],
      "metadata": {
        "id": "Tv4q1C1-MXhD"
      }
    },
    {
      "cell_type": "code",
      "source": [
        "fh_5 = open(r\"/content/File Handling Writelines.txt\",\"w\")\n",
        "\n",
        "fun_5 = fh_5.writelines([\"Hello World! \\n\", \"This is fifth python program.\"])\n",
        "\n",
        "fh_5.close()"
      ],
      "metadata": {
        "id": "0kz0SfIuJ3_h"
      },
      "execution_count": null,
      "outputs": []
    },
    {
      "cell_type": "markdown",
      "source": [
        "# Binary File Handling"
      ],
      "metadata": {
        "id": "S2fxVnZdZFBc"
      }
    },
    {
      "cell_type": "markdown",
      "source": [
        "# Write Functions"
      ],
      "metadata": {
        "id": "g0DekQLGm1GP"
      }
    },
    {
      "cell_type": "code",
      "source": [
        "import pickle\n",
        "\n",
        "fh_6 = open(r\"/content/Binary File Handling Write.dat\",\"wb\")\n",
        "\n",
        "integer = 5\n",
        "float = 5.5\n",
        "string = \"Hello World\"\n",
        "complex = 5 + 5j\n",
        "boolean = True\n",
        "list = [1, 2, 3, 4, 5]\n",
        "tuple = (1, 2, 3, 4, 5)\n",
        "sets = {1, 2, 3, 4, 5}\n",
        "dictionary = {1:\"A\", 2:\"B\", 3:\"C\", 4:\"D\", 5:\"E\"}\n",
        "\n",
        "pickle.dump(integer, fh_6)\n",
        "pickle.dump(float, fh_6)\n",
        "pickle.dump(string, fh_6)\n",
        "pickle.dump(complex, fh_6)\n",
        "pickle.dump(boolean, fh_6)\n",
        "pickle.dump(list, fh_6)\n",
        "pickle.dump(tuple, fh_6)\n",
        "pickle.dump(sets, fh_6)\n",
        "pickle.dump(dictionary, fh_6)\n",
        "\n",
        "fh_6.close()"
      ],
      "metadata": {
        "id": "3dg5TzQmeWrL"
      },
      "execution_count": 8,
      "outputs": []
    },
    {
      "cell_type": "markdown",
      "source": [
        "# Read Functions"
      ],
      "metadata": {
        "id": "pxkDisRbnDll"
      }
    },
    {
      "cell_type": "code",
      "source": [
        "import pickle\n",
        "\n",
        "fh_6 = open(r\"/content/Binary File Handling Write.dat\",\"rb\")\n",
        "\n",
        "integer = pickle.load(fh_6)\n",
        "float = pickle.load(fh_6)\n",
        "string = pickle.load(fh_6)\n",
        "complex = pickle.load(fh_6)\n",
        "boolean = pickle.load(fh_6)\n",
        "list = pickle.load(fh_6)\n",
        "tuple = pickle.load(fh_6)\n",
        "sets = pickle.load(fh_6)\n",
        "dictionary = pickle.load(fh_6)\n",
        "\n",
        "print(integer)\n",
        "print(float)\n",
        "print(string)\n",
        "print(complex)\n",
        "print(boolean)\n",
        "print(list)\n",
        "print(tuple)\n",
        "print(sets)\n",
        "print(dictionary)"
      ],
      "metadata": {
        "colab": {
          "base_uri": "https://localhost:8080/"
        },
        "id": "8KZpipjdhlqS",
        "outputId": "221a883f-8024-46e0-ccf8-8f6d054eff90"
      },
      "execution_count": 12,
      "outputs": [
        {
          "output_type": "stream",
          "name": "stdout",
          "text": [
            "5\n",
            "5.5\n",
            "Hello World\n",
            "(5+5j)\n",
            "True\n",
            "[1, 2, 3, 4, 5]\n",
            "(1, 2, 3, 4, 5)\n",
            "{1, 2, 3, 4, 5}\n",
            "{1: 'A', 2: 'B', 3: 'C', 4: 'D', 5: 'E'}\n"
          ]
        }
      ]
    },
    {
      "cell_type": "code",
      "source": [],
      "metadata": {
        "id": "heFW5VJBqYEd"
      },
      "execution_count": null,
      "outputs": []
    }
  ]
}