{
  "nbformat": 4,
  "nbformat_minor": 0,
  "metadata": {
    "colab": {
      "provenance": []
    },
    "kernelspec": {
      "name": "python3",
      "display_name": "Python 3"
    },
    "language_info": {
      "name": "python"
    }
  },
  "cells": [
    {
      "cell_type": "markdown",
      "source": [
        "# File Hadling"
      ],
      "metadata": {
        "id": "DFeeD8JtLloH"
      }
    },
    {
      "cell_type": "markdown",
      "source": [
        "# Read Functions"
      ],
      "metadata": {
        "id": "fXSYEYsQ6exg"
      }
    },
    {
      "cell_type": "markdown",
      "source": [
        "Read Function"
      ],
      "metadata": {
        "id": "t9K1C9Hk6tli"
      }
    },
    {
      "cell_type": "code",
      "execution_count": 31,
      "metadata": {
        "colab": {
          "base_uri": "https://localhost:8080/"
        },
        "id": "oJfuAEKhBLrA",
        "outputId": "dd72f3d0-88b5-4348-9260-2d6043066558"
      },
      "outputs": [
        {
          "output_type": "stream",
          "name": "stdout",
          "text": [
            "HELLO WORLD!\n",
            "This is first python program.\n"
          ]
        }
      ],
      "source": [
        "fh_1 = open(r\"/content/File Handling Read.txt\", \"r\")\n",
        "\n",
        "fun_1 = fh_1.read()\n",
        "\n",
        "print(fun_1)"
      ]
    },
    {
      "cell_type": "markdown",
      "source": [
        "Readline Function"
      ],
      "metadata": {
        "id": "ZW7soxZM7A4n"
      }
    },
    {
      "cell_type": "code",
      "source": [
        "fh_2 = open(r\"/content/File Handling Readline.txt\", \"r\")\n",
        "\n",
        "fun_2 = fh_2.readline()\n",
        "\n",
        "print(fun_2)\n",
        "\n",
        "fun_2 = fh_2.readline()\n",
        "\n",
        "print(fun_2)"
      ],
      "metadata": {
        "id": "-h5GKcpZ6-y2",
        "colab": {
          "base_uri": "https://localhost:8080/"
        },
        "outputId": "a54c2e0f-d90d-48cb-c889-d9bd76e4a9d2"
      },
      "execution_count": 32,
      "outputs": [
        {
          "output_type": "stream",
          "name": "stdout",
          "text": [
            "Hello World!\n",
            "\n",
            "This is second python program.\n"
          ]
        }
      ]
    },
    {
      "cell_type": "markdown",
      "source": [
        "Readlines Function"
      ],
      "metadata": {
        "id": "dEJXDAJw72KE"
      }
    },
    {
      "cell_type": "code",
      "source": [
        "fh_3 = open(r\"/content/File Handling Readlines.txt\", \"r\")\n",
        "\n",
        "fun_3 = fh_3.readlines()\n",
        "\n",
        "for i in fun_3:\n",
        "  print(i)"
      ],
      "metadata": {
        "id": "eg72tkzA75oB",
        "colab": {
          "base_uri": "https://localhost:8080/"
        },
        "outputId": "5e8c2309-0bf1-41a4-8d58-c74de36d5f79"
      },
      "execution_count": 33,
      "outputs": [
        {
          "output_type": "stream",
          "name": "stdout",
          "text": [
            "Hello World!\n",
            "\n",
            "This is third python program.\n"
          ]
        }
      ]
    },
    {
      "cell_type": "markdown",
      "source": [
        "# Write Functions"
      ],
      "metadata": {
        "id": "F9HpDmEk0MsN"
      }
    },
    {
      "cell_type": "markdown",
      "source": [
        "Write Function"
      ],
      "metadata": {
        "id": "RgdOh5G-0S6-"
      }
    },
    {
      "cell_type": "code",
      "source": [
        "fh_4 = open(r\"/content/File Handling Write.txt\",\"w\")\n",
        "\n",
        "fun_4 = fh_4.write(\"Hello World! \\n\")\n",
        "fun_4 = fh_4.write(\"This is fourth python program.\")\n",
        "\n",
        "fh_4.close()"
      ],
      "metadata": {
        "id": "5wgPmdh7Ddjs"
      },
      "execution_count": 34,
      "outputs": []
    },
    {
      "cell_type": "markdown",
      "source": [
        "Writelines Function"
      ],
      "metadata": {
        "id": "Tv4q1C1-MXhD"
      }
    },
    {
      "cell_type": "code",
      "source": [
        "fh_5 = open(r\"/content/File Handling Writelines.txt\",\"w\")\n",
        "\n",
        "fun_5 = fh_5.writelines([\"Hello World! \\n\", \"This is fifth python program.\"])\n",
        "\n",
        "fh_5.close()"
      ],
      "metadata": {
        "id": "0kz0SfIuJ3_h"
      },
      "execution_count": 35,
      "outputs": []
    }
  ]
}