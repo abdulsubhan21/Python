{
  "nbformat": 4,
  "nbformat_minor": 0,
  "metadata": {
    "colab": {
      "provenance": []
    },
    "kernelspec": {
      "name": "python3",
      "display_name": "Python 3"
    },
    "language_info": {
      "name": "python"
    }
  },
  "cells": [
    {
      "cell_type": "markdown",
      "source": [
        "#Dictionary"
      ],
      "metadata": {
        "id": "c4su30HArnVZ"
      }
    },
    {
      "cell_type": "markdown",
      "source": [
        "#Operations"
      ],
      "metadata": {
        "id": "OGBzWPFArtTa"
      }
    },
    {
      "cell_type": "code",
      "execution_count": 1,
      "metadata": {
        "colab": {
          "base_uri": "https://localhost:8080/"
        },
        "id": "e2XJe_tB1iOn",
        "outputId": "e2aad14b-d41b-436d-e539-640d636abb7f"
      },
      "outputs": [
        {
          "output_type": "stream",
          "name": "stdout",
          "text": [
            "{'name': 'abdul subhan', 'age': 17, 'class': '2nd year'}\n"
          ]
        }
      ],
      "source": [
        "my_dictionary = {\"name\":\"abdul subhan\",\"age\":17,\"class\":\"2nd year\"}\n",
        "print(my_dictionary)"
      ]
    },
    {
      "cell_type": "code",
      "source": [
        "my_dictionary[\"name\"]"
      ],
      "metadata": {
        "colab": {
          "base_uri": "https://localhost:8080/",
          "height": 36
        },
        "id": "nFF2Tx_180EK",
        "outputId": "5117d537-19c1-4faa-e23d-8e3861e617f1"
      },
      "execution_count": 2,
      "outputs": [
        {
          "output_type": "execute_result",
          "data": {
            "text/plain": [
              "'abdul subhan'"
            ],
            "application/vnd.google.colaboratory.intrinsic+json": {
              "type": "string"
            }
          },
          "metadata": {},
          "execution_count": 2
        }
      ]
    },
    {
      "cell_type": "code",
      "source": [
        "my_dictionary[\"field\"] = \"computer science\"\n",
        "print(my_dictionary)"
      ],
      "metadata": {
        "colab": {
          "base_uri": "https://localhost:8080/"
        },
        "id": "ZtWvk-YK83UD",
        "outputId": "01b7db0a-7173-4c50-9d0a-2b35b2948c79"
      },
      "execution_count": 3,
      "outputs": [
        {
          "output_type": "stream",
          "name": "stdout",
          "text": [
            "{'name': 'abdul subhan', 'age': 17, 'class': '2nd year', 'field': 'computer science'}\n"
          ]
        }
      ]
    },
    {
      "cell_type": "code",
      "source": [
        "print(\"name\" in my_dictionary)\n",
        "print(\"country\" in my_dictionary)"
      ],
      "metadata": {
        "colab": {
          "base_uri": "https://localhost:8080/"
        },
        "id": "O6sXSi0r89CV",
        "outputId": "3f0a73a0-e7c2-405a-c758-a122d493f44f"
      },
      "execution_count": 4,
      "outputs": [
        {
          "output_type": "stream",
          "name": "stdout",
          "text": [
            "True\n",
            "False\n"
          ]
        }
      ]
    },
    {
      "cell_type": "markdown",
      "source": [
        "#Functions"
      ],
      "metadata": {
        "id": "V1XrLhJZ3eTk"
      }
    },
    {
      "cell_type": "markdown",
      "source": [
        "1. keys"
      ],
      "metadata": {
        "id": "6k8BC6V7-YTP"
      }
    },
    {
      "cell_type": "code",
      "source": [
        "dictionary = {\"student name\": \"abdul subhan\", \"college name\":\"cantt college\", \"city\": \"Karachi\"}\n",
        "print(dictionary.keys())"
      ],
      "metadata": {
        "colab": {
          "base_uri": "https://localhost:8080/"
        },
        "id": "l-KWYptu98f0",
        "outputId": "15820380-e8b3-478d-94c3-c1a4c6e3c4d3"
      },
      "execution_count": 5,
      "outputs": [
        {
          "output_type": "stream",
          "name": "stdout",
          "text": [
            "dict_keys(['student name', 'college name', 'city'])\n"
          ]
        }
      ]
    },
    {
      "cell_type": "markdown",
      "source": [
        "2. values"
      ],
      "metadata": {
        "id": "3Hgevwrr-b7G"
      }
    },
    {
      "cell_type": "code",
      "source": [
        "print(dictionary.values())"
      ],
      "metadata": {
        "colab": {
          "base_uri": "https://localhost:8080/"
        },
        "id": "BlYh0IfP-ery",
        "outputId": "9ee3c7cf-3121-4745-e07d-2fb4c6f7cc25"
      },
      "execution_count": 6,
      "outputs": [
        {
          "output_type": "stream",
          "name": "stdout",
          "text": [
            "dict_values(['abdul subhan', 'cantt college', 'Karachi'])\n"
          ]
        }
      ]
    },
    {
      "cell_type": "markdown",
      "source": [
        "3.items"
      ],
      "metadata": {
        "id": "_q7wboIt-xMk"
      }
    },
    {
      "cell_type": "code",
      "source": [
        "print(dictionary.items())"
      ],
      "metadata": {
        "colab": {
          "base_uri": "https://localhost:8080/"
        },
        "id": "XuMZ3XkG-4Mc",
        "outputId": "53165362-8cde-45cd-fbe5-7f4454788915"
      },
      "execution_count": 7,
      "outputs": [
        {
          "output_type": "stream",
          "name": "stdout",
          "text": [
            "dict_items([('student name', 'abdul subhan'), ('college name', 'cantt college'), ('city', 'Karachi')])\n"
          ]
        }
      ]
    },
    {
      "cell_type": "markdown",
      "source": [
        "4. get"
      ],
      "metadata": {
        "id": "RwzIOmGh_x_X"
      }
    },
    {
      "cell_type": "code",
      "source": [
        "print(dictionary.get(\"city\"))"
      ],
      "metadata": {
        "colab": {
          "base_uri": "https://localhost:8080/"
        },
        "id": "ZONSmyX6_kec",
        "outputId": "30416ea2-a0bc-4315-d629-f3e3e684cd59"
      },
      "execution_count": 8,
      "outputs": [
        {
          "output_type": "stream",
          "name": "stdout",
          "text": [
            "Karachi\n"
          ]
        }
      ]
    },
    {
      "cell_type": "markdown",
      "source": [
        "5. fromkeys"
      ],
      "metadata": {
        "id": "XZQbM5isASEI"
      }
    },
    {
      "cell_type": "code",
      "source": [
        "dictionary= [\"student name\", \"college name\", \"city\"]\n",
        "new_dictionary = dict.fromkeys(dictionary,\"unknown\")\n",
        "print(new_dictionary)"
      ],
      "metadata": {
        "colab": {
          "base_uri": "https://localhost:8080/"
        },
        "id": "zdbS5IXoAXCu",
        "outputId": "817125c5-8019-4ddb-b6d5-77036dd25df3"
      },
      "execution_count": 9,
      "outputs": [
        {
          "output_type": "stream",
          "name": "stdout",
          "text": [
            "{'student name': 'unknown', 'college name': 'unknown', 'city': 'unknown'}\n"
          ]
        }
      ]
    },
    {
      "cell_type": "markdown",
      "source": [
        "6. setdefault"
      ],
      "metadata": {
        "id": "DhUYnPJgCDfI"
      }
    },
    {
      "cell_type": "code",
      "source": [
        "age = new_dictionary.setdefault(\"age\", 18)\n",
        "print(new_dictionary)"
      ],
      "metadata": {
        "colab": {
          "base_uri": "https://localhost:8080/"
        },
        "id": "ckvgyXtIEaSj",
        "outputId": "5915b804-ef0b-4ae7-df44-58f5e8ce79dc"
      },
      "execution_count": 10,
      "outputs": [
        {
          "output_type": "stream",
          "name": "stdout",
          "text": [
            "{'student name': 'unknown', 'college name': 'unknown', 'city': 'unknown', 'age': 18}\n"
          ]
        }
      ]
    },
    {
      "cell_type": "markdown",
      "source": [
        "7. update"
      ],
      "metadata": {
        "id": "XIIDx9I5EmVp"
      }
    },
    {
      "cell_type": "code",
      "source": [
        "new_data = {\"gender\": \"male\", \"country\": \"pakistan\"}\n",
        "new_dictionary.update(new_data)\n",
        "print(new_dictionary)"
      ],
      "metadata": {
        "colab": {
          "base_uri": "https://localhost:8080/"
        },
        "id": "KSPAXq9rEqLc",
        "outputId": "d48082b5-87bf-42e4-8dbb-a9809146da07"
      },
      "execution_count": 11,
      "outputs": [
        {
          "output_type": "stream",
          "name": "stdout",
          "text": [
            "{'student name': 'unknown', 'college name': 'unknown', 'city': 'unknown', 'age': 18, 'gender': 'male', 'country': 'pakistan'}\n"
          ]
        }
      ]
    },
    {
      "cell_type": "markdown",
      "source": [
        "8. popitem"
      ],
      "metadata": {
        "id": "pYCSr-1THGwK"
      }
    },
    {
      "cell_type": "code",
      "source": [
        "item = new_dictionary.popitem()\n",
        "print(new_dictionary)"
      ],
      "metadata": {
        "colab": {
          "base_uri": "https://localhost:8080/"
        },
        "id": "BKiRZeL-6fin",
        "outputId": "89dc961f-5c7d-4d6b-d205-420da91537c4"
      },
      "execution_count": 12,
      "outputs": [
        {
          "output_type": "stream",
          "name": "stdout",
          "text": [
            "{'student name': 'unknown', 'college name': 'unknown', 'city': 'unknown', 'age': 18, 'gender': 'male'}\n"
          ]
        }
      ]
    },
    {
      "cell_type": "markdown",
      "source": [
        "9. pop"
      ],
      "metadata": {
        "id": "Bm6npNCy9aDQ"
      }
    },
    {
      "cell_type": "code",
      "source": [
        "my_dict = {\"name\": \"abdul subhan\", \"age\": 17, \"city\": \"karachi\"}\n",
        "age = my_dict.pop(\"age\")\n",
        "print(my_dict)"
      ],
      "metadata": {
        "colab": {
          "base_uri": "https://localhost:8080/"
        },
        "id": "dMJ40_zM9eev",
        "outputId": "739ad1ab-4a3e-4935-e021-0e14bed9f807"
      },
      "execution_count": 13,
      "outputs": [
        {
          "output_type": "stream",
          "name": "stdout",
          "text": [
            "{'name': 'abdul subhan', 'city': 'karachi'}\n"
          ]
        }
      ]
    },
    {
      "cell_type": "markdown",
      "source": [
        "10. len"
      ],
      "metadata": {
        "id": "p7J01B_zsf_C"
      }
    },
    {
      "cell_type": "code",
      "source": [
        "print(len(my_dict))"
      ],
      "metadata": {
        "colab": {
          "base_uri": "https://localhost:8080/"
        },
        "id": "dZrkfsuUscKa",
        "outputId": "5f195098-194c-425a-e1b6-042ea0f1b455"
      },
      "execution_count": 14,
      "outputs": [
        {
          "output_type": "stream",
          "name": "stdout",
          "text": [
            "2\n"
          ]
        }
      ]
    },
    {
      "cell_type": "markdown",
      "source": [
        "11. copy"
      ],
      "metadata": {
        "id": "GkxUh3vC9TYw"
      }
    },
    {
      "cell_type": "code",
      "source": [
        "my_dict.copy()\n",
        "print(my_dict)"
      ],
      "metadata": {
        "id": "o8EnepMg9LIz",
        "colab": {
          "base_uri": "https://localhost:8080/"
        },
        "outputId": "a2ec86f0-5979-429e-8f1d-05ff4a1c1dee"
      },
      "execution_count": 15,
      "outputs": [
        {
          "output_type": "stream",
          "name": "stdout",
          "text": [
            "{'name': 'abdul subhan', 'city': 'karachi'}\n"
          ]
        }
      ]
    },
    {
      "cell_type": "markdown",
      "source": [
        "12. del"
      ],
      "metadata": {
        "id": "muqqRxzI9NzS"
      }
    },
    {
      "cell_type": "code",
      "source": [
        "del my_dict[\"city\"]\n",
        "print(my_dict)"
      ],
      "metadata": {
        "colab": {
          "base_uri": "https://localhost:8080/"
        },
        "id": "bF_GEUf79r7o",
        "outputId": "324af16c-1958-4321-b446-d640638ccd77"
      },
      "execution_count": 16,
      "outputs": [
        {
          "output_type": "stream",
          "name": "stdout",
          "text": [
            "{'name': 'abdul subhan'}\n"
          ]
        }
      ]
    },
    {
      "cell_type": "markdown",
      "source": [
        "13. clear"
      ],
      "metadata": {
        "id": "31v1wAEE9xAT"
      }
    },
    {
      "cell_type": "code",
      "source": [
        "my_dict.clear()\n",
        "print(my_dict)"
      ],
      "metadata": {
        "colab": {
          "base_uri": "https://localhost:8080/"
        },
        "id": "mFDNdFVuy1gZ",
        "outputId": "4c12540a-e2ca-40b7-ff63-328e98b9c68e"
      },
      "execution_count": 17,
      "outputs": [
        {
          "output_type": "stream",
          "name": "stdout",
          "text": [
            "{}\n"
          ]
        }
      ]
    }
  ]
}