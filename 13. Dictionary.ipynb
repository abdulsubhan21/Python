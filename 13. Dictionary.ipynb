{
  "nbformat": 4,
  "nbformat_minor": 0,
  "metadata": {
    "colab": {
      "provenance": [],
      "collapsed_sections": [
        "OGBzWPFArtTa",
        "V1XrLhJZ3eTk"
      ]
    },
    "kernelspec": {
      "name": "python3",
      "display_name": "Python 3"
    },
    "language_info": {
      "name": "python"
    }
  },
  "cells": [
    {
      "cell_type": "markdown",
      "source": [
        "#Dictionary"
      ],
      "metadata": {
        "id": "c4su30HArnVZ"
      }
    },
    {
      "cell_type": "markdown",
      "source": [
        "#Operations"
      ],
      "metadata": {
        "id": "OGBzWPFArtTa"
      }
    },
    {
      "cell_type": "code",
      "execution_count": 1,
      "metadata": {
        "colab": {
          "base_uri": "https://localhost:8080/"
        },
        "id": "e2XJe_tB1iOn",
        "outputId": "5d6c1358-f303-4004-a3e0-e5e67395949e"
      },
      "outputs": [
        {
          "output_type": "stream",
          "name": "stdout",
          "text": [
            "{'name': 'abdul subhan', 'age': 17, 'class': '2nd year'}\n"
          ]
        }
      ],
      "source": [
        "my_dictionary = {\"name\":\"abdul subhan\",\"age\":17,\"class\":\"2nd year\"}\n",
        "print(my_dictionary)"
      ]
    },
    {
      "cell_type": "code",
      "source": [
        "my_dictionary[\"name\"]"
      ],
      "metadata": {
        "colab": {
          "base_uri": "https://localhost:8080/",
          "height": 36
        },
        "id": "nFF2Tx_180EK",
        "outputId": "de3373c6-51f1-4f29-e32e-dc364348a281"
      },
      "execution_count": 2,
      "outputs": [
        {
          "output_type": "execute_result",
          "data": {
            "text/plain": [
              "'abdul subhan'"
            ],
            "application/vnd.google.colaboratory.intrinsic+json": {
              "type": "string"
            }
          },
          "metadata": {},
          "execution_count": 2
        }
      ]
    },
    {
      "cell_type": "code",
      "source": [
        "my_dictionary[\"field\"] = \"computer science\"\n",
        "print(my_dictionary)"
      ],
      "metadata": {
        "colab": {
          "base_uri": "https://localhost:8080/"
        },
        "id": "ZtWvk-YK83UD",
        "outputId": "20d54f7c-88fe-4366-ec7b-940170377b68"
      },
      "execution_count": 3,
      "outputs": [
        {
          "output_type": "stream",
          "name": "stdout",
          "text": [
            "{'name': 'abdul subhan', 'age': 17, 'class': '2nd year', 'field': 'computer science'}\n"
          ]
        }
      ]
    },
    {
      "cell_type": "code",
      "source": [
        "print(\"name\" in my_dictionary)\n",
        "print(\"country\" in my_dictionary)"
      ],
      "metadata": {
        "colab": {
          "base_uri": "https://localhost:8080/"
        },
        "id": "O6sXSi0r89CV",
        "outputId": "6250207a-5b04-4961-841d-0ab1ca34291b"
      },
      "execution_count": 4,
      "outputs": [
        {
          "output_type": "stream",
          "name": "stdout",
          "text": [
            "True\n",
            "False\n"
          ]
        }
      ]
    },
    {
      "cell_type": "markdown",
      "source": [
        "#Functions"
      ],
      "metadata": {
        "id": "V1XrLhJZ3eTk"
      }
    },
    {
      "cell_type": "markdown",
      "source": [
        "1. keys"
      ],
      "metadata": {
        "id": "6k8BC6V7-YTP"
      }
    },
    {
      "cell_type": "code",
      "source": [
        "dictionary = {\"student name\": \"abdul subhan\", \"college name\":\"cantt college\", \"city\": \"Karachi\"}\n",
        "print(dictionary.keys())"
      ],
      "metadata": {
        "colab": {
          "base_uri": "https://localhost:8080/"
        },
        "id": "l-KWYptu98f0",
        "outputId": "eb17c808-bef6-478a-f21c-0724da201ce2"
      },
      "execution_count": 5,
      "outputs": [
        {
          "output_type": "stream",
          "name": "stdout",
          "text": [
            "dict_keys(['student name', 'college name', 'city'])\n"
          ]
        }
      ]
    },
    {
      "cell_type": "markdown",
      "source": [
        "2. values"
      ],
      "metadata": {
        "id": "3Hgevwrr-b7G"
      }
    },
    {
      "cell_type": "code",
      "source": [
        "print(dictionary.values())"
      ],
      "metadata": {
        "colab": {
          "base_uri": "https://localhost:8080/"
        },
        "id": "BlYh0IfP-ery",
        "outputId": "c9c461e0-b94b-4a39-956b-87f5f8f58b0e"
      },
      "execution_count": 6,
      "outputs": [
        {
          "output_type": "stream",
          "name": "stdout",
          "text": [
            "dict_values(['abdul subhan', 'cantt college', 'Karachi'])\n"
          ]
        }
      ]
    },
    {
      "cell_type": "markdown",
      "source": [
        "3.items"
      ],
      "metadata": {
        "id": "_q7wboIt-xMk"
      }
    },
    {
      "cell_type": "code",
      "source": [
        "print(dictionary.items())"
      ],
      "metadata": {
        "colab": {
          "base_uri": "https://localhost:8080/"
        },
        "id": "XuMZ3XkG-4Mc",
        "outputId": "e24a4502-2ce2-4db2-c774-18f33edefb70"
      },
      "execution_count": 7,
      "outputs": [
        {
          "output_type": "stream",
          "name": "stdout",
          "text": [
            "dict_items([('student name', 'abdul subhan'), ('college name', 'cantt college'), ('city', 'Karachi')])\n"
          ]
        }
      ]
    },
    {
      "cell_type": "markdown",
      "source": [
        "4. get"
      ],
      "metadata": {
        "id": "RwzIOmGh_x_X"
      }
    },
    {
      "cell_type": "code",
      "source": [
        "print(dictionary.get(\"city\"))"
      ],
      "metadata": {
        "colab": {
          "base_uri": "https://localhost:8080/"
        },
        "id": "ZONSmyX6_kec",
        "outputId": "5dd91d10-16c9-43f6-fc83-520a1a86b237"
      },
      "execution_count": 8,
      "outputs": [
        {
          "output_type": "stream",
          "name": "stdout",
          "text": [
            "Karachi\n"
          ]
        }
      ]
    },
    {
      "cell_type": "markdown",
      "source": [
        "5. fromkeys"
      ],
      "metadata": {
        "id": "XZQbM5isASEI"
      }
    },
    {
      "cell_type": "code",
      "source": [
        "dictionary= [\"student name\", \"college name\", \"city\"]\n",
        "new_dictionary = dict.fromkeys(dictionary,\"unknown\")\n",
        "print(new_dictionary)"
      ],
      "metadata": {
        "colab": {
          "base_uri": "https://localhost:8080/"
        },
        "id": "zdbS5IXoAXCu",
        "outputId": "20efb1af-1540-4fa5-a7fe-77b413484bc6"
      },
      "execution_count": 9,
      "outputs": [
        {
          "output_type": "stream",
          "name": "stdout",
          "text": [
            "{'student name': 'unknown', 'college name': 'unknown', 'city': 'unknown'}\n"
          ]
        }
      ]
    },
    {
      "cell_type": "markdown",
      "source": [
        "6. setdefault"
      ],
      "metadata": {
        "id": "DhUYnPJgCDfI"
      }
    },
    {
      "cell_type": "code",
      "source": [
        "age = new_dictionary.setdefault(\"age\", 18)\n",
        "print(new_dictionary)"
      ],
      "metadata": {
        "colab": {
          "base_uri": "https://localhost:8080/"
        },
        "id": "ckvgyXtIEaSj",
        "outputId": "c867334b-8723-4a3f-ecda-36ea28c9cb7c"
      },
      "execution_count": 10,
      "outputs": [
        {
          "output_type": "stream",
          "name": "stdout",
          "text": [
            "{'student name': 'unknown', 'college name': 'unknown', 'city': 'unknown', 'age': 18}\n"
          ]
        }
      ]
    },
    {
      "cell_type": "markdown",
      "source": [
        "7. update"
      ],
      "metadata": {
        "id": "XIIDx9I5EmVp"
      }
    },
    {
      "cell_type": "code",
      "source": [
        "new_data = {\"gender\": \"male\", \"country\": \"pakistan\"}\n",
        "new_dictionary.update(new_data)\n",
        "print(new_dictionary)"
      ],
      "metadata": {
        "colab": {
          "base_uri": "https://localhost:8080/"
        },
        "id": "KSPAXq9rEqLc",
        "outputId": "e1cd2465-7ee7-45b9-9e81-abb2df21cf49"
      },
      "execution_count": 11,
      "outputs": [
        {
          "output_type": "stream",
          "name": "stdout",
          "text": [
            "{'student name': 'unknown', 'college name': 'unknown', 'city': 'unknown', 'age': 18, 'gender': 'male', 'country': 'pakistan'}\n"
          ]
        }
      ]
    },
    {
      "cell_type": "markdown",
      "source": [
        "8. popitem"
      ],
      "metadata": {
        "id": "pYCSr-1THGwK"
      }
    },
    {
      "cell_type": "code",
      "source": [
        "item = new_dictionary.popitem()\n",
        "print(new_dictionary)"
      ],
      "metadata": {
        "colab": {
          "base_uri": "https://localhost:8080/"
        },
        "id": "BKiRZeL-6fin",
        "outputId": "0c621e0c-a7f4-48ae-e21f-31b8f9f11c6b"
      },
      "execution_count": 12,
      "outputs": [
        {
          "output_type": "stream",
          "name": "stdout",
          "text": [
            "{'student name': 'unknown', 'college name': 'unknown', 'city': 'unknown', 'age': 18, 'gender': 'male'}\n"
          ]
        }
      ]
    },
    {
      "cell_type": "markdown",
      "source": [
        "9. pop"
      ],
      "metadata": {
        "id": "Bm6npNCy9aDQ"
      }
    },
    {
      "cell_type": "code",
      "source": [
        "my_dict = {\"name\": \"abdul subhan\", \"age\": 17, \"city\": \"karachi\"}\n",
        "age = my_dict.pop(\"age\")\n",
        "print(my_dict)"
      ],
      "metadata": {
        "colab": {
          "base_uri": "https://localhost:8080/"
        },
        "id": "dMJ40_zM9eev",
        "outputId": "984b9857-4b2c-412d-e34e-8fab1ca70beb"
      },
      "execution_count": 13,
      "outputs": [
        {
          "output_type": "stream",
          "name": "stdout",
          "text": [
            "{'name': 'abdul subhan', 'city': 'karachi'}\n"
          ]
        }
      ]
    },
    {
      "cell_type": "markdown",
      "source": [
        "10. len"
      ],
      "metadata": {
        "id": "p7J01B_zsf_C"
      }
    },
    {
      "cell_type": "code",
      "source": [
        "print(len(my_dict))"
      ],
      "metadata": {
        "colab": {
          "base_uri": "https://localhost:8080/"
        },
        "id": "dZrkfsuUscKa",
        "outputId": "28ec430d-cbc1-4225-9b53-5783fea36fd8"
      },
      "execution_count": 14,
      "outputs": [
        {
          "output_type": "stream",
          "name": "stdout",
          "text": [
            "2\n"
          ]
        }
      ]
    },
    {
      "cell_type": "markdown",
      "source": [
        "11. copy"
      ],
      "metadata": {
        "id": "GkxUh3vC9TYw"
      }
    },
    {
      "cell_type": "code",
      "source": [
        "my_dict.copy()\n",
        "print(my_dict)"
      ],
      "metadata": {
        "id": "o8EnepMg9LIz",
        "colab": {
          "base_uri": "https://localhost:8080/"
        },
        "outputId": "e3b4ef6f-13dd-4eb6-8dbe-5dc3173ce896"
      },
      "execution_count": 15,
      "outputs": [
        {
          "output_type": "stream",
          "name": "stdout",
          "text": [
            "{'name': 'abdul subhan', 'city': 'karachi'}\n"
          ]
        }
      ]
    },
    {
      "cell_type": "markdown",
      "source": [
        "12. del"
      ],
      "metadata": {
        "id": "muqqRxzI9NzS"
      }
    },
    {
      "cell_type": "code",
      "source": [
        "del my_dict[\"city\"]\n",
        "print(my_dict)"
      ],
      "metadata": {
        "colab": {
          "base_uri": "https://localhost:8080/"
        },
        "id": "bF_GEUf79r7o",
        "outputId": "b60ea086-2aba-485b-aff6-5be26b26c2e9"
      },
      "execution_count": 16,
      "outputs": [
        {
          "output_type": "stream",
          "name": "stdout",
          "text": [
            "{'name': 'abdul subhan'}\n"
          ]
        }
      ]
    },
    {
      "cell_type": "markdown",
      "source": [
        "13. clear"
      ],
      "metadata": {
        "id": "31v1wAEE9xAT"
      }
    },
    {
      "cell_type": "code",
      "source": [
        "my_dict.clear()\n",
        "print(my_dict)"
      ],
      "metadata": {
        "colab": {
          "base_uri": "https://localhost:8080/"
        },
        "id": "mFDNdFVuy1gZ",
        "outputId": "fb6fc2b7-dfe7-48af-8d23-58aae6da3e11"
      },
      "execution_count": 17,
      "outputs": [
        {
          "output_type": "stream",
          "name": "stdout",
          "text": [
            "{}\n"
          ]
        }
      ]
    }
  ]
}