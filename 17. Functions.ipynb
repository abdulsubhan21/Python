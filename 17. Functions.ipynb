{
  "nbformat": 4,
  "nbformat_minor": 0,
  "metadata": {
    "colab": {
      "provenance": []
    },
    "kernelspec": {
      "name": "python3",
      "display_name": "Python 3"
    },
    "language_info": {
      "name": "python"
    }
  },
  "cells": [
    {
      "cell_type": "markdown",
      "source": [
        "# Functions"
      ],
      "metadata": {
        "id": "3AsuxeR6GX6s"
      }
    },
    {
      "cell_type": "markdown",
      "source": [
        "#1. Function With Calling Function"
      ],
      "metadata": {
        "id": "PaxSfNGDGca9"
      }
    },
    {
      "cell_type": "code",
      "execution_count": 1,
      "metadata": {
        "colab": {
          "base_uri": "https://localhost:8080/"
        },
        "id": "8HzNy4xWwT0k",
        "outputId": "c71d183b-bc95-4b49-d71b-eb7871c4ac95"
      },
      "outputs": [
        {
          "output_type": "stream",
          "name": "stdout",
          "text": [
            "Abdul Subhan\n"
          ]
        }
      ],
      "source": [
        "def data():\n",
        "  print(\"Abdul Subhan\")\n",
        "\n",
        "data()"
      ]
    },
    {
      "cell_type": "markdown",
      "source": [
        "#2. Function With Arguments"
      ],
      "metadata": {
        "id": "U7XpHHzcH2CY"
      }
    },
    {
      "cell_type": "code",
      "source": [
        "def sum(a, b):\n",
        "  print(a + b)\n",
        "\n",
        "sum(20, 10)"
      ],
      "metadata": {
        "colab": {
          "base_uri": "https://localhost:8080/"
        },
        "id": "1SMcqoRdHP27",
        "outputId": "0f12caa8-ad03-40b3-bb8a-d8e342d733d2"
      },
      "execution_count": 2,
      "outputs": [
        {
          "output_type": "stream",
          "name": "stdout",
          "text": [
            "30\n"
          ]
        }
      ]
    },
    {
      "cell_type": "markdown",
      "source": [
        "#3. Function With Default Parameter Value"
      ],
      "metadata": {
        "id": "SDe77zqqKb6a"
      }
    },
    {
      "cell_type": "code",
      "source": [
        "def sum(a, b = 1):\n",
        "  print(a + b)\n",
        "\n",
        "sum(20)\n",
        "sum(20, 10)"
      ],
      "metadata": {
        "colab": {
          "base_uri": "https://localhost:8080/"
        },
        "id": "RAelrmXAIG8Z",
        "outputId": "a87c5e0c-8c44-4edd-cfdf-7d19e3425118"
      },
      "execution_count": 3,
      "outputs": [
        {
          "output_type": "stream",
          "name": "stdout",
          "text": [
            "21\n",
            "30\n"
          ]
        }
      ]
    },
    {
      "cell_type": "markdown",
      "source": [
        "#4. Function With Return Values"
      ],
      "metadata": {
        "id": "41vgGoYGNQ69"
      }
    },
    {
      "cell_type": "code",
      "source": [
        "def square(x):\n",
        "  return(x ** 2)\n",
        "\n",
        "s = square(5)\n",
        "print(s)"
      ],
      "metadata": {
        "colab": {
          "base_uri": "https://localhost:8080/"
        },
        "id": "h-CXyFi_K-5s",
        "outputId": "e6e36b45-1488-431e-d2ff-e65754aa658a"
      },
      "execution_count": 4,
      "outputs": [
        {
          "output_type": "stream",
          "name": "stdout",
          "text": [
            "25\n"
          ]
        }
      ]
    }
  ]
}