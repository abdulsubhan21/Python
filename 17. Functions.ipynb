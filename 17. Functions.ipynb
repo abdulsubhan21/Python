{
  "nbformat": 4,
  "nbformat_minor": 0,
  "metadata": {
    "colab": {
      "provenance": [],
      "collapsed_sections": [
        "PaxSfNGDGca9",
        "U7XpHHzcH2CY",
        "SDe77zqqKb6a",
        "41vgGoYGNQ69"
      ]
    },
    "kernelspec": {
      "name": "python3",
      "display_name": "Python 3"
    },
    "language_info": {
      "name": "python"
    }
  },
  "cells": [
    {
      "cell_type": "markdown",
      "source": [
        "# Functions"
      ],
      "metadata": {
        "id": "3AsuxeR6GX6s"
      }
    },
    {
      "cell_type": "markdown",
      "source": [
        "#1. Function With Calling Function"
      ],
      "metadata": {
        "id": "PaxSfNGDGca9"
      }
    },
    {
      "cell_type": "code",
      "execution_count": 1,
      "metadata": {
        "colab": {
          "base_uri": "https://localhost:8080/"
        },
        "id": "8HzNy4xWwT0k",
        "outputId": "37e18a85-ae19-44b8-da57-e1db2a5560ff"
      },
      "outputs": [
        {
          "output_type": "stream",
          "name": "stdout",
          "text": [
            "Abdul Subhan\n"
          ]
        }
      ],
      "source": [
        "def data():\n",
        "  print(\"Abdul Subhan\")\n",
        "\n",
        "data()"
      ]
    },
    {
      "cell_type": "markdown",
      "source": [
        "#2. Function With Arguments"
      ],
      "metadata": {
        "id": "U7XpHHzcH2CY"
      }
    },
    {
      "cell_type": "code",
      "source": [
        "def sum(a, b):\n",
        "  print(a + b)\n",
        "\n",
        "sum(20, 10)"
      ],
      "metadata": {
        "colab": {
          "base_uri": "https://localhost:8080/"
        },
        "id": "1SMcqoRdHP27",
        "outputId": "6330e28d-efd1-43f1-e1a1-0413502abfd2"
      },
      "execution_count": 2,
      "outputs": [
        {
          "output_type": "stream",
          "name": "stdout",
          "text": [
            "30\n"
          ]
        }
      ]
    },
    {
      "cell_type": "markdown",
      "source": [
        "#3. Function With Default Parameter Value"
      ],
      "metadata": {
        "id": "SDe77zqqKb6a"
      }
    },
    {
      "cell_type": "code",
      "source": [
        "def sum(a, b = 1):\n",
        "  print(a + b)\n",
        "\n",
        "sum(20)\n",
        "sum(20, 10)"
      ],
      "metadata": {
        "colab": {
          "base_uri": "https://localhost:8080/"
        },
        "id": "RAelrmXAIG8Z",
        "outputId": "d5f91a62-0ae6-4568-815e-5e6bc6f6f76e"
      },
      "execution_count": 3,
      "outputs": [
        {
          "output_type": "stream",
          "name": "stdout",
          "text": [
            "21\n",
            "30\n"
          ]
        }
      ]
    },
    {
      "cell_type": "markdown",
      "source": [
        "#4. Function With Return Values"
      ],
      "metadata": {
        "id": "41vgGoYGNQ69"
      }
    },
    {
      "cell_type": "code",
      "source": [
        "def square(x):\n",
        "  return(x ** 2)\n",
        "\n",
        "s = square(5)\n",
        "print(s)"
      ],
      "metadata": {
        "colab": {
          "base_uri": "https://localhost:8080/"
        },
        "id": "h-CXyFi_K-5s",
        "outputId": "3a3d060b-ffb5-4d1c-9f26-1b799883fdb1"
      },
      "execution_count": 4,
      "outputs": [
        {
          "output_type": "stream",
          "name": "stdout",
          "text": [
            "25\n"
          ]
        }
      ]
    }
  ]
}