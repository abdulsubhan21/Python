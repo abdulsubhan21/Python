{
  "nbformat": 4,
  "nbformat_minor": 0,
  "metadata": {
    "colab": {
      "provenance": [],
      "collapsed_sections": [
        "rJFuVGkh6bqd",
        "RQ9TOG9i6jCX",
        "LJHoQTz_6xeb",
        "oDJeA4bT8wZx",
        "pvNG2E7EfLt4",
        "HR5AbsH2hdxs"
      ]
    },
    "kernelspec": {
      "name": "python3",
      "display_name": "Python 3"
    },
    "language_info": {
      "name": "python"
    }
  },
  "cells": [
    {
      "cell_type": "markdown",
      "source": [
        "#List Comprehension"
      ],
      "metadata": {
        "id": "JVo3U_Ek8oIO"
      }
    },
    {
      "cell_type": "markdown",
      "source": [
        "# 1. List Comprehension With List"
      ],
      "metadata": {
        "id": "rJFuVGkh6bqd"
      }
    },
    {
      "cell_type": "code",
      "execution_count": 1,
      "metadata": {
        "id": "PIiok6fc8fOY",
        "colab": {
          "base_uri": "https://localhost:8080/"
        },
        "outputId": "c9b5bd6c-57ee-495f-eb0f-52b53f05d186"
      },
      "outputs": [
        {
          "output_type": "stream",
          "name": "stdout",
          "text": [
            "[1, 2, 3, 4, 5, 6, 7, 8, 9, 10, 11, 12, 13, 14, 15, 16, 17, 18, 19, 20]\n"
          ]
        }
      ],
      "source": [
        "list_1 = [0, 1, 2, 3, 4, 5, 6, 7, 8, 9, 10, 11, 12, 13, 14, 15, 16, 17, 18, 19]\n",
        "\n",
        "new_list_1 = [i + 1 for i in list_1]\n",
        "print(new_list_1)"
      ]
    },
    {
      "cell_type": "markdown",
      "source": [
        "#2. List Comprehension With Range Function"
      ],
      "metadata": {
        "id": "RQ9TOG9i6jCX"
      }
    },
    {
      "cell_type": "code",
      "source": [
        "list_2 = [i + 1 for i in range(20)]\n",
        "print(list_2)"
      ],
      "metadata": {
        "colab": {
          "base_uri": "https://localhost:8080/"
        },
        "id": "KjrRLlXW15F_",
        "outputId": "7ee153c3-aaf6-4a12-9a97-3d8a52887b5b"
      },
      "execution_count": 2,
      "outputs": [
        {
          "output_type": "stream",
          "name": "stdout",
          "text": [
            "[1, 2, 3, 4, 5, 6, 7, 8, 9, 10, 11, 12, 13, 14, 15, 16, 17, 18, 19, 20]\n"
          ]
        }
      ]
    },
    {
      "cell_type": "markdown",
      "source": [
        "#3. List Compreension With condition"
      ],
      "metadata": {
        "id": "LJHoQTz_6xeb"
      }
    },
    {
      "cell_type": "code",
      "source": [
        "list_3 = [i for i in range(21) if i % 2 == 0]\n",
        "print(list_3)"
      ],
      "metadata": {
        "colab": {
          "base_uri": "https://localhost:8080/"
        },
        "id": "sxoXtLrn2c-U",
        "outputId": "cccd2c46-44b4-4436-d8c1-2a9be7a63632"
      },
      "execution_count": 3,
      "outputs": [
        {
          "output_type": "stream",
          "name": "stdout",
          "text": [
            "[0, 2, 4, 6, 8, 10, 12, 14, 16, 18, 20]\n"
          ]
        }
      ]
    },
    {
      "cell_type": "markdown",
      "source": [
        "#4. List Comprehension With Nested Condition"
      ],
      "metadata": {
        "id": "oDJeA4bT8wZx"
      }
    },
    {
      "cell_type": "code",
      "source": [
        "list_4 = [i for i in range(21) if i % 2 == 0 if i % 3 == 0]\n",
        "print(list_4)"
      ],
      "metadata": {
        "colab": {
          "base_uri": "https://localhost:8080/"
        },
        "id": "mmxTggkl6GDm",
        "outputId": "975d37db-7999-4054-a2ff-21f5a47bec8d"
      },
      "execution_count": 4,
      "outputs": [
        {
          "output_type": "stream",
          "name": "stdout",
          "text": [
            "[0, 6, 12, 18]\n"
          ]
        }
      ]
    },
    {
      "cell_type": "markdown",
      "source": [
        "#5. List Comprehesion With If Else Statemet"
      ],
      "metadata": {
        "id": "pvNG2E7EfLt4"
      }
    },
    {
      "cell_type": "code",
      "source": [
        "list_5 = [i if i % 2 == 0 else \"Invalid\" for i in range(10)]\n",
        "print(list_5)"
      ],
      "metadata": {
        "colab": {
          "base_uri": "https://localhost:8080/"
        },
        "id": "9ZA-M66D9mdW",
        "outputId": "bdfece3f-3e1a-4085-e2e0-13cefa2f6dc6"
      },
      "execution_count": 5,
      "outputs": [
        {
          "output_type": "stream",
          "name": "stdout",
          "text": [
            "[0, 'Invalid', 2, 'Invalid', 4, 'Invalid', 6, 'Invalid', 8, 'Invalid']\n"
          ]
        }
      ]
    },
    {
      "cell_type": "markdown",
      "source": [
        "# 6. Nested List Comprehension"
      ],
      "metadata": {
        "id": "HR5AbsH2hdxs"
      }
    },
    {
      "cell_type": "code",
      "source": [
        "list_6 = [[i * j for j in range(1, 6)]for i in range(6, 11)]\n",
        "print(list_6)"
      ],
      "metadata": {
        "colab": {
          "base_uri": "https://localhost:8080/"
        },
        "id": "sAGAUrjnhZsy",
        "outputId": "4738fb17-f622-4f81-ce34-b09484dbf45d"
      },
      "execution_count": 6,
      "outputs": [
        {
          "output_type": "stream",
          "name": "stdout",
          "text": [
            "[[6, 12, 18, 24, 30], [7, 14, 21, 28, 35], [8, 16, 24, 32, 40], [9, 18, 27, 36, 45], [10, 20, 30, 40, 50]]\n"
          ]
        }
      ]
    }
  ]
}