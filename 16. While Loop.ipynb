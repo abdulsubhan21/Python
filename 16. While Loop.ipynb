{
  "nbformat": 4,
  "nbformat_minor": 0,
  "metadata": {
    "colab": {
      "provenance": []
    },
    "kernelspec": {
      "name": "python3",
      "display_name": "Python 3"
    },
    "language_info": {
      "name": "python"
    }
  },
  "cells": [
    {
      "cell_type": "markdown",
      "source": [
        "#While Loop"
      ],
      "metadata": {
        "id": "NCYnT63S34U_"
      }
    },
    {
      "cell_type": "code",
      "execution_count": null,
      "metadata": {
        "colab": {
          "base_uri": "https://localhost:8080/"
        },
        "id": "RJvf_z_40q4P",
        "outputId": "dbf0cab4-179d-411e-cc76-180a2e10240a"
      },
      "outputs": [
        {
          "output_type": "stream",
          "name": "stdout",
          "text": [
            "Enter the table number: 2\n",
            "2 x 1 = 2\n",
            "2 x 2 = 4\n",
            "2 x 3 = 6\n",
            "2 x 4 = 8\n",
            "2 x 5 = 10\n",
            "2 x 6 = 12\n",
            "2 x 7 = 14\n",
            "2 x 8 = 16\n",
            "2 x 9 = 18\n",
            "2 x 10 = 20\n"
          ]
        }
      ],
      "source": [
        "table = int(input(\"Enter the table number: \"))\n",
        "\n",
        "i = 1\n",
        "\n",
        "while i <= 10:\n",
        "      print(table, \"x\", i, \"=\", table * i)\n",
        "      i += 1"
      ]
    },
    {
      "cell_type": "code",
      "source": [
        "i = 0\n",
        "\n",
        "while True:\n",
        "      i += 1\n",
        "      print(i)\n",
        "      if i == 3:\n",
        "         break\n",
        "\n",
        "print(\"Hello\")"
      ],
      "metadata": {
        "id": "axm0WxjL4iiN",
        "colab": {
          "base_uri": "https://localhost:8080/"
        },
        "outputId": "85301bac-7022-4a21-de77-5df48f985506"
      },
      "execution_count": null,
      "outputs": [
        {
          "output_type": "stream",
          "name": "stdout",
          "text": [
            "1\n",
            "2\n",
            "3\n",
            "Hello\n"
          ]
        }
      ]
    }
  ]
}