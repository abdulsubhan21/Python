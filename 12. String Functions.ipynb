{
  "nbformat": 4,
  "nbformat_minor": 0,
  "metadata": {
    "colab": {
      "provenance": [],
      "collapsed_sections": [
        "Yvh1kBuWq7HF",
        "NxTrDRK-tcJZ",
        "KvlZPVn8tqD5",
        "xr1L_kkRvQD_",
        "miwYdiJrv_8c",
        "jf1VcvNl2sJL",
        "WfLWKkPm4vp8",
        "FQmE_rlN5PCM",
        "lKxqVd0P7XD0",
        "LkQ_1sIs8mBU",
        "UZ0YmgYv9Bo_",
        "EGJfkmIK5dF4",
        "iSbrzOMnu2ha",
        "WAgDNpDXuLKS"
      ]
    },
    "kernelspec": {
      "name": "python3",
      "display_name": "Python 3"
    },
    "language_info": {
      "name": "python"
    }
  },
  "cells": [
    {
      "cell_type": "markdown",
      "source": [
        "#1. Lower"
      ],
      "metadata": {
        "id": "Yvh1kBuWq7HF"
      }
    },
    {
      "cell_type": "code",
      "source": [
        "var_1 = \"MuHaMmAd AbDuL SuBhAn\"\n",
        "\n",
        "print(var_1.lower())"
      ],
      "metadata": {
        "colab": {
          "base_uri": "https://localhost:8080/"
        },
        "id": "mZBdy8W3rZP9",
        "outputId": "c49ec68b-42f7-416c-b50f-a4f259a41785"
      },
      "execution_count": null,
      "outputs": [
        {
          "output_type": "stream",
          "name": "stdout",
          "text": [
            "muhammad abdul subhan\n"
          ]
        }
      ]
    },
    {
      "cell_type": "markdown",
      "source": [
        "#2. Upper"
      ],
      "metadata": {
        "id": "NxTrDRK-tcJZ"
      }
    },
    {
      "cell_type": "code",
      "source": [
        "var_2 = \"mUhAmMaD aBdUl sUbHaN\"\n",
        "\n",
        "print(var_2.upper())"
      ],
      "metadata": {
        "colab": {
          "base_uri": "https://localhost:8080/"
        },
        "id": "TjOabu2cs6Q4",
        "outputId": "c74566c1-ba7c-4769-bfa7-ac4a58946600"
      },
      "execution_count": null,
      "outputs": [
        {
          "output_type": "stream",
          "name": "stdout",
          "text": [
            "MUHAMMAD ABDUL SUBHAN\n"
          ]
        }
      ]
    },
    {
      "cell_type": "markdown",
      "source": [
        "#3. Replace"
      ],
      "metadata": {
        "id": "KvlZPVn8tqD5"
      }
    },
    {
      "cell_type": "code",
      "source": [
        "var_3 = \"Muhammad Abdul Subhan\"\n",
        "\n",
        "print(var_3.replace(\"Muhammad\",\"\"))"
      ],
      "metadata": {
        "colab": {
          "base_uri": "https://localhost:8080/"
        },
        "id": "kswX889Ft01j",
        "outputId": "32b4be35-88a9-4248-f3ab-21854c98d6b4"
      },
      "execution_count": null,
      "outputs": [
        {
          "output_type": "stream",
          "name": "stdout",
          "text": [
            " Abdul Subhan\n"
          ]
        }
      ]
    },
    {
      "cell_type": "markdown",
      "source": [
        "#4. Split"
      ],
      "metadata": {
        "id": "xr1L_kkRvQD_"
      }
    },
    {
      "cell_type": "code",
      "source": [
        "var_4 = \"Mu Ha Mm Ad Ab Du L Su Bh An\"\n",
        "\n",
        "print(var_4.split())"
      ],
      "metadata": {
        "colab": {
          "base_uri": "https://localhost:8080/"
        },
        "id": "8Vykh9x7smKk",
        "outputId": "11db8b62-3936-429a-f203-8bf59803f64b"
      },
      "execution_count": null,
      "outputs": [
        {
          "output_type": "stream",
          "name": "stdout",
          "text": [
            "['Mu', 'Ha', 'Mm', 'Ad', 'Ab', 'Du', 'L', 'Su', 'Bh', 'An']\n"
          ]
        }
      ]
    },
    {
      "cell_type": "markdown",
      "source": [
        "#5. Join"
      ],
      "metadata": {
        "id": "miwYdiJrv_8c"
      }
    },
    {
      "cell_type": "code",
      "source": [
        "var_5 = \"M u h a m m a d A b d u l S u b h a n\"\n",
        "var_5_1 = \"\".join(var_5.split())\n",
        "\n",
        "print(var_5_1)"
      ],
      "metadata": {
        "colab": {
          "base_uri": "https://localhost:8080/"
        },
        "id": "n2q4eKz7xGwq",
        "outputId": "c5ec2ecb-5892-4802-c4c2-720a9d3c085f"
      },
      "execution_count": null,
      "outputs": [
        {
          "output_type": "stream",
          "name": "stdout",
          "text": [
            "MuhammadAbdulSubhan\n"
          ]
        }
      ]
    },
    {
      "cell_type": "markdown",
      "source": [
        "#6. Find"
      ],
      "metadata": {
        "id": "jf1VcvNl2sJL"
      }
    },
    {
      "cell_type": "code",
      "source": [
        "var_6 = \"Muhammad Abdul Subhan\"\n",
        "\n",
        "print(var_6.find(\"l\"))"
      ],
      "metadata": {
        "colab": {
          "base_uri": "https://localhost:8080/"
        },
        "id": "j8aOzo1t37bO",
        "outputId": "9ea6616b-0126-4a8e-b49c-985f164ed468"
      },
      "execution_count": null,
      "outputs": [
        {
          "output_type": "stream",
          "name": "stdout",
          "text": [
            "13\n"
          ]
        }
      ]
    },
    {
      "cell_type": "markdown",
      "source": [
        "#7. Startswith"
      ],
      "metadata": {
        "id": "WfLWKkPm4vp8"
      }
    },
    {
      "cell_type": "code",
      "source": [
        "var_7 = \"Muhammad Abdul Subhan\"\n",
        "\n",
        "print(var_7.startswith(\"M\"))"
      ],
      "metadata": {
        "colab": {
          "base_uri": "https://localhost:8080/"
        },
        "id": "-gpKb9X242mB",
        "outputId": "db748536-d755-4b0d-a5de-88dd026a6265"
      },
      "execution_count": null,
      "outputs": [
        {
          "output_type": "stream",
          "name": "stdout",
          "text": [
            "True\n"
          ]
        }
      ]
    },
    {
      "cell_type": "markdown",
      "source": [
        "#8. Endswith"
      ],
      "metadata": {
        "id": "FQmE_rlN5PCM"
      }
    },
    {
      "cell_type": "code",
      "source": [
        "var_8 = \"Muhammad Abdul Subhan\"\n",
        "\n",
        "print(var_8.endswith(\"n\"))"
      ],
      "metadata": {
        "colab": {
          "base_uri": "https://localhost:8080/"
        },
        "id": "h5eCTmI5xuKo",
        "outputId": "442c4803-21c1-4901-ebe2-f9aee276205e"
      },
      "execution_count": null,
      "outputs": [
        {
          "output_type": "stream",
          "name": "stdout",
          "text": [
            "True\n"
          ]
        }
      ]
    },
    {
      "cell_type": "markdown",
      "source": [
        "#9. Title"
      ],
      "metadata": {
        "id": "lKxqVd0P7XD0"
      }
    },
    {
      "cell_type": "code",
      "source": [
        "var_9 = \"muhammad abdul subhan\"\n",
        "\n",
        "print(var_9.title())"
      ],
      "metadata": {
        "colab": {
          "base_uri": "https://localhost:8080/"
        },
        "id": "FhANeVEZ0KbE",
        "outputId": "7aab4deb-c9af-4b99-c0fa-23eebe05fee2"
      },
      "execution_count": null,
      "outputs": [
        {
          "output_type": "stream",
          "name": "stdout",
          "text": [
            "Muhammad Abdul Subhan\n"
          ]
        }
      ]
    },
    {
      "cell_type": "markdown",
      "source": [
        "#10. Capitalize"
      ],
      "metadata": {
        "id": "LkQ_1sIs8mBU"
      }
    },
    {
      "cell_type": "code",
      "source": [
        "var_10 = \"muhammad abdul subhan\"\n",
        "\n",
        "print(var_10.capitalize())"
      ],
      "metadata": {
        "colab": {
          "base_uri": "https://localhost:8080/"
        },
        "id": "Cd7he1CU7fPd",
        "outputId": "de65f3b6-31a4-4ec8-e1ab-91916172bd47"
      },
      "execution_count": null,
      "outputs": [
        {
          "output_type": "stream",
          "name": "stdout",
          "text": [
            "Muhammad abdul subhan\n"
          ]
        }
      ]
    },
    {
      "cell_type": "markdown",
      "source": [
        "#11. Isalpa"
      ],
      "metadata": {
        "id": "UZ0YmgYv9Bo_"
      }
    },
    {
      "cell_type": "code",
      "source": [
        "var_11 = \"MuhammadAbdulSubhan\"\n",
        "\n",
        "print(var_11.isalpha())"
      ],
      "metadata": {
        "colab": {
          "base_uri": "https://localhost:8080/"
        },
        "id": "0RrKWZDz7FPZ",
        "outputId": "b4d8e1c6-7f33-42e8-d3d7-2ac8b88f6abf"
      },
      "execution_count": null,
      "outputs": [
        {
          "output_type": "stream",
          "name": "stdout",
          "text": [
            "True\n"
          ]
        }
      ]
    },
    {
      "cell_type": "markdown",
      "source": [
        "#12. Isdigit"
      ],
      "metadata": {
        "id": "EGJfkmIK5dF4"
      }
    },
    {
      "cell_type": "code",
      "source": [
        "var_12 = \"17\"\n",
        "\n",
        "print(var_12.isdigit())"
      ],
      "metadata": {
        "colab": {
          "base_uri": "https://localhost:8080/"
        },
        "id": "qHey-1OU5-Cv",
        "outputId": "fc6b0fad-99c1-4e31-a7a2-0949e3c6503e"
      },
      "execution_count": null,
      "outputs": [
        {
          "output_type": "stream",
          "name": "stdout",
          "text": [
            "True\n"
          ]
        }
      ]
    },
    {
      "cell_type": "markdown",
      "source": [
        "#13. Isalnum"
      ],
      "metadata": {
        "id": "iSbrzOMnu2ha"
      }
    },
    {
      "cell_type": "code",
      "source": [
        "var_13 = \"Muhammad17AbdulSubhan\"\n",
        "\n",
        "print(var_13.isalnum())"
      ],
      "metadata": {
        "colab": {
          "base_uri": "https://localhost:8080/"
        },
        "id": "1GQGzFoC8Tq3",
        "outputId": "006c7484-755e-4714-9088-1b1e32ca261d"
      },
      "execution_count": null,
      "outputs": [
        {
          "output_type": "stream",
          "name": "stdout",
          "text": [
            "True\n"
          ]
        }
      ]
    },
    {
      "cell_type": "markdown",
      "source": [
        "#14. Swapcase"
      ],
      "metadata": {
        "id": "WAgDNpDXuLKS"
      }
    },
    {
      "cell_type": "code",
      "source": [
        "var_14 = \"MuHaMmAd AbDuL SuBhAn\"\n",
        "\n",
        "print(var_14.swapcase())"
      ],
      "metadata": {
        "colab": {
          "base_uri": "https://localhost:8080/"
        },
        "id": "alKmBlFs7nfU",
        "outputId": "7305aebc-3323-47ea-bd6a-81179be16d47"
      },
      "execution_count": null,
      "outputs": [
        {
          "output_type": "stream",
          "name": "stdout",
          "text": [
            "mUhAmMaD aBdUl sUbHaN\n"
          ]
        }
      ]
    },
    {
      "cell_type": "markdown",
      "source": [
        "#15. strip"
      ],
      "metadata": {
        "id": "ZKLknHNQvp7_"
      }
    },
    {
      "cell_type": "code",
      "source": [
        "var_15 = \"                     Muhammad Abdul Subhan                    \"\n",
        "\n",
        "print(var_15.strip())"
      ],
      "metadata": {
        "colab": {
          "base_uri": "https://localhost:8080/"
        },
        "id": "britu1nY8zhf",
        "outputId": "eb092cdc-ca27-4bc1-d3ae-b92efecada73"
      },
      "execution_count": null,
      "outputs": [
        {
          "output_type": "stream",
          "name": "stdout",
          "text": [
            "Muhammad Abdul Subhan\n"
          ]
        }
      ]
    },
    {
      "cell_type": "markdown",
      "source": [
        "#16. length"
      ],
      "metadata": {
        "id": "y4ZA5vNlY29D"
      }
    },
    {
      "cell_type": "code",
      "source": [
        "var_16 = \"Muhammad Abdul Subhan\"\n",
        "\n",
        "print(len(var_16))"
      ],
      "metadata": {
        "colab": {
          "base_uri": "https://localhost:8080/"
        },
        "id": "ohRst1I9Y4wZ",
        "outputId": "faea3ea9-bcbe-4902-d746-646b77c06ccc"
      },
      "execution_count": null,
      "outputs": [
        {
          "output_type": "stream",
          "name": "stdout",
          "text": [
            "21\n"
          ]
        }
      ]
    },
    {
      "cell_type": "code",
      "source": [],
      "metadata": {
        "id": "32HAC7AIZMva"
      },
      "execution_count": null,
      "outputs": []
    }
  ]
}