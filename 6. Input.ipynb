{
  "nbformat": 4,
  "nbformat_minor": 0,
  "metadata": {
    "colab": {
      "provenance": []
    },
    "kernelspec": {
      "name": "python3",
      "display_name": "Python 3"
    },
    "language_info": {
      "name": "python"
    }
  },
  "cells": [
    {
      "cell_type": "markdown",
      "source": [
        "#Input"
      ],
      "metadata": {
        "id": "8V7gt5JugJ-A"
      }
    },
    {
      "cell_type": "code",
      "source": [
        "name = input(\"Enter Your Name: \")\n",
        "print(name)"
      ],
      "metadata": {
        "colab": {
          "base_uri": "https://localhost:8080/"
        },
        "id": "_VVIBxBCuNIh",
        "outputId": "3249ba7e-2f05-43ce-be6b-5091787cbd39"
      },
      "execution_count": 1,
      "outputs": [
        {
          "output_type": "stream",
          "name": "stdout",
          "text": [
            "Enter Your Name: Abdul Subhan\n",
            "Abdul Subhan\n"
          ]
        }
      ]
    }
  ]
}