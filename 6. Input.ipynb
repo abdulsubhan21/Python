{
  "nbformat": 4,
  "nbformat_minor": 0,
  "metadata": {
    "colab": {
      "provenance": []
    },
    "kernelspec": {
      "name": "python3",
      "display_name": "Python 3"
    },
    "language_info": {
      "name": "python"
    }
  },
  "cells": [
    {
      "cell_type": "markdown",
      "source": [
        "# Input Function"
      ],
      "metadata": {
        "id": "8V7gt5JugJ-A"
      }
    },
    {
      "cell_type": "code",
      "source": [
        "name = input(\"Enter Your Name: \")\n",
        "print(name)"
      ],
      "metadata": {
        "colab": {
          "base_uri": "https://localhost:8080/"
        },
        "id": "_VVIBxBCuNIh",
        "outputId": "3dd77cda-71f6-4577-c6d4-6aa579d14807"
      },
      "execution_count": 1,
      "outputs": [
        {
          "output_type": "stream",
          "name": "stdout",
          "text": [
            "Enter Your Name: Abdul Subhan\n",
            "Abdul Subhan\n"
          ]
        }
      ]
    }
  ]
}