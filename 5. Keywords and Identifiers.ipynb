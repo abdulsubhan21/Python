{
  "nbformat": 4,
  "nbformat_minor": 0,
  "metadata": {
    "colab": {
      "provenance": []
    },
    "kernelspec": {
      "name": "python3",
      "display_name": "Python 3"
    },
    "language_info": {
      "name": "python"
    }
  },
  "cells": [
    {
      "cell_type": "markdown",
      "source": [
        "#Keywords and Identifiers"
      ],
      "metadata": {
        "id": "-rU_B0Gkn5TA"
      }
    },
    {
      "cell_type": "markdown",
      "source": [
        "#Keywords"
      ],
      "metadata": {
        "id": "hr-cLtcbfeML"
      }
    },
    {
      "cell_type": "code",
      "source": [
        "import keyword\n",
        "print(keyword.kwlist)"
      ],
      "metadata": {
        "colab": {
          "base_uri": "https://localhost:8080/"
        },
        "id": "oP8v9jjRrVyr",
        "outputId": "34a6614e-c2e7-4810-c8a8-b954ba35d06a"
      },
      "execution_count": 1,
      "outputs": [
        {
          "output_type": "stream",
          "name": "stdout",
          "text": [
            "['False', 'None', 'True', 'and', 'as', 'assert', 'async', 'await', 'break', 'class', 'continue', 'def', 'del', 'elif', 'else', 'except', 'finally', 'for', 'from', 'global', 'if', 'import', 'in', 'is', 'lambda', 'nonlocal', 'not', 'or', 'pass', 'raise', 'return', 'try', 'while', 'with', 'yield']\n"
          ]
        }
      ]
    },
    {
      "cell_type": "markdown",
      "source": [
        "#Identifiers"
      ],
      "metadata": {
        "id": "Kd3dKDdFfpz3"
      }
    },
    {
      "cell_type": "code",
      "source": [
        "Name_1 = \"Abdul Subhan\"\n",
        "print(Name_1)"
      ],
      "metadata": {
        "colab": {
          "base_uri": "https://localhost:8080/"
        },
        "id": "nLW8_bNvrbLZ",
        "outputId": "3d14a147-c45d-47c5-beae-21b2fed020e5"
      },
      "execution_count": 2,
      "outputs": [
        {
          "output_type": "stream",
          "name": "stdout",
          "text": [
            "Abdul Subhan\n"
          ]
        }
      ]
    }
  ]
}