{
  "nbformat": 4,
  "nbformat_minor": 0,
  "metadata": {
    "colab": {
      "provenance": [],
      "collapsed_sections": [
        "rJFuVGkh6bqd",
        "RQ9TOG9i6jCX",
        "LJHoQTz_6xeb",
        "oDJeA4bT8wZx",
        "pvNG2E7EfLt4",
        "HR5AbsH2hdxs"
      ]
    },
    "kernelspec": {
      "name": "python3",
      "display_name": "Python 3"
    },
    "language_info": {
      "name": "python"
    }
  },
  "cells": [
    {
      "cell_type": "markdown",
      "source": [
        "#List Comprehension"
      ],
      "metadata": {
        "id": "JVo3U_Ek8oIO"
      }
    },
    {
      "cell_type": "markdown",
      "source": [
        "# 1. List Comprehension With List"
      ],
      "metadata": {
        "id": "rJFuVGkh6bqd"
      }
    },
    {
      "cell_type": "code",
      "execution_count": null,
      "metadata": {
        "id": "PIiok6fc8fOY",
        "colab": {
          "base_uri": "https://localhost:8080/"
        },
        "outputId": "a02fc557-df42-45a6-db18-f8d22cb0bfa9"
      },
      "outputs": [
        {
          "output_type": "stream",
          "name": "stdout",
          "text": [
            "[1, 2, 3, 4, 5, 6, 7, 8, 9, 10, 11, 12, 13, 14, 15, 16, 17, 18, 19, 20]\n"
          ]
        }
      ],
      "source": [
        "list_1 = [0, 1, 2, 3, 4, 5, 6, 7, 8, 9, 10, 11, 12, 13, 14, 15, 16, 17, 18, 19]\n",
        "\n",
        "new_list_1 = [i + 1 for i in list_1]\n",
        "print(new_list_1)"
      ]
    },
    {
      "cell_type": "markdown",
      "source": [
        "#2. List Comprehension With Range Function"
      ],
      "metadata": {
        "id": "RQ9TOG9i6jCX"
      }
    },
    {
      "cell_type": "code",
      "source": [
        "list_2 = [i + 1 for i in range(20)]\n",
        "print(list_2)"
      ],
      "metadata": {
        "colab": {
          "base_uri": "https://localhost:8080/"
        },
        "id": "KjrRLlXW15F_",
        "outputId": "49cbaee4-e4eb-446e-ca76-d87701141e49"
      },
      "execution_count": null,
      "outputs": [
        {
          "output_type": "stream",
          "name": "stdout",
          "text": [
            "[1, 2, 3, 4, 5, 6, 7, 8, 9, 10, 11, 12, 13, 14, 15, 16, 17, 18, 19, 20]\n"
          ]
        }
      ]
    },
    {
      "cell_type": "markdown",
      "source": [
        "#3. List Compreension With condition"
      ],
      "metadata": {
        "id": "LJHoQTz_6xeb"
      }
    },
    {
      "cell_type": "code",
      "source": [
        "list_3 = [i for i in range(21) if i % 2 == 0]\n",
        "print(list_3)"
      ],
      "metadata": {
        "colab": {
          "base_uri": "https://localhost:8080/"
        },
        "id": "sxoXtLrn2c-U",
        "outputId": "7a6213a2-9948-4214-a3df-d53246fe5a26"
      },
      "execution_count": null,
      "outputs": [
        {
          "output_type": "stream",
          "name": "stdout",
          "text": [
            "[0, 2, 4, 6, 8, 10, 12, 14, 16, 18, 20]\n"
          ]
        }
      ]
    },
    {
      "cell_type": "markdown",
      "source": [
        "#4. List Comprehension With Nested Condition"
      ],
      "metadata": {
        "id": "oDJeA4bT8wZx"
      }
    },
    {
      "cell_type": "code",
      "source": [
        "list_4 = [i for i in range(21) if i % 2 == 0 if i % 3 == 0]\n",
        "print(list_4)"
      ],
      "metadata": {
        "colab": {
          "base_uri": "https://localhost:8080/"
        },
        "id": "mmxTggkl6GDm",
        "outputId": "34cde2fc-dd96-477b-c673-d6c6aae518ef"
      },
      "execution_count": null,
      "outputs": [
        {
          "output_type": "stream",
          "name": "stdout",
          "text": [
            "[0, 6, 12, 18]\n"
          ]
        }
      ]
    },
    {
      "cell_type": "markdown",
      "source": [
        "#5. List Comprehesion With If Else Statemet"
      ],
      "metadata": {
        "id": "pvNG2E7EfLt4"
      }
    },
    {
      "cell_type": "code",
      "source": [
        "list_5 = [i if i % 2 == 0 else \"Invalid\" for i in range(10)]\n",
        "print(list_5)"
      ],
      "metadata": {
        "colab": {
          "base_uri": "https://localhost:8080/"
        },
        "id": "9ZA-M66D9mdW",
        "outputId": "f5815b1d-3c45-4d88-8092-7835fcaca1eb"
      },
      "execution_count": null,
      "outputs": [
        {
          "output_type": "stream",
          "name": "stdout",
          "text": [
            "[0, 'Invalid', 2, 'Invalid', 4, 'Invalid', 6, 'Invalid', 8, 'Invalid']\n"
          ]
        }
      ]
    },
    {
      "cell_type": "markdown",
      "source": [
        "# 6. Nested List Comprehension"
      ],
      "metadata": {
        "id": "HR5AbsH2hdxs"
      }
    },
    {
      "cell_type": "code",
      "source": [
        "list_6 = [[i * j for j in range(1, 6)]for i in range(6, 11)]\n",
        "print(list_6)"
      ],
      "metadata": {
        "colab": {
          "base_uri": "https://localhost:8080/"
        },
        "id": "sAGAUrjnhZsy",
        "outputId": "03f03f89-876a-4ea0-d0bd-641d96cba7f5"
      },
      "execution_count": null,
      "outputs": [
        {
          "output_type": "stream",
          "name": "stdout",
          "text": [
            "[[6, 12, 18, 24, 30], [7, 14, 21, 28, 35], [8, 16, 24, 32, 40], [9, 18, 27, 36, 45], [10, 20, 30, 40, 50]]\n"
          ]
        }
      ]
    }
  ]
}