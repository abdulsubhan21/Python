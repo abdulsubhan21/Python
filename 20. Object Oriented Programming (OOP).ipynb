{
  "nbformat": 4,
  "nbformat_minor": 0,
  "metadata": {
    "colab": {
      "provenance": [],
      "collapsed_sections": [
        "7kcdH33K4Jel",
        "SldtKoEr8u_t",
        "TZbnGMLRCQUV",
        "CJ_t1aECCWo9",
        "7q7GLQ_tL0xi",
        "f9B9MqNaYRmV",
        "dw0ORtEMaPb0",
        "JPovW9Q5N4RY",
        "a893G4FTkcgi"
      ]
    },
    "kernelspec": {
      "name": "python3",
      "display_name": "Python 3"
    },
    "language_info": {
      "name": "python"
    }
  },
  "cells": [
    {
      "cell_type": "markdown",
      "source": [
        "# Object Oriented Programming (OOP)"
      ],
      "metadata": {
        "id": "nFqydvE-a7ux"
      }
    },
    {
      "cell_type": "markdown",
      "source": [
        "# Class, Object, Attribute and Method"
      ],
      "metadata": {
        "id": "7kcdH33K4Jel"
      }
    },
    {
      "cell_type": "code",
      "source": [
        "class cal:\n",
        "  def add(self, a, b):\n",
        "    return a + b\n",
        "\n",
        "operation = cal()\n",
        "operation.add(2, 3)"
      ],
      "metadata": {
        "colab": {
          "base_uri": "https://localhost:8080/"
        },
        "id": "2Egu7f69q_ZI",
        "outputId": "8be15c41-2107-465c-e4fa-a93cbb027e4a"
      },
      "execution_count": 1,
      "outputs": [
        {
          "output_type": "execute_result",
          "data": {
            "text/plain": [
              "5"
            ]
          },
          "metadata": {},
          "execution_count": 1
        }
      ]
    },
    {
      "cell_type": "markdown",
      "source": [
        "# Constructor Method"
      ],
      "metadata": {
        "id": "SldtKoEr8u_t"
      }
    },
    {
      "cell_type": "code",
      "source": [
        "class cal:\n",
        "  def __init__(self, a, b):\n",
        "    self.a = a\n",
        "    self.b = b\n",
        "\n",
        "  def add(self):\n",
        "    return self.a + self.b\n",
        "\n",
        "operator = cal(2, 9)\n",
        "operator.add()"
      ],
      "metadata": {
        "colab": {
          "base_uri": "https://localhost:8080/"
        },
        "id": "1kCKbqHWsX6l",
        "outputId": "11a31b20-8c9b-4575-a7ba-6dfa55c320fb"
      },
      "execution_count": 2,
      "outputs": [
        {
          "output_type": "execute_result",
          "data": {
            "text/plain": [
              "11"
            ]
          },
          "metadata": {},
          "execution_count": 2
        }
      ]
    },
    {
      "cell_type": "markdown",
      "source": [
        "# Destructor Method"
      ],
      "metadata": {
        "id": "TZbnGMLRCQUV"
      }
    },
    {
      "cell_type": "code",
      "source": [
        "class cal:\n",
        "  def __init__(self, a, b):\n",
        "    self.a = a\n",
        "    self.b = b\n",
        "\n",
        "\n",
        "  def add(self):\n",
        "    return self.a + self.b\n",
        "\n",
        "  def __del__(self):\n",
        "    print(\"deleted\")\n",
        "\n",
        "operator = cal(2, 9)\n",
        "operator.add()\n",
        "del operator"
      ],
      "metadata": {
        "colab": {
          "base_uri": "https://localhost:8080/"
        },
        "id": "WAVLVTtb61tf",
        "outputId": "44a552d8-0951-4a8a-ab11-78f6cbab83d9"
      },
      "execution_count": 3,
      "outputs": [
        {
          "output_type": "stream",
          "name": "stdout",
          "text": [
            "deleted\n"
          ]
        }
      ]
    },
    {
      "cell_type": "markdown",
      "source": [
        "# str Method"
      ],
      "metadata": {
        "id": "CJ_t1aECCWo9"
      }
    },
    {
      "cell_type": "code",
      "source": [
        "class Student:\n",
        "    def __init__(self, name, grade):\n",
        "        self.name = name\n",
        "        self.grade = grade\n",
        "\n",
        "    def __str__(self):\n",
        "        return f\"Student(name = {self.name}, grade = {self.grade})\"\n",
        "\n",
        "student = Student(\"Abdul Subhan\", \"A\")\n",
        "print(student)"
      ],
      "metadata": {
        "colab": {
          "base_uri": "https://localhost:8080/"
        },
        "id": "PCkdPioh89eO",
        "outputId": "6353e2ab-e426-498a-8ddb-ebc6328565b4"
      },
      "execution_count": 4,
      "outputs": [
        {
          "output_type": "stream",
          "name": "stdout",
          "text": [
            "Student(name = Abdul Subhan, grade = A)\n"
          ]
        }
      ]
    },
    {
      "cell_type": "markdown",
      "source": [
        "# repr Method"
      ],
      "metadata": {
        "id": "7q7GLQ_tL0xi"
      }
    },
    {
      "cell_type": "code",
      "source": [
        "class Student:\n",
        "    def __init__(self, name, grade):\n",
        "        self.name = name\n",
        "        self.grade = grade\n",
        "\n",
        "    def __repr__(self):\n",
        "        return f\"Student(name = {self.name}, grade = {self.grade})\"\n",
        "\n",
        "student = Student(\"Abdul Subhan\", \"A\")\n",
        "print(student)"
      ],
      "metadata": {
        "colab": {
          "base_uri": "https://localhost:8080/"
        },
        "id": "VgEtW60a_UOA",
        "outputId": "f9831bc8-2a7e-4f85-bda3-f437cf1a3054"
      },
      "execution_count": 5,
      "outputs": [
        {
          "output_type": "stream",
          "name": "stdout",
          "text": [
            "Student(name = Abdul Subhan, grade = A)\n"
          ]
        }
      ]
    },
    {
      "cell_type": "markdown",
      "source": [
        "# Inheritance"
      ],
      "metadata": {
        "id": "f9B9MqNaYRmV"
      }
    },
    {
      "cell_type": "code",
      "source": [
        "class Humans:\n",
        "    def eat(self):\n",
        "        print(\"This is human food.\")\n",
        "\n",
        "class Human(Humans):\n",
        "    def roti(self):\n",
        "        print(\"This is roti.\")\n",
        "\n",
        "human = Human()\n",
        "human.eat()\n",
        "human.roti()"
      ],
      "metadata": {
        "id": "Y072OjJHIv3C",
        "colab": {
          "base_uri": "https://localhost:8080/"
        },
        "outputId": "f8fa4851-c75f-4121-ed3b-78b98f353a09"
      },
      "execution_count": 6,
      "outputs": [
        {
          "output_type": "stream",
          "name": "stdout",
          "text": [
            "This is human food.\n",
            "This is roti.\n"
          ]
        }
      ]
    },
    {
      "cell_type": "markdown",
      "source": [
        "# Encapsulation with Public and Private Attribute"
      ],
      "metadata": {
        "id": "dw0ORtEMaPb0"
      }
    },
    {
      "cell_type": "code",
      "source": [
        "class BankAccount:\n",
        "    def __init__(self, account_holder, balance):\n",
        "        self.account_holder = account_holder\n",
        "        self.__balance = balance\n",
        "\n",
        "    def get_balance(self):\n",
        "        return self.__balance\n",
        "\n",
        "    def deposit(self, amount):\n",
        "        if amount > 0:\n",
        "            self.__balance += amount\n",
        "            print(f\"${amount} deposited. New balance: ${self.__balance}\")\n",
        "        else:\n",
        "            print(\"Amount must be positive.\")\n",
        "\n",
        "account = BankAccount(\"John\", 1000)\n",
        "print(account.get_balance())\n",
        "account.deposit(500)"
      ],
      "metadata": {
        "colab": {
          "base_uri": "https://localhost:8080/"
        },
        "id": "TdXZSrYTySyT",
        "outputId": "d6bc75e3-e027-4afc-cbc7-7d0f53b32f11"
      },
      "execution_count": 7,
      "outputs": [
        {
          "output_type": "stream",
          "name": "stdout",
          "text": [
            "1000\n",
            "$500 deposited. New balance: $1500\n"
          ]
        }
      ]
    },
    {
      "cell_type": "markdown",
      "source": [
        "# Abstraction"
      ],
      "metadata": {
        "id": "JPovW9Q5N4RY"
      }
    },
    {
      "cell_type": "code",
      "source": [
        "from abc import ABC, abstractmethod\n",
        "\n",
        "class Device(ABC):\n",
        "    @abstractmethod\n",
        "    def turn_on(self):\n",
        "        pass\n",
        "\n",
        "    @abstractmethod\n",
        "    def turn_off(self):\n",
        "        pass\n",
        "\n",
        "class Fan(Device):\n",
        "    def turn_on(self):\n",
        "        print(\"The fan is now ON.\")\n",
        "\n",
        "    def turn_off(self):\n",
        "        print(\"The fan is now OFF.\")\n",
        "\n",
        "class Light(Device):\n",
        "    def turn_on(self):\n",
        "        print(\"The light is now ON.\")\n",
        "\n",
        "    def turn_off(self):\n",
        "        print(\"The light is now OFF.\")\n",
        "\n",
        "device1 = Fan()\n",
        "device2 = Light()\n",
        "\n",
        "device1.turn_on()\n",
        "device1.turn_off()\n",
        "\n",
        "device2.turn_on()\n",
        "device2.turn_off()"
      ],
      "metadata": {
        "colab": {
          "base_uri": "https://localhost:8080/"
        },
        "id": "gOrQNcxSCVmN",
        "outputId": "80475f0f-75d1-4408-db59-4ea2bd864ba2"
      },
      "execution_count": 8,
      "outputs": [
        {
          "output_type": "stream",
          "name": "stdout",
          "text": [
            "The fan is now ON.\n",
            "The fan is now OFF.\n",
            "The light is now ON.\n",
            "The light is now OFF.\n"
          ]
        }
      ]
    },
    {
      "cell_type": "markdown",
      "source": [
        "# Polymorphism With Method Overriding"
      ],
      "metadata": {
        "id": "a893G4FTkcgi"
      }
    },
    {
      "cell_type": "code",
      "source": [
        "class Animal:\n",
        "    def sound(self):\n",
        "        return \"Some generic animal sound.\"\n",
        "\n",
        "class Dog(Animal):\n",
        "    def sound(self):\n",
        "        return \"Dog can bark\"\n",
        "\n",
        "class Cat(Animal):\n",
        "    def sound(self):\n",
        "        return \"Cat can Meow\"\n",
        "\n",
        "animals = [Animal(), Dog(), Cat()]\n",
        "\n",
        "for animal in animals:\n",
        "    print(animal.sound())"
      ],
      "metadata": {
        "colab": {
          "base_uri": "https://localhost:8080/"
        },
        "id": "THzT_sc-kbyA",
        "outputId": "9e1ff64d-02b5-4e43-e335-4d39156520f9"
      },
      "execution_count": 9,
      "outputs": [
        {
          "output_type": "stream",
          "name": "stdout",
          "text": [
            "Some generic animal sound.\n",
            "Dog can bark\n",
            "Cat can Meow\n"
          ]
        }
      ]
    }
  ]
}