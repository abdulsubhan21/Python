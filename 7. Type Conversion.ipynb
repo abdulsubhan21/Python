{
  "nbformat": 4,
  "nbformat_minor": 0,
  "metadata": {
    "colab": {
      "provenance": [],
      "collapsed_sections": [
        "Jd2o3rftgoME",
        "UpTUoK1MgwG7"
      ]
    },
    "kernelspec": {
      "name": "python3",
      "display_name": "Python 3"
    },
    "language_info": {
      "name": "python"
    }
  },
  "cells": [
    {
      "cell_type": "markdown",
      "source": [
        "#Type Conversion in Python"
      ],
      "metadata": {
        "id": "ZlRW2WmlginG"
      }
    },
    {
      "cell_type": "markdown",
      "source": [
        "#Implicit"
      ],
      "metadata": {
        "id": "Jd2o3rftgoME"
      }
    },
    {
      "cell_type": "code",
      "source": [
        "5 + 5.5 + 5j"
      ],
      "metadata": {
        "colab": {
          "base_uri": "https://localhost:8080/"
        },
        "id": "GOVchzh0wHyU",
        "outputId": "510fa73d-26cb-48b1-9713-ec8e3a3f2060"
      },
      "execution_count": null,
      "outputs": [
        {
          "output_type": "execute_result",
          "data": {
            "text/plain": [
              "(10.5+5j)"
            ]
          },
          "metadata": {},
          "execution_count": 3
        }
      ]
    },
    {
      "cell_type": "markdown",
      "source": [
        "#Explicit"
      ],
      "metadata": {
        "id": "UpTUoK1MgwG7"
      }
    },
    {
      "cell_type": "code",
      "source": [
        "a = 5.5"
      ],
      "metadata": {
        "id": "Ij-kAOFLwbH2"
      },
      "execution_count": null,
      "outputs": []
    },
    {
      "cell_type": "code",
      "source": [
        "int(a)"
      ],
      "metadata": {
        "colab": {
          "base_uri": "https://localhost:8080/"
        },
        "id": "rzG7l6oTwdx_",
        "outputId": "bc3223a5-ec62-4bc7-9f6a-e667053c3023"
      },
      "execution_count": null,
      "outputs": [
        {
          "output_type": "execute_result",
          "data": {
            "text/plain": [
              "5"
            ]
          },
          "metadata": {},
          "execution_count": 6
        }
      ]
    },
    {
      "cell_type": "code",
      "source": [
        "a"
      ],
      "metadata": {
        "colab": {
          "base_uri": "https://localhost:8080/"
        },
        "id": "qfU4FLRqwgEr",
        "outputId": "b3e2e503-7277-4aea-d1e2-133c6c91fab5"
      },
      "execution_count": null,
      "outputs": [
        {
          "output_type": "execute_result",
          "data": {
            "text/plain": [
              "5.5"
            ]
          },
          "metadata": {},
          "execution_count": 7
        }
      ]
    },
    {
      "cell_type": "code",
      "source": [
        "first_num = int(input(\"Enter The First Number\"))\n",
        "second_num = int(input(\"Enter The Second Number\"))\n",
        "\n",
        "result = first_num + second_num\n",
        "print(result)"
      ],
      "metadata": {
        "colab": {
          "base_uri": "https://localhost:8080/"
        },
        "id": "pDzedM3MwitE",
        "outputId": "ccb17dab-8f11-47a2-ed4d-fb2a1db54cf6"
      },
      "execution_count": null,
      "outputs": [
        {
          "output_type": "stream",
          "name": "stdout",
          "text": [
            "Enter The First Number10\n",
            "Enter The Second Number7\n",
            "17\n"
          ]
        }
      ]
    }
  ]
}