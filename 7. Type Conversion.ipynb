{
  "nbformat": 4,
  "nbformat_minor": 0,
  "metadata": {
    "colab": {
      "provenance": [],
      "collapsed_sections": [
        "Jd2o3rftgoME"
      ]
    },
    "kernelspec": {
      "name": "python3",
      "display_name": "Python 3"
    },
    "language_info": {
      "name": "python"
    }
  },
  "cells": [
    {
      "cell_type": "markdown",
      "source": [
        "#Type Conversion in Python"
      ],
      "metadata": {
        "id": "ZlRW2WmlginG"
      }
    },
    {
      "cell_type": "markdown",
      "source": [
        "#Implicit"
      ],
      "metadata": {
        "id": "Jd2o3rftgoME"
      }
    },
    {
      "cell_type": "code",
      "source": [
        "5 + 5.5 + 5j"
      ],
      "metadata": {
        "colab": {
          "base_uri": "https://localhost:8080/"
        },
        "id": "GOVchzh0wHyU",
        "outputId": "0c106373-37a4-4f9b-e6c4-a2ef1f988961"
      },
      "execution_count": 1,
      "outputs": [
        {
          "output_type": "execute_result",
          "data": {
            "text/plain": [
              "(10.5+5j)"
            ]
          },
          "metadata": {},
          "execution_count": 1
        }
      ]
    },
    {
      "cell_type": "markdown",
      "source": [
        "#Explicit"
      ],
      "metadata": {
        "id": "UpTUoK1MgwG7"
      }
    },
    {
      "cell_type": "code",
      "source": [
        "a = 5.5"
      ],
      "metadata": {
        "id": "Ij-kAOFLwbH2"
      },
      "execution_count": 2,
      "outputs": []
    },
    {
      "cell_type": "code",
      "source": [
        "int(a)"
      ],
      "metadata": {
        "colab": {
          "base_uri": "https://localhost:8080/"
        },
        "id": "rzG7l6oTwdx_",
        "outputId": "ba3b47ec-f316-40e6-9720-077b1fe80b49"
      },
      "execution_count": 3,
      "outputs": [
        {
          "output_type": "execute_result",
          "data": {
            "text/plain": [
              "5"
            ]
          },
          "metadata": {},
          "execution_count": 3
        }
      ]
    },
    {
      "cell_type": "code",
      "source": [
        "a"
      ],
      "metadata": {
        "colab": {
          "base_uri": "https://localhost:8080/"
        },
        "id": "qfU4FLRqwgEr",
        "outputId": "7c734f51-dcc1-4e8d-9087-0d7d72d3bc58"
      },
      "execution_count": 4,
      "outputs": [
        {
          "output_type": "execute_result",
          "data": {
            "text/plain": [
              "5.5"
            ]
          },
          "metadata": {},
          "execution_count": 4
        }
      ]
    },
    {
      "cell_type": "code",
      "source": [
        "first_num = int(input(\"Enter The First Number: \"))\n",
        "second_num = int(input(\"Enter The Second Number: \"))\n",
        "\n",
        "result = first_num + second_num\n",
        "print(result)"
      ],
      "metadata": {
        "colab": {
          "base_uri": "https://localhost:8080/"
        },
        "id": "pDzedM3MwitE",
        "outputId": "c4016492-0686-455a-a946-f111e0017046"
      },
      "execution_count": 6,
      "outputs": [
        {
          "output_type": "stream",
          "name": "stdout",
          "text": [
            "Enter The First Number: 10\n",
            "Enter The Second Number: 5\n",
            "15\n"
          ]
        }
      ]
    }
  ]
}