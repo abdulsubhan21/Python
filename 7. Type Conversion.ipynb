{
  "nbformat": 4,
  "nbformat_minor": 0,
  "metadata": {
    "colab": {
      "provenance": []
    },
    "kernelspec": {
      "name": "python3",
      "display_name": "Python 3"
    },
    "language_info": {
      "name": "python"
    }
  },
  "cells": [
    {
      "cell_type": "markdown",
      "source": [
        "#Type Conversion in Python"
      ],
      "metadata": {
        "id": "ZlRW2WmlginG"
      }
    },
    {
      "cell_type": "markdown",
      "source": [
        "#Implicit"
      ],
      "metadata": {
        "id": "Jd2o3rftgoME"
      }
    },
    {
      "cell_type": "code",
      "source": [
        "5 + 5.5 + 5j"
      ],
      "metadata": {
        "colab": {
          "base_uri": "https://localhost:8080/"
        },
        "id": "GOVchzh0wHyU",
        "outputId": "7bffb9c8-7b38-4d39-fc6b-0503b57b6dfc"
      },
      "execution_count": 1,
      "outputs": [
        {
          "output_type": "execute_result",
          "data": {
            "text/plain": [
              "(10.5+5j)"
            ]
          },
          "metadata": {},
          "execution_count": 1
        }
      ]
    },
    {
      "cell_type": "markdown",
      "source": [
        "#Explicit"
      ],
      "metadata": {
        "id": "UpTUoK1MgwG7"
      }
    },
    {
      "cell_type": "code",
      "source": [
        "a = 5.5"
      ],
      "metadata": {
        "id": "Ij-kAOFLwbH2"
      },
      "execution_count": 2,
      "outputs": []
    },
    {
      "cell_type": "code",
      "source": [
        "int(a)"
      ],
      "metadata": {
        "colab": {
          "base_uri": "https://localhost:8080/"
        },
        "id": "rzG7l6oTwdx_",
        "outputId": "53ae7577-abd2-43bc-892d-832de3e77455"
      },
      "execution_count": 3,
      "outputs": [
        {
          "output_type": "execute_result",
          "data": {
            "text/plain": [
              "5"
            ]
          },
          "metadata": {},
          "execution_count": 3
        }
      ]
    },
    {
      "cell_type": "code",
      "source": [
        "a"
      ],
      "metadata": {
        "colab": {
          "base_uri": "https://localhost:8080/"
        },
        "id": "qfU4FLRqwgEr",
        "outputId": "7a1dd45b-4a13-4fa3-c48c-c8d089a77ea0"
      },
      "execution_count": 4,
      "outputs": [
        {
          "output_type": "execute_result",
          "data": {
            "text/plain": [
              "5.5"
            ]
          },
          "metadata": {},
          "execution_count": 4
        }
      ]
    },
    {
      "cell_type": "code",
      "source": [
        "first_num = int(input(\"Enter The First Number\"))\n",
        "second_num = int(input(\"Enter The Second Number\"))\n",
        "\n",
        "result = first_num + second_num\n",
        "print(result)"
      ],
      "metadata": {
        "colab": {
          "base_uri": "https://localhost:8080/"
        },
        "id": "pDzedM3MwitE",
        "outputId": "e568f291-7fe9-4489-c0ad-7c5e87f56538"
      },
      "execution_count": 5,
      "outputs": [
        {
          "output_type": "stream",
          "name": "stdout",
          "text": [
            "Enter The First Number20\n",
            "Enter The Second Number10\n",
            "30\n"
          ]
        }
      ]
    }
  ]
}