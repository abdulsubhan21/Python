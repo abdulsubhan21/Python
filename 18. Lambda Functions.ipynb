{
  "nbformat": 4,
  "nbformat_minor": 0,
  "metadata": {
    "colab": {
      "provenance": []
    },
    "kernelspec": {
      "name": "python3",
      "display_name": "Python 3"
    },
    "language_info": {
      "name": "python"
    }
  },
  "cells": [
    {
      "cell_type": "markdown",
      "source": [
        "# Lambda Functions"
      ],
      "metadata": {
        "id": "l2POToeZDZoS"
      }
    },
    {
      "cell_type": "markdown",
      "source": [
        "#1. Function With Calling Function"
      ],
      "metadata": {
        "id": "daJyhLHpL0vo"
      }
    },
    {
      "cell_type": "code",
      "source": [
        "Print = lambda x : x\n",
        "Print(5)"
      ],
      "metadata": {
        "id": "OOUgJP7NFMTI",
        "colab": {
          "base_uri": "https://localhost:8080/"
        },
        "outputId": "acd061e7-6ac0-45cd-9b0c-136e8dcd4754"
      },
      "execution_count": 1,
      "outputs": [
        {
          "output_type": "execute_result",
          "data": {
            "text/plain": [
              "5"
            ]
          },
          "metadata": {},
          "execution_count": 1
        }
      ]
    },
    {
      "cell_type": "markdown",
      "source": [
        "#2. Function With Arguments"
      ],
      "metadata": {
        "id": "sGyAztOPL-_M"
      }
    },
    {
      "cell_type": "code",
      "source": [
        "add = lambda x, y : x + y\n",
        "add(5, 2)"
      ],
      "metadata": {
        "colab": {
          "base_uri": "https://localhost:8080/"
        },
        "id": "0yM65wGlGmGS",
        "outputId": "7881da0c-a58a-49f3-93e9-74d156a13e9f"
      },
      "execution_count": 2,
      "outputs": [
        {
          "output_type": "execute_result",
          "data": {
            "text/plain": [
              "7"
            ]
          },
          "metadata": {},
          "execution_count": 2
        }
      ]
    },
    {
      "cell_type": "markdown",
      "source": [
        "#3. Function With Default Parameter Value"
      ],
      "metadata": {
        "id": "3MqH2PsZLptM"
      }
    },
    {
      "cell_type": "code",
      "source": [
        "add = lambda x = 1, y = 1 : x + y\n",
        "a = add()\n",
        "b = add(5)\n",
        "c = add(5, 3)\n",
        "\n",
        "print(a)\n",
        "print(b)\n",
        "print(c)"
      ],
      "metadata": {
        "colab": {
          "base_uri": "https://localhost:8080/"
        },
        "id": "qz7rMeJXIM4E",
        "outputId": "f182f9d0-c137-4790-ea94-77f2b94cc720"
      },
      "execution_count": 3,
      "outputs": [
        {
          "output_type": "stream",
          "name": "stdout",
          "text": [
            "2\n",
            "6\n",
            "8\n"
          ]
        }
      ]
    },
    {
      "cell_type": "markdown",
      "source": [
        "#4. Nested Lambda Funcions"
      ],
      "metadata": {
        "id": "g-FRfnFEO_3v"
      }
    },
    {
      "cell_type": "code",
      "source": [
        "add = lambda x = 10 : (lambda y : x + y)\n",
        "a = add()\n",
        "print(a(20))"
      ],
      "metadata": {
        "colab": {
          "base_uri": "https://localhost:8080/"
        },
        "id": "0xFP6lOMLmfe",
        "outputId": "506cf6de-683e-4a87-c46d-5216c04bc9f0"
      },
      "execution_count": 4,
      "outputs": [
        {
          "output_type": "stream",
          "name": "stdout",
          "text": [
            "30\n"
          ]
        }
      ]
    },
    {
      "cell_type": "markdown",
      "source": [
        "#5. Passing Lambda Function To Another Function"
      ],
      "metadata": {
        "id": "zofsaXUPTu9_"
      }
    },
    {
      "cell_type": "code",
      "source": [
        "def show(a):\n",
        "  print(a(8))\n",
        "\n",
        "show(lambda x : x)"
      ],
      "metadata": {
        "colab": {
          "base_uri": "https://localhost:8080/"
        },
        "id": "MHgm8FOLS4xk",
        "outputId": "25e3521b-5b71-4838-864c-315332dd8eed"
      },
      "execution_count": 5,
      "outputs": [
        {
          "output_type": "stream",
          "name": "stdout",
          "text": [
            "8\n"
          ]
        }
      ]
    },
    {
      "cell_type": "markdown",
      "source": [
        "#6. Returning Lambda Function From A Function"
      ],
      "metadata": {
        "id": "tYakfXhGWQSU"
      }
    },
    {
      "cell_type": "code",
      "source": [
        "def add():\n",
        "  y = 20\n",
        "  return(lambda x : x + y)\n",
        "\n",
        "a = add()\n",
        "print(a(10))"
      ],
      "metadata": {
        "colab": {
          "base_uri": "https://localhost:8080/"
        },
        "id": "7V_KjIFfUSLP",
        "outputId": "6105f665-f94f-411a-808e-81750090df59"
      },
      "execution_count": 6,
      "outputs": [
        {
          "output_type": "stream",
          "name": "stdout",
          "text": [
            "30\n"
          ]
        }
      ]
    }
  ]
}