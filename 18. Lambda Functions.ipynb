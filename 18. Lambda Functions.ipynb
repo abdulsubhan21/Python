{
  "nbformat": 4,
  "nbformat_minor": 0,
  "metadata": {
    "colab": {
      "provenance": [],
      "collapsed_sections": [
        "daJyhLHpL0vo",
        "sGyAztOPL-_M",
        "3MqH2PsZLptM",
        "g-FRfnFEO_3v",
        "zofsaXUPTu9_",
        "tYakfXhGWQSU"
      ]
    },
    "kernelspec": {
      "name": "python3",
      "display_name": "Python 3"
    },
    "language_info": {
      "name": "python"
    }
  },
  "cells": [
    {
      "cell_type": "markdown",
      "source": [
        "# Lambda Functions"
      ],
      "metadata": {
        "id": "l2POToeZDZoS"
      }
    },
    {
      "cell_type": "markdown",
      "source": [
        "#1. Function With Calling Function"
      ],
      "metadata": {
        "id": "daJyhLHpL0vo"
      }
    },
    {
      "cell_type": "code",
      "source": [
        "Print = lambda x : x\n",
        "Print(5)"
      ],
      "metadata": {
        "id": "OOUgJP7NFMTI",
        "colab": {
          "base_uri": "https://localhost:8080/"
        },
        "outputId": "3d9603ad-ba09-4854-c700-ee3d7d239898"
      },
      "execution_count": 1,
      "outputs": [
        {
          "output_type": "execute_result",
          "data": {
            "text/plain": [
              "5"
            ]
          },
          "metadata": {},
          "execution_count": 1
        }
      ]
    },
    {
      "cell_type": "markdown",
      "source": [
        "#2. Function With Arguments"
      ],
      "metadata": {
        "id": "sGyAztOPL-_M"
      }
    },
    {
      "cell_type": "code",
      "source": [
        "add = lambda x, y : x + y\n",
        "add(5, 2)"
      ],
      "metadata": {
        "colab": {
          "base_uri": "https://localhost:8080/"
        },
        "id": "0yM65wGlGmGS",
        "outputId": "010c6088-bd58-4c5d-d98a-f539a51ada86"
      },
      "execution_count": 2,
      "outputs": [
        {
          "output_type": "execute_result",
          "data": {
            "text/plain": [
              "7"
            ]
          },
          "metadata": {},
          "execution_count": 2
        }
      ]
    },
    {
      "cell_type": "markdown",
      "source": [
        "#3. Function With Default Parameter Value"
      ],
      "metadata": {
        "id": "3MqH2PsZLptM"
      }
    },
    {
      "cell_type": "code",
      "source": [
        "add = lambda x = 1, y = 1 : x + y\n",
        "a = add()\n",
        "b = add(5)\n",
        "c = add(5, 3)\n",
        "\n",
        "print(a)\n",
        "print(b)\n",
        "print(c)"
      ],
      "metadata": {
        "colab": {
          "base_uri": "https://localhost:8080/"
        },
        "id": "qz7rMeJXIM4E",
        "outputId": "3c28284e-d465-4979-ef50-a028af56386c"
      },
      "execution_count": 3,
      "outputs": [
        {
          "output_type": "stream",
          "name": "stdout",
          "text": [
            "2\n",
            "6\n",
            "8\n"
          ]
        }
      ]
    },
    {
      "cell_type": "markdown",
      "source": [
        "#4. Nested Lambda Funcions"
      ],
      "metadata": {
        "id": "g-FRfnFEO_3v"
      }
    },
    {
      "cell_type": "code",
      "source": [
        "add = lambda x = 10 : (lambda y : x + y)\n",
        "a = add()\n",
        "print(a(20))"
      ],
      "metadata": {
        "colab": {
          "base_uri": "https://localhost:8080/"
        },
        "id": "0xFP6lOMLmfe",
        "outputId": "fa68836b-33d5-4510-ceb3-ba033dd6dd8b"
      },
      "execution_count": 4,
      "outputs": [
        {
          "output_type": "stream",
          "name": "stdout",
          "text": [
            "30\n"
          ]
        }
      ]
    },
    {
      "cell_type": "markdown",
      "source": [
        "#5. Passing Lambda Function To Another Function"
      ],
      "metadata": {
        "id": "zofsaXUPTu9_"
      }
    },
    {
      "cell_type": "code",
      "source": [
        "def show(a):\n",
        "  print(a(8))\n",
        "\n",
        "show(lambda x : x)"
      ],
      "metadata": {
        "colab": {
          "base_uri": "https://localhost:8080/"
        },
        "id": "MHgm8FOLS4xk",
        "outputId": "6d891c4d-57a4-45a8-c119-ebe16bbdc666"
      },
      "execution_count": 5,
      "outputs": [
        {
          "output_type": "stream",
          "name": "stdout",
          "text": [
            "8\n"
          ]
        }
      ]
    },
    {
      "cell_type": "markdown",
      "source": [
        "#6. Returning Lambda Function From A Function"
      ],
      "metadata": {
        "id": "tYakfXhGWQSU"
      }
    },
    {
      "cell_type": "code",
      "source": [
        "def add():\n",
        "  y = 20\n",
        "  return(lambda x : x + y)\n",
        "\n",
        "a = add()\n",
        "print(a(10))"
      ],
      "metadata": {
        "colab": {
          "base_uri": "https://localhost:8080/"
        },
        "id": "7V_KjIFfUSLP",
        "outputId": "cb402c98-418f-4bd5-9277-2fcd8e7cb4e4"
      },
      "execution_count": 6,
      "outputs": [
        {
          "output_type": "stream",
          "name": "stdout",
          "text": [
            "30\n"
          ]
        }
      ]
    }
  ]
}