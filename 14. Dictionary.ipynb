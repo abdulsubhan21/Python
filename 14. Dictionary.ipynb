{
  "nbformat": 4,
  "nbformat_minor": 0,
  "metadata": {
    "colab": {
      "provenance": []
    },
    "kernelspec": {
      "name": "python3",
      "display_name": "Python 3"
    },
    "language_info": {
      "name": "python"
    }
  },
  "cells": [
    {
      "cell_type": "markdown",
      "source": [
        "#Dictionary"
      ],
      "metadata": {
        "id": "c4su30HArnVZ"
      }
    },
    {
      "cell_type": "markdown",
      "source": [
        "#Operations"
      ],
      "metadata": {
        "id": "OGBzWPFArtTa"
      }
    },
    {
      "cell_type": "code",
      "execution_count": null,
      "metadata": {
        "colab": {
          "base_uri": "https://localhost:8080/"
        },
        "id": "e2XJe_tB1iOn",
        "outputId": "e47c1a44-c4fe-44f2-a01b-b21bd8faffeb"
      },
      "outputs": [
        {
          "output_type": "stream",
          "name": "stdout",
          "text": [
            "{'name': 'abdul subhan', 'age': 17, 'class': '2nd year'}\n"
          ]
        }
      ],
      "source": [
        "my_dictionary = {\"name\":\"abdul subhan\",\"age\":17,\"class\":\"2nd year\"}\n",
        "print(my_dictionary)"
      ]
    },
    {
      "cell_type": "code",
      "source": [
        "my_dictionary[\"name\"]"
      ],
      "metadata": {
        "colab": {
          "base_uri": "https://localhost:8080/",
          "height": 36
        },
        "id": "nFF2Tx_180EK",
        "outputId": "12055552-c828-4367-f58e-0f4be5b7bffc"
      },
      "execution_count": null,
      "outputs": [
        {
          "output_type": "execute_result",
          "data": {
            "text/plain": [
              "'abdul subhan'"
            ],
            "application/vnd.google.colaboratory.intrinsic+json": {
              "type": "string"
            }
          },
          "metadata": {},
          "execution_count": 6
        }
      ]
    },
    {
      "cell_type": "code",
      "source": [
        "my_dictionary[\"field\"] = \"computer science\"\n",
        "print(my_dictionary)"
      ],
      "metadata": {
        "colab": {
          "base_uri": "https://localhost:8080/"
        },
        "id": "ZtWvk-YK83UD",
        "outputId": "d26b5a21-02e7-40f0-bd8f-baab1057d2ed"
      },
      "execution_count": null,
      "outputs": [
        {
          "output_type": "stream",
          "name": "stdout",
          "text": [
            "{'name': 'abdul subhan', 'age': 17, 'class': '2nd year', 'field': 'computer science'}\n"
          ]
        }
      ]
    },
    {
      "cell_type": "code",
      "source": [
        "print(\"name\" in my_dictionary)\n",
        "print(\"country\" in my_dictionary)"
      ],
      "metadata": {
        "colab": {
          "base_uri": "https://localhost:8080/"
        },
        "id": "O6sXSi0r89CV",
        "outputId": "3694dadd-72a1-45a4-ba20-0906205b34ab"
      },
      "execution_count": null,
      "outputs": [
        {
          "output_type": "stream",
          "name": "stdout",
          "text": [
            "True\n",
            "False\n"
          ]
        }
      ]
    },
    {
      "cell_type": "markdown",
      "source": [
        "#Functions"
      ],
      "metadata": {
        "id": "V1XrLhJZ3eTk"
      }
    },
    {
      "cell_type": "markdown",
      "source": [
        "1. keys"
      ],
      "metadata": {
        "id": "6k8BC6V7-YTP"
      }
    },
    {
      "cell_type": "code",
      "source": [
        "dictionary = {\"student name\": \"abdul subhan\", \"college name\":\"cantt college\", \"city\": \"Karachi\"}\n",
        "print(dictionary.keys())"
      ],
      "metadata": {
        "colab": {
          "base_uri": "https://localhost:8080/"
        },
        "id": "l-KWYptu98f0",
        "outputId": "7c98dfff-9856-4903-fd8b-2b11c61658d1"
      },
      "execution_count": null,
      "outputs": [
        {
          "output_type": "stream",
          "name": "stdout",
          "text": [
            "dict_keys(['student name', 'college name', 'city'])\n"
          ]
        }
      ]
    },
    {
      "cell_type": "markdown",
      "source": [
        "2. values"
      ],
      "metadata": {
        "id": "3Hgevwrr-b7G"
      }
    },
    {
      "cell_type": "code",
      "source": [
        "print(dictionary.values())"
      ],
      "metadata": {
        "colab": {
          "base_uri": "https://localhost:8080/"
        },
        "id": "BlYh0IfP-ery",
        "outputId": "180ea360-98bd-4750-e641-585b5a6d2be2"
      },
      "execution_count": null,
      "outputs": [
        {
          "output_type": "stream",
          "name": "stdout",
          "text": [
            "dict_values(['abdul subhan', 'cantt college', 'Karachi'])\n"
          ]
        }
      ]
    },
    {
      "cell_type": "markdown",
      "source": [
        "3.items"
      ],
      "metadata": {
        "id": "_q7wboIt-xMk"
      }
    },
    {
      "cell_type": "code",
      "source": [
        "print(dictionary.items())"
      ],
      "metadata": {
        "colab": {
          "base_uri": "https://localhost:8080/"
        },
        "id": "XuMZ3XkG-4Mc",
        "outputId": "13fffa0a-4531-4a4d-84eb-13478012c209"
      },
      "execution_count": null,
      "outputs": [
        {
          "output_type": "stream",
          "name": "stdout",
          "text": [
            "dict_items([('student name', 'abdul subhan'), ('college name', 'cantt college'), ('city', 'Karachi')])\n"
          ]
        }
      ]
    },
    {
      "cell_type": "markdown",
      "source": [
        "4. get"
      ],
      "metadata": {
        "id": "RwzIOmGh_x_X"
      }
    },
    {
      "cell_type": "code",
      "source": [
        "print(dictionary.get(\"city\"))"
      ],
      "metadata": {
        "colab": {
          "base_uri": "https://localhost:8080/"
        },
        "id": "ZONSmyX6_kec",
        "outputId": "61f4f9c1-a8ad-4503-8b08-df274089dccd"
      },
      "execution_count": null,
      "outputs": [
        {
          "output_type": "stream",
          "name": "stdout",
          "text": [
            "Karachi\n"
          ]
        }
      ]
    },
    {
      "cell_type": "markdown",
      "source": [
        "5. fromkeys"
      ],
      "metadata": {
        "id": "XZQbM5isASEI"
      }
    },
    {
      "cell_type": "code",
      "source": [
        "dictionary= [\"student name\", \"college name\", \"city\"]\n",
        "new_dictionary = dict.fromkeys(dictionary,\"unknown\")\n",
        "print(new_dictionary)"
      ],
      "metadata": {
        "colab": {
          "base_uri": "https://localhost:8080/"
        },
        "id": "zdbS5IXoAXCu",
        "outputId": "0c11f41d-ac07-44e7-ab49-dc63f7b0280b"
      },
      "execution_count": null,
      "outputs": [
        {
          "output_type": "stream",
          "name": "stdout",
          "text": [
            "{'student name': 'unknown', 'college name': 'unknown', 'city': 'unknown'}\n"
          ]
        }
      ]
    },
    {
      "cell_type": "markdown",
      "source": [
        "6. setdefault"
      ],
      "metadata": {
        "id": "DhUYnPJgCDfI"
      }
    },
    {
      "cell_type": "code",
      "source": [
        "age = new_dictionary.setdefault(\"age\", 18)\n",
        "print(new_dictionary)"
      ],
      "metadata": {
        "colab": {
          "base_uri": "https://localhost:8080/"
        },
        "id": "ckvgyXtIEaSj",
        "outputId": "31725ff1-3deb-4eaf-8da6-523117747874"
      },
      "execution_count": null,
      "outputs": [
        {
          "output_type": "stream",
          "name": "stdout",
          "text": [
            "{'student name': 'unknown', 'college name': 'unknown', 'city': 'unknown', 'age': 18}\n"
          ]
        }
      ]
    },
    {
      "cell_type": "markdown",
      "source": [
        "7. update"
      ],
      "metadata": {
        "id": "XIIDx9I5EmVp"
      }
    },
    {
      "cell_type": "code",
      "source": [
        "new_data = {\"gender\": \"male\", \"country\": \"pakistan\"}\n",
        "new_dictionary.update(new_data)\n",
        "print(new_dictionary)"
      ],
      "metadata": {
        "colab": {
          "base_uri": "https://localhost:8080/"
        },
        "id": "KSPAXq9rEqLc",
        "outputId": "05169a66-d9de-4a8e-c6e8-e6b3eb83847c"
      },
      "execution_count": null,
      "outputs": [
        {
          "output_type": "stream",
          "name": "stdout",
          "text": [
            "{'student name': 'Unknown', 'college name': 'Unknown', 'city': 'Unknown', 'age': 18, 'gender': 'male', 'country': 'pakistan'}\n"
          ]
        }
      ]
    },
    {
      "cell_type": "markdown",
      "source": [
        "8. popitem"
      ],
      "metadata": {
        "id": "pYCSr-1THGwK"
      }
    },
    {
      "cell_type": "code",
      "source": [
        "item = new_dictionary.popitem()\n",
        "print(new_dictionary)"
      ],
      "metadata": {
        "colab": {
          "base_uri": "https://localhost:8080/"
        },
        "id": "BKiRZeL-6fin",
        "outputId": "68cf807d-506b-492c-e95d-6b5dae7a6e5b"
      },
      "execution_count": null,
      "outputs": [
        {
          "output_type": "stream",
          "name": "stdout",
          "text": [
            "{'student name': 'Unknown', 'college name': 'Unknown', 'city': 'Unknown', 'age': 18}\n"
          ]
        }
      ]
    },
    {
      "cell_type": "markdown",
      "source": [
        "9. pop"
      ],
      "metadata": {
        "id": "Bm6npNCy9aDQ"
      }
    },
    {
      "cell_type": "code",
      "source": [
        "my_dict = {\"name\": \"abdul subhan\", \"age\": 17, \"city\": \"karachi\"}\n",
        "age = my_dict.pop(\"age\")\n",
        "print(my_dict)"
      ],
      "metadata": {
        "colab": {
          "base_uri": "https://localhost:8080/"
        },
        "id": "dMJ40_zM9eev",
        "outputId": "95d341f4-726b-4396-e5d6-ed7d8cb32420"
      },
      "execution_count": null,
      "outputs": [
        {
          "output_type": "stream",
          "name": "stdout",
          "text": [
            "{'name': 'abdul subhan', 'city': 'karachi'}\n"
          ]
        }
      ]
    },
    {
      "cell_type": "markdown",
      "source": [
        "10. len"
      ],
      "metadata": {
        "id": "p7J01B_zsf_C"
      }
    },
    {
      "cell_type": "code",
      "source": [
        "print(len(my_dict))"
      ],
      "metadata": {
        "colab": {
          "base_uri": "https://localhost:8080/"
        },
        "id": "dZrkfsuUscKa",
        "outputId": "094e92fd-ea6a-48b8-e070-fd1e9825c68f"
      },
      "execution_count": null,
      "outputs": [
        {
          "output_type": "stream",
          "name": "stdout",
          "text": [
            "2\n"
          ]
        }
      ]
    },
    {
      "cell_type": "markdown",
      "source": [
        "11. copy"
      ],
      "metadata": {
        "id": "GkxUh3vC9TYw"
      }
    },
    {
      "cell_type": "code",
      "source": [
        "my_dict.copy()\n",
        "print(my_dict)"
      ],
      "metadata": {
        "id": "o8EnepMg9LIz",
        "colab": {
          "base_uri": "https://localhost:8080/"
        },
        "outputId": "1c6d4500-279e-43e4-9253-b1345a0c60d2"
      },
      "execution_count": null,
      "outputs": [
        {
          "output_type": "stream",
          "name": "stdout",
          "text": [
            "{'name': 'abdul subhan', 'city': 'karachi'}\n"
          ]
        }
      ]
    },
    {
      "cell_type": "markdown",
      "source": [
        "12. del"
      ],
      "metadata": {
        "id": "muqqRxzI9NzS"
      }
    },
    {
      "cell_type": "code",
      "source": [
        "del my_dict[\"city\"]\n",
        "print(my_dict)"
      ],
      "metadata": {
        "colab": {
          "base_uri": "https://localhost:8080/"
        },
        "id": "bF_GEUf79r7o",
        "outputId": "619e0684-8c36-4e3c-aaae-56b332ecf062"
      },
      "execution_count": null,
      "outputs": [
        {
          "output_type": "stream",
          "name": "stdout",
          "text": [
            "{'name': 'abdul subhan'}\n"
          ]
        }
      ]
    },
    {
      "cell_type": "markdown",
      "source": [
        "13. clear"
      ],
      "metadata": {
        "id": "31v1wAEE9xAT"
      }
    },
    {
      "cell_type": "code",
      "source": [
        "my_dict.clear()\n",
        "print(my_dict)"
      ],
      "metadata": {
        "colab": {
          "base_uri": "https://localhost:8080/"
        },
        "id": "mFDNdFVuy1gZ",
        "outputId": "450b048f-b252-41de-bb28-cb3fcec6a671"
      },
      "execution_count": null,
      "outputs": [
        {
          "output_type": "stream",
          "name": "stdout",
          "text": [
            "{}\n"
          ]
        }
      ]
    },
    {
      "cell_type": "code",
      "source": [],
      "metadata": {
        "id": "UD8XFB8sIJQ1"
      },
      "execution_count": null,
      "outputs": []
    }
  ]
}