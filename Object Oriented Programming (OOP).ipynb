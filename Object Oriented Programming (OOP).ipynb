{
  "nbformat": 4,
  "nbformat_minor": 0,
  "metadata": {
    "colab": {
      "provenance": []
    },
    "kernelspec": {
      "name": "python3",
      "display_name": "Python 3"
    },
    "language_info": {
      "name": "python"
    }
  },
  "cells": [
    {
      "cell_type": "markdown",
      "source": [
        "# Object Oriented Programming (OOP)"
      ],
      "metadata": {
        "id": "nFqydvE-a7ux"
      }
    },
    {
      "cell_type": "markdown",
      "source": [
        "#1. Constructor"
      ],
      "metadata": {
        "id": "F46AMPvMJ9bZ"
      }
    },
    {
      "cell_type": "markdown",
      "source": [
        "Constructor Without Parameter"
      ],
      "metadata": {
        "id": "xZm_xzDcKe6V"
      }
    },
    {
      "cell_type": "code",
      "source": [
        "class Mobile():\n",
        "  def __init__(self):\n",
        "    self.model = \"RealMe C 51\"\n",
        "\n",
        "  def show_model(self):\n",
        "    print(\"Model:\", self.model)\n",
        "\n",
        "realme = Mobile()\n",
        "realme.show_model()"
      ],
      "metadata": {
        "colab": {
          "base_uri": "https://localhost:8080/"
        },
        "id": "35b5jv_blmT9",
        "outputId": "40c12281-3d2d-4376-d26d-74871759ba8a"
      },
      "execution_count": 9,
      "outputs": [
        {
          "output_type": "stream",
          "name": "stdout",
          "text": [
            "Model: RealMe C 51\n"
          ]
        }
      ]
    },
    {
      "cell_type": "markdown",
      "source": [
        "Constructor Wirh Parameter"
      ],
      "metadata": {
        "id": "UrzdJV4uKxX-"
      }
    },
    {
      "cell_type": "code",
      "source": [
        "class Mobile():\n",
        "  def __init__(self, m, v = 80):\n",
        "    self.model = m\n",
        "    self.volume = v\n",
        "\n",
        "  def show_model(self, p):\n",
        "    self.price = p          # Local Variable\n",
        "    print(\"Model:\", self.model, \", Price:\", self.price, \"and Volume:\", self.volume)\n",
        "\n",
        "realme = Mobile(\"RealMe C 51\")\n",
        "realme.show_model(1000)\n",
        "print()\n",
        "infinix = Mobile(\"Infinix Note 7\", 50)\n",
        "infinix.show_model(2000)"
      ],
      "metadata": {
        "colab": {
          "base_uri": "https://localhost:8080/"
        },
        "id": "O0yG8T1SqXnZ",
        "outputId": "b9874f8c-4fed-45e2-b8ab-71dc5090d459"
      },
      "execution_count": 16,
      "outputs": [
        {
          "output_type": "stream",
          "name": "stdout",
          "text": [
            "Model: RealMe C 51 , Price: 1000 and Volume: 80\n",
            "\n",
            "Model: Infinix Note 7 , Price: 2000 and Volume: 50\n"
          ]
        }
      ]
    },
    {
      "cell_type": "markdown",
      "source": [
        "# 2. Types Of Variables"
      ],
      "metadata": {
        "id": "bMoD5sUrXyGF"
      }
    },
    {
      "cell_type": "markdown",
      "source": [
        "Instance Variable"
      ],
      "metadata": {
        "id": "xEkldsuXWrUR"
      }
    },
    {
      "cell_type": "code",
      "source": [
        "class Mobile:\n",
        "  def __init__(self):\n",
        "    self.model = \"RealMe C 51\"          # Instancs Variable\n",
        "\n",
        "  def show_model(self):\n",
        "    print(self.model)          # Inside Accessing Instance Variable\n",
        "\n",
        "realme = Mobile()\n",
        "print(realme.model)\n",
        "print()\n",
        "infinix = Mobile()\n",
        "print(infinix.model)\n",
        "print()\n",
        "infinix.model = \"Infinix Note 7\"          # Outside Instance Variable\n",
        "print(infinix.model)"
      ],
      "metadata": {
        "colab": {
          "base_uri": "https://localhost:8080/"
        },
        "id": "hJGy_scnUUN5",
        "outputId": "dacce6c8-fdc0-48fb-a50d-fa6b09631374"
      },
      "execution_count": 17,
      "outputs": [
        {
          "output_type": "stream",
          "name": "stdout",
          "text": [
            "RealMe C 51\n",
            "\n",
            "RealMe C 51\n",
            "\n",
            "Infinix Note 7\n"
          ]
        }
      ]
    },
    {
      "cell_type": "markdown",
      "source": [
        "Class / Static Variable"
      ],
      "metadata": {
        "id": "pYkEr6PwX5ZA"
      }
    },
    {
      "cell_type": "code",
      "source": [
        "class Mobile:\n",
        "  fp =\"Yes\"          # Class Variable\n",
        "  @classmethod          # Class Method\n",
        "  def is_fp(cls):\n",
        "    print(\"Finger print:\", cls.fp)          # Accessing Class Method\n",
        "\n",
        "realme = Mobile()\n",
        "infinix = Mobile()\n",
        "samsung = Mobile()\n",
        "\n",
        "print(\"RealMe:\",Mobile.fp)\n",
        "print(\"Infinix:\", Mobile.fp)\n",
        "print(\"Samsung:\",Mobile.fp)\n",
        "print()\n",
        "Mobile.fp = \"No\"          # Modifiying Class Variable\n",
        "print(\"RealMe:\",Mobile.fp)\n",
        "print(\"Infinix:\", Mobile.fp)\n",
        "print(\"Samsung:\",Mobile.fp)"
      ],
      "metadata": {
        "colab": {
          "base_uri": "https://localhost:8080/"
        },
        "id": "VfunS0UYU-Fm",
        "outputId": "9cce5b85-7441-4b59-96e1-1a8f2d76e7f0"
      },
      "execution_count": 18,
      "outputs": [
        {
          "output_type": "stream",
          "name": "stdout",
          "text": [
            "RealMe: Yes\n",
            "Infinix: Yes\n",
            "Samsung: Yes\n",
            "\n",
            "RealMe: No\n",
            "Infinix: No\n",
            "Samsung: No\n"
          ]
        }
      ]
    },
    {
      "cell_type": "markdown",
      "source": [
        "Namespace"
      ],
      "metadata": {
        "id": "lmWv_4SwDjj0"
      }
    },
    {
      "cell_type": "code",
      "source": [
        "class Mobile:\n",
        "  fp =\"Yes\"          # Class Variable\n",
        "  @classmethod          # Class Method\n",
        "  def is_fp(cls):\n",
        "    print(\"Finger print:\", cls.fp)          # Accessing Class Method\n",
        "\n",
        "realme = Mobile()\n",
        "infinix = Mobile()\n",
        "samsung = Mobile()\n",
        "\n",
        "print(\"Class FP:\", Mobile.fp)\n",
        "print(\"RealMe:\", realme.fp)\n",
        "print(\"Infinix:\", infinix.fp)\n",
        "print(\"Samsung:\", samsung.fp)\n",
        "print()\n",
        "Mobile.fp = \"No\"\n",
        "print(\"Class FP:\", Mobile.fp)\n",
        "print(\"RealMe:\", realme.fp)\n",
        "print(\"Infinix:\", infinix.fp)\n",
        "print(\"Samsung:\", samsung.fp)\n",
        "print()\n",
        "realme.fp = \"Not Working\"\n",
        "print(\"Class FP:\", Mobile.fp)\n",
        "print(\"RealMe:\", realme.fp)\n",
        "print(\"Infinix:\", infinix.fp)\n",
        "print(\"Samsung:\", samsung.fp)"
      ],
      "metadata": {
        "colab": {
          "base_uri": "https://localhost:8080/"
        },
        "id": "owtDgORW-1Ko",
        "outputId": "8ea4e4fc-c647-4386-8042-67651f8b0d7f"
      },
      "execution_count": 21,
      "outputs": [
        {
          "output_type": "stream",
          "name": "stdout",
          "text": [
            "Class FP: Yes\n",
            "RealMe: Yes\n",
            "Infinix: Yes\n",
            "Samsung: Yes\n",
            "\n",
            "Class FP: No\n",
            "RealMe: No\n",
            "Infinix: No\n",
            "Samsung: No\n",
            "\n",
            "Class FP: No\n",
            "RealMe: Not Working\n",
            "Infinix: No\n",
            "Samsung: No\n"
          ]
        }
      ]
    },
    {
      "cell_type": "markdown",
      "source": [
        "#3. Type Of Methods"
      ],
      "metadata": {
        "id": "qHO2Ih04SRM_"
      }
    },
    {
      "cell_type": "markdown",
      "source": [
        "# Instance Method"
      ],
      "metadata": {
        "id": "rScFBN8oSdEU"
      }
    },
    {
      "cell_type": "code",
      "source": [
        "class Mobile():\n",
        "  def __init__(self):\n",
        "    self.model = \"RealMe C 51\"          # Instance Variable\n",
        "\n",
        "  def show_model(self, p):         # Instance Method\n",
        "    self.price = p\n",
        "    print(\"Model:\", self.model, \"and Price:\", self.price)\n",
        "\n",
        "realme = Mobile()\n",
        "realme.show_model(1000)"
      ],
      "metadata": {
        "colab": {
          "base_uri": "https://localhost:8080/"
        },
        "id": "q9kUuz-SHk-l",
        "outputId": "1aa4e03a-191d-4a25-e6ea-d16efbd4adcb"
      },
      "execution_count": 24,
      "outputs": [
        {
          "output_type": "stream",
          "name": "stdout",
          "text": [
            "Model: RealMe C 51 and Price: 1000\n"
          ]
        }
      ]
    },
    {
      "cell_type": "markdown",
      "source": [
        "Accessor / Getter Method"
      ],
      "metadata": {
        "id": "qVhPvufcYMkC"
      }
    },
    {
      "cell_type": "code",
      "source": [
        "class Mobile:\n",
        "  def __init__(self):\n",
        "    self.model = \"RealMe C 51\"          # Instance Variable\n",
        "\n",
        "  def get_model(self):          # Accessor / Getter Metthod\n",
        "    return self.model\n",
        "\n",
        "realme = Mobile()          # Calling Accessor / Getter Method\n",
        "m = realme.get_model()\n",
        "print(m)"
      ],
      "metadata": {
        "colab": {
          "base_uri": "https://localhost:8080/"
        },
        "id": "DADdVetQXZVw",
        "outputId": "50222d6d-36df-4b8c-bf50-02c38ca566da"
      },
      "execution_count": 32,
      "outputs": [
        {
          "output_type": "stream",
          "name": "stdout",
          "text": [
            "RealMe C 51\n"
          ]
        }
      ]
    },
    {
      "cell_type": "markdown",
      "source": [
        "Mutator / Setter Method"
      ],
      "metadata": {
        "id": "8H7uqUp_cpCh"
      }
    },
    {
      "cell_type": "code",
      "source": [
        "class Mobile:\n",
        "  def __init__(self):\n",
        "    self.model = \"RealMe C 51\"          # Instance Variable\n",
        "\n",
        "  def set_model(self):          # Mutator / Setter Metthod\n",
        "    self.model = \"Infinix Note 7\"\n",
        "\n",
        "# Before Setting\n",
        "realme = Mobile()          # Calling Mutator / Setter Method\n",
        "print(realme.model)\n",
        "print()\n",
        "# After Setting\n",
        "realme.set_model()\n",
        "print(realme.model)"
      ],
      "metadata": {
        "colab": {
          "base_uri": "https://localhost:8080/"
        },
        "id": "goxin98_cQ1F",
        "outputId": "76193c7d-2989-4d57-8ec5-7a3236d03c4b"
      },
      "execution_count": 37,
      "outputs": [
        {
          "output_type": "stream",
          "name": "stdout",
          "text": [
            "RealMe C 51\n",
            "\n",
            "Infinix Note 7\n"
          ]
        }
      ]
    },
    {
      "cell_type": "markdown",
      "source": [
        "# Class Method"
      ],
      "metadata": {
        "id": "YIocAGDBhHLK"
      }
    },
    {
      "cell_type": "code",
      "source": [
        "class Mobile:\n",
        "  fp = \"Yes\"\n",
        "\n",
        "  @classmethod          # Decorator\n",
        "  def show_model(cls):          # Class Method\n",
        "    print(\"Finger Print:\", cls.fp)\n",
        "\n",
        "realme = Mobile()          # Calling Class Method\n",
        "Mobile.show_model()"
      ],
      "metadata": {
        "colab": {
          "base_uri": "https://localhost:8080/"
        },
        "id": "aYKWCaEje8h8",
        "outputId": "8865b897-a6cd-46a8-d743-293a2662ea24"
      },
      "execution_count": 40,
      "outputs": [
        {
          "output_type": "stream",
          "name": "stdout",
          "text": [
            "Finger Print: Yes\n"
          ]
        }
      ]
    },
    {
      "cell_type": "markdown",
      "source": [
        "# Static Method"
      ],
      "metadata": {
        "id": "JNySPe9_kpce"
      }
    },
    {
      "cell_type": "code",
      "source": [
        "class Mobile:\n",
        "  fp = \"Yes\"\n",
        "\n",
        "  @classmethod          # Decorator\n",
        "  def show_model(cls):          # Static Method\n",
        "    print(\"Finger Print:\", cls.fp)\n",
        "\n",
        "realme = Mobile()          # Calling Static Method\n",
        "Mobile.show_model()"
      ],
      "metadata": {
        "colab": {
          "base_uri": "https://localhost:8080/"
        },
        "id": "sj7p-FP2kh12",
        "outputId": "384022ea-5f21-467a-f872-865224b5f3f5"
      },
      "execution_count": 42,
      "outputs": [
        {
          "output_type": "stream",
          "name": "stdout",
          "text": [
            "Finger Print: Yes\n"
          ]
        }
      ]
    },
    {
      "cell_type": "code",
      "source": [],
      "metadata": {
        "id": "gTQylz4SnXjC"
      },
      "execution_count": null,
      "outputs": []
    }
  ]
}