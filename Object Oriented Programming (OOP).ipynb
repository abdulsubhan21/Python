{
  "nbformat": 4,
  "nbformat_minor": 0,
  "metadata": {
    "colab": {
      "provenance": []
    },
    "kernelspec": {
      "name": "python3",
      "display_name": "Python 3"
    },
    "language_info": {
      "name": "python"
    }
  },
  "cells": [
    {
      "cell_type": "markdown",
      "source": [
        "# Object Oriented Programming (OOP)"
      ],
      "metadata": {
        "id": "nFqydvE-a7ux"
      }
    },
    {
      "cell_type": "markdown",
      "source": [
        "# Class, Object, Attribute and Method"
      ],
      "metadata": {
        "id": "7kcdH33K4Jel"
      }
    },
    {
      "cell_type": "code",
      "source": [
        "class cal:\n",
        "  def add(self, a, b):\n",
        "    return a + b\n",
        "\n",
        "operation = cal()\n",
        "operation.add(2, 3)"
      ],
      "metadata": {
        "colab": {
          "base_uri": "https://localhost:8080/"
        },
        "id": "2Egu7f69q_ZI",
        "outputId": "26dc4234-1efc-4127-ea4a-598719cec880"
      },
      "execution_count": 61,
      "outputs": [
        {
          "output_type": "execute_result",
          "data": {
            "text/plain": [
              "5"
            ]
          },
          "metadata": {},
          "execution_count": 61
        }
      ]
    },
    {
      "cell_type": "markdown",
      "source": [
        "# Constructor Method"
      ],
      "metadata": {
        "id": "SldtKoEr8u_t"
      }
    },
    {
      "cell_type": "code",
      "source": [
        "class cal:\n",
        "  def __init__(self, a, b):\n",
        "    self.a = a\n",
        "    self.b = b\n",
        "\n",
        "  def add(self):\n",
        "    return self.a + self.b\n",
        "\n",
        "operator = cal(2, 9)\n",
        "operator.add()"
      ],
      "metadata": {
        "colab": {
          "base_uri": "https://localhost:8080/"
        },
        "id": "1kCKbqHWsX6l",
        "outputId": "ae1c7512-3844-445f-9f0a-846523d92610"
      },
      "execution_count": 62,
      "outputs": [
        {
          "output_type": "execute_result",
          "data": {
            "text/plain": [
              "11"
            ]
          },
          "metadata": {},
          "execution_count": 62
        }
      ]
    },
    {
      "cell_type": "markdown",
      "source": [
        "# Destructor Method"
      ],
      "metadata": {
        "id": "TZbnGMLRCQUV"
      }
    },
    {
      "cell_type": "code",
      "source": [
        "class cal:\n",
        "  def __init__(self, a, b):\n",
        "    self.a = a\n",
        "    self.b = b\n",
        "\n",
        "\n",
        "  def add(self):\n",
        "    return self.a + self.b\n",
        "\n",
        "  def __del__(self):\n",
        "    print(\"deleted\")\n",
        "\n",
        "operator = cal(2, 9)\n",
        "\n",
        "operator.add()\n",
        "\n",
        "del operator"
      ],
      "metadata": {
        "colab": {
          "base_uri": "https://localhost:8080/"
        },
        "id": "WAVLVTtb61tf",
        "outputId": "144bd7a6-7fc1-4a56-815a-91c45dcfe948"
      },
      "execution_count": 63,
      "outputs": [
        {
          "output_type": "stream",
          "name": "stdout",
          "text": [
            "deleted\n"
          ]
        }
      ]
    },
    {
      "cell_type": "markdown",
      "source": [
        "# str Method"
      ],
      "metadata": {
        "id": "CJ_t1aECCWo9"
      }
    },
    {
      "cell_type": "code",
      "source": [
        "class Student:\n",
        "    def __init__(self, name, grade):\n",
        "        self.name = name\n",
        "        self.grade = grade\n",
        "\n",
        "    def __str__(self):\n",
        "        return f\"Student(name = {self.name}, grade = {self.grade})\"\n",
        "\n",
        "student = Student(\"Abdul Subhan\", \"A\")\n",
        "\n",
        "print(student)"
      ],
      "metadata": {
        "colab": {
          "base_uri": "https://localhost:8080/"
        },
        "id": "PCkdPioh89eO",
        "outputId": "f496931e-f316-425b-909d-06e380b019da"
      },
      "execution_count": 64,
      "outputs": [
        {
          "output_type": "stream",
          "name": "stdout",
          "text": [
            "Student(name = Abdul Subhan, grade = A)\n"
          ]
        }
      ]
    },
    {
      "cell_type": "markdown",
      "source": [
        "# repr Method"
      ],
      "metadata": {
        "id": "7q7GLQ_tL0xi"
      }
    },
    {
      "cell_type": "code",
      "source": [
        "class Student:\n",
        "    def __init__(self, name, grade):\n",
        "        self.name = name\n",
        "        self.grade = grade\n",
        "\n",
        "    def __repr__(self):\n",
        "        return f\"Student(name = {self.name}, grade = {self.grade})\"\n",
        "\n",
        "student = Student(\"Abdul Subhan\", \"A\")\n",
        "\n",
        "print(student)"
      ],
      "metadata": {
        "colab": {
          "base_uri": "https://localhost:8080/"
        },
        "id": "VgEtW60a_UOA",
        "outputId": "ca99b75f-2c84-4be4-dfaf-70da442acb44"
      },
      "execution_count": 66,
      "outputs": [
        {
          "output_type": "stream",
          "name": "stdout",
          "text": [
            "Student(name = Abdul Subhan, grade = A)\n"
          ]
        }
      ]
    },
    {
      "cell_type": "code",
      "source": [],
      "metadata": {
        "id": "Y072OjJHIv3C"
      },
      "execution_count": null,
      "outputs": []
    }
  ]
}