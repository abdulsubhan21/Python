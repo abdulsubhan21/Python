{
  "nbformat": 4,
  "nbformat_minor": 0,
  "metadata": {
    "colab": {
      "provenance": [],
      "collapsed_sections": [
        "Tmvo5cZQTPj6",
        "WZI1u_DpT_TR",
        "NHTx4DzmUWWw",
        "LqlaypnDUj40"
      ]
    },
    "kernelspec": {
      "name": "python3",
      "display_name": "Python 3"
    },
    "language_info": {
      "name": "python"
    }
  },
  "cells": [
    {
      "cell_type": "markdown",
      "source": [
        "# Operators"
      ],
      "metadata": {
        "id": "iXbJfoVvTy6k"
      }
    },
    {
      "cell_type": "markdown",
      "source": [
        "#1. Arithmetic Operators"
      ],
      "metadata": {
        "id": "Tmvo5cZQTPj6"
      }
    },
    {
      "cell_type": "code",
      "execution_count": 1,
      "metadata": {
        "colab": {
          "base_uri": "https://localhost:8080/"
        },
        "id": "BHsFddL2xj1H",
        "outputId": "146b21f6-2893-48f1-c34f-383c288ee215"
      },
      "outputs": [
        {
          "output_type": "stream",
          "name": "stdout",
          "text": [
            "10\n",
            "4\n",
            "21\n",
            "2.3333333333333335\n",
            "1\n",
            "343\n",
            "2\n"
          ]
        }
      ],
      "source": [
        "a = 7\n",
        "b = 3\n",
        "\n",
        "print(a + b)\n",
        "\n",
        "print(a - b)\n",
        "\n",
        "print(a * b)\n",
        "\n",
        "print(a / b)\n",
        "\n",
        "print(a % b)\n",
        "\n",
        "print(a ** b)\n",
        "\n",
        "print(a // b)"
      ]
    },
    {
      "cell_type": "markdown",
      "source": [
        "#2. Assignment Operators"
      ],
      "metadata": {
        "id": "WZI1u_DpT_TR"
      }
    },
    {
      "cell_type": "code",
      "source": [
        "x = 5\n",
        "\n",
        "x += 3\n",
        "\n",
        "x -= 3\n",
        "\n",
        "x *= 3\n",
        "\n",
        "x /= 3\n",
        "\n",
        "x %= 3\n",
        "\n",
        "x **= 3\n",
        "\n",
        "x //= 3\n",
        "\n",
        "print(x)"
      ],
      "metadata": {
        "colab": {
          "base_uri": "https://localhost:8080/"
        },
        "id": "2AOAczUN10Dt",
        "outputId": "3e1cfb3b-82c9-4c0c-c63a-87e1fbb9f1ee"
      },
      "execution_count": 2,
      "outputs": [
        {
          "output_type": "stream",
          "name": "stdout",
          "text": [
            "2.0\n"
          ]
        }
      ]
    },
    {
      "cell_type": "markdown",
      "source": [
        "#3. Comperison Operators"
      ],
      "metadata": {
        "id": "NHTx4DzmUWWw"
      }
    },
    {
      "cell_type": "code",
      "source": [
        "x = 10\n",
        "y = 20\n",
        "\n",
        "print(x == y)\n",
        "print(x != y)\n",
        "print(x > y)\n",
        "print(x < y)\n",
        "print(x >= y)\n",
        "print(x <= y)"
      ],
      "metadata": {
        "colab": {
          "base_uri": "https://localhost:8080/"
        },
        "id": "Dm3owprI19Uy",
        "outputId": "744f02ef-ad22-418c-b262-fb0d098f8fb3"
      },
      "execution_count": 3,
      "outputs": [
        {
          "output_type": "stream",
          "name": "stdout",
          "text": [
            "False\n",
            "True\n",
            "False\n",
            "True\n",
            "False\n",
            "True\n"
          ]
        }
      ]
    },
    {
      "cell_type": "markdown",
      "source": [
        "#4. Logical Operators"
      ],
      "metadata": {
        "id": "LqlaypnDUj40"
      }
    },
    {
      "cell_type": "code",
      "source": [
        "y = 10\n",
        "z = 20\n",
        "\n",
        "print(y < 20 and z > 10)\n",
        "print(y == z or z != 10)\n",
        "print (not(y <= z and z >= y))"
      ],
      "metadata": {
        "colab": {
          "base_uri": "https://localhost:8080/"
        },
        "id": "uNHWb-Bh1_yh",
        "outputId": "bad3d417-1520-4ea3-cafd-62348e9addbd"
      },
      "execution_count": 4,
      "outputs": [
        {
          "output_type": "stream",
          "name": "stdout",
          "text": [
            "True\n",
            "True\n",
            "False\n"
          ]
        }
      ]
    },
    {
      "cell_type": "code",
      "source": [],
      "metadata": {
        "id": "PNrcTXUHdzm_"
      },
      "execution_count": null,
      "outputs": []
    }
  ]
}