{
  "nbformat": 4,
  "nbformat_minor": 0,
  "metadata": {
    "colab": {
      "provenance": []
    },
    "kernelspec": {
      "name": "python3",
      "display_name": "Python 3"
    },
    "language_info": {
      "name": "python"
    }
  },
  "cells": [
    {
      "cell_type": "markdown",
      "source": [
        "# Operators"
      ],
      "metadata": {
        "id": "iXbJfoVvTy6k"
      }
    },
    {
      "cell_type": "markdown",
      "source": [
        "#1. Arithmetic Operators"
      ],
      "metadata": {
        "id": "Tmvo5cZQTPj6"
      }
    },
    {
      "cell_type": "code",
      "execution_count": null,
      "metadata": {
        "colab": {
          "base_uri": "https://localhost:8080/"
        },
        "id": "BHsFddL2xj1H",
        "outputId": "04945cdf-6d06-4181-ccfe-f7577852173a"
      },
      "outputs": [
        {
          "output_type": "stream",
          "name": "stdout",
          "text": [
            "10\n",
            "4\n",
            "21\n",
            "2.3333333333333335\n",
            "1\n",
            "343\n",
            "2\n"
          ]
        }
      ],
      "source": [
        "a = 7\n",
        "b = 3\n",
        "\n",
        "print(a + b)\n",
        "\n",
        "print(a - b)\n",
        "\n",
        "print(a * b)\n",
        "\n",
        "print(a / b)\n",
        "\n",
        "print(a % b)\n",
        "\n",
        "print(a ** b)\n",
        "\n",
        "print(a // b)"
      ]
    },
    {
      "cell_type": "markdown",
      "source": [
        "#2. Assignment Operators"
      ],
      "metadata": {
        "id": "WZI1u_DpT_TR"
      }
    },
    {
      "cell_type": "code",
      "source": [
        "x = 5\n",
        "\n",
        "x += 3\n",
        "\n",
        "x -= 3\n",
        "\n",
        "x *= 3\n",
        "\n",
        "x /= 3\n",
        "\n",
        "x %= 3\n",
        "\n",
        "x **= 3\n",
        "\n",
        "x //= 3\n",
        "\n",
        "print(x)"
      ],
      "metadata": {
        "colab": {
          "base_uri": "https://localhost:8080/"
        },
        "id": "2AOAczUN10Dt",
        "outputId": "2a3550d0-209b-4cc1-acfe-f67bbba34ea9"
      },
      "execution_count": null,
      "outputs": [
        {
          "output_type": "stream",
          "name": "stdout",
          "text": [
            "2.0\n"
          ]
        }
      ]
    },
    {
      "cell_type": "markdown",
      "source": [
        "#3. Comperison Operators"
      ],
      "metadata": {
        "id": "NHTx4DzmUWWw"
      }
    },
    {
      "cell_type": "code",
      "source": [
        "x = 10\n",
        "y = 20\n",
        "\n",
        "print(x == y)\n",
        "print(x != y)\n",
        "print(x > y)\n",
        "print(x < y)\n",
        "print(x >= y)\n",
        "print(x <= y)"
      ],
      "metadata": {
        "colab": {
          "base_uri": "https://localhost:8080/"
        },
        "id": "Dm3owprI19Uy",
        "outputId": "0cc08415-aca7-47f9-d0f0-d70db6261d29"
      },
      "execution_count": null,
      "outputs": [
        {
          "output_type": "stream",
          "name": "stdout",
          "text": [
            "False\n",
            "True\n",
            "False\n",
            "True\n",
            "False\n",
            "True\n"
          ]
        }
      ]
    },
    {
      "cell_type": "markdown",
      "source": [
        "#4. Logical Operators"
      ],
      "metadata": {
        "id": "LqlaypnDUj40"
      }
    },
    {
      "cell_type": "code",
      "source": [
        "y = 10\n",
        "z = 20\n",
        "\n",
        "print(y < 20 and z > 10)\n",
        "print(y == z or z != 10)\n",
        "print (not(y <= z and z >= y))"
      ],
      "metadata": {
        "colab": {
          "base_uri": "https://localhost:8080/"
        },
        "id": "uNHWb-Bh1_yh",
        "outputId": "3a752933-c32f-47a0-e1eb-6c18e1287964"
      },
      "execution_count": null,
      "outputs": [
        {
          "output_type": "stream",
          "name": "stdout",
          "text": [
            "True\n",
            "True\n",
            "False\n"
          ]
        }
      ]
    }
  ]
}