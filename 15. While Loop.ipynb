{
  "nbformat": 4,
  "nbformat_minor": 0,
  "metadata": {
    "colab": {
      "provenance": []
    },
    "kernelspec": {
      "name": "python3",
      "display_name": "Python 3"
    },
    "language_info": {
      "name": "python"
    }
  },
  "cells": [
    {
      "cell_type": "markdown",
      "source": [
        "#While Loop"
      ],
      "metadata": {
        "id": "NCYnT63S34U_"
      }
    },
    {
      "cell_type": "code",
      "execution_count": 1,
      "metadata": {
        "colab": {
          "base_uri": "https://localhost:8080/"
        },
        "id": "RJvf_z_40q4P",
        "outputId": "6ffbb56b-e06d-4152-a86f-a51a36d9df45"
      },
      "outputs": [
        {
          "output_type": "stream",
          "name": "stdout",
          "text": [
            "Enter the table number: 5\n",
            "5 x 1 = 5\n",
            "5 x 2 = 10\n",
            "5 x 3 = 15\n",
            "5 x 4 = 20\n",
            "5 x 5 = 25\n",
            "5 x 6 = 30\n",
            "5 x 7 = 35\n",
            "5 x 8 = 40\n",
            "5 x 9 = 45\n",
            "5 x 10 = 50\n"
          ]
        }
      ],
      "source": [
        "table = int(input(\"Enter the table number: \"))\n",
        "\n",
        "i = 1\n",
        "\n",
        "while i <= 10:\n",
        "      print(table, \"x\", i, \"=\", table * i)\n",
        "      i += 1"
      ]
    },
    {
      "cell_type": "code",
      "source": [
        "i = 0\n",
        "\n",
        "while True:\n",
        "      i += 1\n",
        "      print(i)\n",
        "      if i == 3:\n",
        "         break\n",
        "\n",
        "print(\"Hello\")"
      ],
      "metadata": {
        "id": "axm0WxjL4iiN",
        "colab": {
          "base_uri": "https://localhost:8080/"
        },
        "outputId": "b34dfc49-fdba-459f-f837-ad301e616e3b"
      },
      "execution_count": 2,
      "outputs": [
        {
          "output_type": "stream",
          "name": "stdout",
          "text": [
            "1\n",
            "2\n",
            "3\n",
            "Hello\n"
          ]
        }
      ]
    }
  ]
}