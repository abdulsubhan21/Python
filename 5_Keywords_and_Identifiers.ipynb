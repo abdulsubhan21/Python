{
  "nbformat": 4,
  "nbformat_minor": 0,
  "metadata": {
    "colab": {
      "provenance": []
    },
    "kernelspec": {
      "name": "python3",
      "display_name": "Python 3"
    },
    "language_info": {
      "name": "python"
    }
  },
  "cells": [
    {
      "cell_type": "markdown",
      "source": [
        "#Keywords and Identifiers"
      ],
      "metadata": {
        "id": "-rU_B0Gkn5TA"
      }
    },
    {
      "cell_type": "markdown",
      "source": [
        "#Keywords"
      ],
      "metadata": {
        "id": "hr-cLtcbfeML"
      }
    },
    {
      "cell_type": "code",
      "source": [
        "import keyword\n",
        "print(keyword.kwlist)"
      ],
      "metadata": {
        "colab": {
          "base_uri": "https://localhost:8080/"
        },
        "id": "oP8v9jjRrVyr",
        "outputId": "00cffcb9-b291-40a7-d12a-d37fad2af8df"
      },
      "execution_count": 1,
      "outputs": [
        {
          "output_type": "stream",
          "name": "stdout",
          "text": [
            "['False', 'None', 'True', 'and', 'as', 'assert', 'async', 'await', 'break', 'class', 'continue', 'def', 'del', 'elif', 'else', 'except', 'finally', 'for', 'from', 'global', 'if', 'import', 'in', 'is', 'lambda', 'nonlocal', 'not', 'or', 'pass', 'raise', 'return', 'try', 'while', 'with', 'yield']\n"
          ]
        }
      ]
    },
    {
      "cell_type": "markdown",
      "source": [
        "#Identifiers"
      ],
      "metadata": {
        "id": "Kd3dKDdFfpz3"
      }
    },
    {
      "cell_type": "code",
      "source": [
        "Name_1 = \"Abdul Subhan\"\n",
        "print(Name_1)"
      ],
      "metadata": {
        "colab": {
          "base_uri": "https://localhost:8080/"
        },
        "id": "nLW8_bNvrbLZ",
        "outputId": "886ec2e7-f3e2-4d78-f3b5-eac045158eac"
      },
      "execution_count": 2,
      "outputs": [
        {
          "output_type": "stream",
          "name": "stdout",
          "text": [
            "Abdul Subhan\n"
          ]
        }
      ]
    },
    {
      "cell_type": "code",
      "source": [],
      "metadata": {
        "id": "xlBv7N_Dc0s9"
      },
      "execution_count": null,
      "outputs": []
    }
  ]
}