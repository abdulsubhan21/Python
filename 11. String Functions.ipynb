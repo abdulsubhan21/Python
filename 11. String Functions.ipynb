{
  "nbformat": 4,
  "nbformat_minor": 0,
  "metadata": {
    "colab": {
      "provenance": [],
      "collapsed_sections": [
        "Yvh1kBuWq7HF",
        "NxTrDRK-tcJZ",
        "KvlZPVn8tqD5",
        "xr1L_kkRvQD_",
        "miwYdiJrv_8c",
        "jf1VcvNl2sJL",
        "WfLWKkPm4vp8",
        "FQmE_rlN5PCM",
        "lKxqVd0P7XD0",
        "LkQ_1sIs8mBU",
        "UZ0YmgYv9Bo_",
        "EGJfkmIK5dF4",
        "iSbrzOMnu2ha",
        "WAgDNpDXuLKS",
        "ZKLknHNQvp7_",
        "y4ZA5vNlY29D",
        "7t1vGwM2Wn1a",
        "ssCuj_J0XV7Y",
        "pdmwpVIyYaMf"
      ]
    },
    "kernelspec": {
      "name": "python3",
      "display_name": "Python 3"
    },
    "language_info": {
      "name": "python"
    }
  },
  "cells": [
    {
      "cell_type": "markdown",
      "source": [
        "#String Functions"
      ],
      "metadata": {
        "id": "UcZYBZayTtTN"
      }
    },
    {
      "cell_type": "markdown",
      "source": [
        "#1. Lower"
      ],
      "metadata": {
        "id": "Yvh1kBuWq7HF"
      }
    },
    {
      "cell_type": "code",
      "source": [
        "var_1 = \"MuHaMmAd AbDuL SuBhAn\"\n",
        "\n",
        "print(var_1.lower())"
      ],
      "metadata": {
        "colab": {
          "base_uri": "https://localhost:8080/"
        },
        "id": "mZBdy8W3rZP9",
        "outputId": "a5a276f1-3bda-4e33-c404-e54a34d01153"
      },
      "execution_count": 2,
      "outputs": [
        {
          "output_type": "stream",
          "name": "stdout",
          "text": [
            "muhammad abdul subhan\n"
          ]
        }
      ]
    },
    {
      "cell_type": "markdown",
      "source": [
        "#2. Upper"
      ],
      "metadata": {
        "id": "NxTrDRK-tcJZ"
      }
    },
    {
      "cell_type": "code",
      "source": [
        "var_2 = \"mUhAmMaD aBdUl sUbHaN\"\n",
        "\n",
        "print(var_2.upper())"
      ],
      "metadata": {
        "colab": {
          "base_uri": "https://localhost:8080/"
        },
        "id": "TjOabu2cs6Q4",
        "outputId": "19db58dd-4232-4ef5-d8a7-1c683db541e0"
      },
      "execution_count": 3,
      "outputs": [
        {
          "output_type": "stream",
          "name": "stdout",
          "text": [
            "MUHAMMAD ABDUL SUBHAN\n"
          ]
        }
      ]
    },
    {
      "cell_type": "markdown",
      "source": [
        "#3. Replace"
      ],
      "metadata": {
        "id": "KvlZPVn8tqD5"
      }
    },
    {
      "cell_type": "code",
      "source": [
        "var_3 = \"Muhammad Abdul Subhan\"\n",
        "\n",
        "print(var_3.replace(\"Muhammad\",\"\"))"
      ],
      "metadata": {
        "colab": {
          "base_uri": "https://localhost:8080/"
        },
        "id": "kswX889Ft01j",
        "outputId": "975cbf7d-d183-4c1a-ede0-124917c8697c"
      },
      "execution_count": 4,
      "outputs": [
        {
          "output_type": "stream",
          "name": "stdout",
          "text": [
            " Abdul Subhan\n"
          ]
        }
      ]
    },
    {
      "cell_type": "markdown",
      "source": [
        "#4. Split"
      ],
      "metadata": {
        "id": "xr1L_kkRvQD_"
      }
    },
    {
      "cell_type": "code",
      "source": [
        "var_4 = \"Mu Ha Mm Ad Ab Du L Su Bh An\"\n",
        "\n",
        "print(var_4.split())"
      ],
      "metadata": {
        "colab": {
          "base_uri": "https://localhost:8080/"
        },
        "id": "8Vykh9x7smKk",
        "outputId": "4028f37b-e9a9-4ba3-a67e-809ca0138c8d"
      },
      "execution_count": 5,
      "outputs": [
        {
          "output_type": "stream",
          "name": "stdout",
          "text": [
            "['Mu', 'Ha', 'Mm', 'Ad', 'Ab', 'Du', 'L', 'Su', 'Bh', 'An']\n"
          ]
        }
      ]
    },
    {
      "cell_type": "markdown",
      "source": [
        "#5. Join"
      ],
      "metadata": {
        "id": "miwYdiJrv_8c"
      }
    },
    {
      "cell_type": "code",
      "source": [
        "var_5 = \"M u h a m m a d A b d u l S u b h a n\"\n",
        "var_5_1 = \"\".join(var_5.split())\n",
        "\n",
        "print(var_5_1)"
      ],
      "metadata": {
        "colab": {
          "base_uri": "https://localhost:8080/"
        },
        "id": "n2q4eKz7xGwq",
        "outputId": "274353d0-d052-4679-a149-f76bd35f2263"
      },
      "execution_count": 6,
      "outputs": [
        {
          "output_type": "stream",
          "name": "stdout",
          "text": [
            "MuhammadAbdulSubhan\n"
          ]
        }
      ]
    },
    {
      "cell_type": "markdown",
      "source": [
        "#6. Find"
      ],
      "metadata": {
        "id": "jf1VcvNl2sJL"
      }
    },
    {
      "cell_type": "code",
      "source": [
        "var_6 = \"Muhammad Abdul Subhan\"\n",
        "\n",
        "print(var_6.find(\"l\"))"
      ],
      "metadata": {
        "colab": {
          "base_uri": "https://localhost:8080/"
        },
        "id": "j8aOzo1t37bO",
        "outputId": "abced0c8-1873-4935-84a8-1200a7f33b11"
      },
      "execution_count": 7,
      "outputs": [
        {
          "output_type": "stream",
          "name": "stdout",
          "text": [
            "13\n"
          ]
        }
      ]
    },
    {
      "cell_type": "markdown",
      "source": [
        "#7. Startswith"
      ],
      "metadata": {
        "id": "WfLWKkPm4vp8"
      }
    },
    {
      "cell_type": "code",
      "source": [
        "var_7 = \"Muhammad Abdul Subhan\"\n",
        "\n",
        "print(var_7.startswith(\"M\"))"
      ],
      "metadata": {
        "colab": {
          "base_uri": "https://localhost:8080/"
        },
        "id": "-gpKb9X242mB",
        "outputId": "f05f2b47-49d3-4aaa-bc05-7ae2d93dc20f"
      },
      "execution_count": 8,
      "outputs": [
        {
          "output_type": "stream",
          "name": "stdout",
          "text": [
            "True\n"
          ]
        }
      ]
    },
    {
      "cell_type": "markdown",
      "source": [
        "#8. Endswith"
      ],
      "metadata": {
        "id": "FQmE_rlN5PCM"
      }
    },
    {
      "cell_type": "code",
      "source": [
        "var_8 = \"Muhammad Abdul Subhan\"\n",
        "\n",
        "print(var_8.endswith(\"n\"))"
      ],
      "metadata": {
        "colab": {
          "base_uri": "https://localhost:8080/"
        },
        "id": "h5eCTmI5xuKo",
        "outputId": "dc1a0251-e766-45f9-c86c-92597df16cb2"
      },
      "execution_count": 9,
      "outputs": [
        {
          "output_type": "stream",
          "name": "stdout",
          "text": [
            "True\n"
          ]
        }
      ]
    },
    {
      "cell_type": "markdown",
      "source": [
        "#9. Title"
      ],
      "metadata": {
        "id": "lKxqVd0P7XD0"
      }
    },
    {
      "cell_type": "code",
      "source": [
        "var_9 = \"muhammad abdul subhan\"\n",
        "\n",
        "print(var_9.title())"
      ],
      "metadata": {
        "colab": {
          "base_uri": "https://localhost:8080/"
        },
        "id": "FhANeVEZ0KbE",
        "outputId": "1f984572-739a-4238-ad66-cc21282cfc9b"
      },
      "execution_count": 10,
      "outputs": [
        {
          "output_type": "stream",
          "name": "stdout",
          "text": [
            "Muhammad Abdul Subhan\n"
          ]
        }
      ]
    },
    {
      "cell_type": "markdown",
      "source": [
        "#10. Capitalize"
      ],
      "metadata": {
        "id": "LkQ_1sIs8mBU"
      }
    },
    {
      "cell_type": "code",
      "source": [
        "var_10 = \"muhammad abdul subhan\"\n",
        "\n",
        "print(var_10.capitalize())"
      ],
      "metadata": {
        "colab": {
          "base_uri": "https://localhost:8080/"
        },
        "id": "Cd7he1CU7fPd",
        "outputId": "7c6891fa-7821-4ab8-fbf1-377cabac30e7"
      },
      "execution_count": 11,
      "outputs": [
        {
          "output_type": "stream",
          "name": "stdout",
          "text": [
            "Muhammad abdul subhan\n"
          ]
        }
      ]
    },
    {
      "cell_type": "markdown",
      "source": [
        "#11. Isalpha"
      ],
      "metadata": {
        "id": "UZ0YmgYv9Bo_"
      }
    },
    {
      "cell_type": "code",
      "source": [
        "var_11 = \"MuhammadAbdulSubhan\"\n",
        "\n",
        "print(var_11.isalpha())"
      ],
      "metadata": {
        "colab": {
          "base_uri": "https://localhost:8080/"
        },
        "id": "0RrKWZDz7FPZ",
        "outputId": "86a2bf36-79c9-4acd-f95d-489a08bce32d"
      },
      "execution_count": 12,
      "outputs": [
        {
          "output_type": "stream",
          "name": "stdout",
          "text": [
            "True\n"
          ]
        }
      ]
    },
    {
      "cell_type": "markdown",
      "source": [
        "#12. Isdigit"
      ],
      "metadata": {
        "id": "EGJfkmIK5dF4"
      }
    },
    {
      "cell_type": "code",
      "source": [
        "var_12 = \"17\"\n",
        "\n",
        "print(var_12.isdigit())"
      ],
      "metadata": {
        "colab": {
          "base_uri": "https://localhost:8080/"
        },
        "id": "qHey-1OU5-Cv",
        "outputId": "dc1567a2-68c0-428e-87ec-7a9a2bac7184"
      },
      "execution_count": 13,
      "outputs": [
        {
          "output_type": "stream",
          "name": "stdout",
          "text": [
            "True\n"
          ]
        }
      ]
    },
    {
      "cell_type": "markdown",
      "source": [
        "#13. Isalnum"
      ],
      "metadata": {
        "id": "iSbrzOMnu2ha"
      }
    },
    {
      "cell_type": "code",
      "source": [
        "var_13 = \"Muhammad17AbdulSubhan\"\n",
        "\n",
        "print(var_13.isalnum())"
      ],
      "metadata": {
        "colab": {
          "base_uri": "https://localhost:8080/"
        },
        "id": "1GQGzFoC8Tq3",
        "outputId": "311b8574-34db-432d-e21d-0d9379687605"
      },
      "execution_count": 14,
      "outputs": [
        {
          "output_type": "stream",
          "name": "stdout",
          "text": [
            "True\n"
          ]
        }
      ]
    },
    {
      "cell_type": "markdown",
      "source": [
        "#14. Swapcase"
      ],
      "metadata": {
        "id": "WAgDNpDXuLKS"
      }
    },
    {
      "cell_type": "code",
      "source": [
        "var_14 = \"MuHaMmAd AbDuL SuBhAn\"\n",
        "\n",
        "print(var_14.swapcase())"
      ],
      "metadata": {
        "colab": {
          "base_uri": "https://localhost:8080/"
        },
        "id": "alKmBlFs7nfU",
        "outputId": "67fc3528-9de2-4832-f9d5-4ebbe26aaf2a"
      },
      "execution_count": 15,
      "outputs": [
        {
          "output_type": "stream",
          "name": "stdout",
          "text": [
            "mUhAmMaD aBdUl sUbHaN\n"
          ]
        }
      ]
    },
    {
      "cell_type": "markdown",
      "source": [
        "#15. Strip"
      ],
      "metadata": {
        "id": "ZKLknHNQvp7_"
      }
    },
    {
      "cell_type": "code",
      "source": [
        "var_15 = \"                     Muhammad Abdul Subhan                    \"\n",
        "\n",
        "print(var_15.strip())"
      ],
      "metadata": {
        "colab": {
          "base_uri": "https://localhost:8080/"
        },
        "id": "britu1nY8zhf",
        "outputId": "45587bca-8918-4831-968b-b1e27dfae790"
      },
      "execution_count": 16,
      "outputs": [
        {
          "output_type": "stream",
          "name": "stdout",
          "text": [
            "Muhammad Abdul Subhan\n"
          ]
        }
      ]
    },
    {
      "cell_type": "markdown",
      "source": [
        "#16. Length"
      ],
      "metadata": {
        "id": "y4ZA5vNlY29D"
      }
    },
    {
      "cell_type": "code",
      "source": [
        "var_16 = \"Muhammad Abdul Subhan\"\n",
        "\n",
        "print(len(var_16))"
      ],
      "metadata": {
        "colab": {
          "base_uri": "https://localhost:8080/"
        },
        "id": "ohRst1I9Y4wZ",
        "outputId": "f46445c8-f047-40da-9ed3-a1186e18a432"
      },
      "execution_count": 17,
      "outputs": [
        {
          "output_type": "stream",
          "name": "stdout",
          "text": [
            "21\n"
          ]
        }
      ]
    },
    {
      "cell_type": "markdown",
      "source": [
        "#17. Max"
      ],
      "metadata": {
        "id": "7t1vGwM2Wn1a"
      }
    },
    {
      "cell_type": "code",
      "source": [
        "var_17 = \"Muhammad Abdul Subhan\"\n",
        "\n",
        "print(max(var_17))"
      ],
      "metadata": {
        "id": "32HAC7AIZMva",
        "colab": {
          "base_uri": "https://localhost:8080/"
        },
        "outputId": "1e01876b-eb93-4d33-a70c-b0acfaea1541"
      },
      "execution_count": 18,
      "outputs": [
        {
          "output_type": "stream",
          "name": "stdout",
          "text": [
            "u\n"
          ]
        }
      ]
    },
    {
      "cell_type": "markdown",
      "source": [
        "#18. Min"
      ],
      "metadata": {
        "id": "ssCuj_J0XV7Y"
      }
    },
    {
      "cell_type": "code",
      "source": [
        "var_18 = \"MuhammadAbdulSubhan\"\n",
        "\n",
        "print(min(var_18))"
      ],
      "metadata": {
        "colab": {
          "base_uri": "https://localhost:8080/"
        },
        "id": "7GD_lbCzXMjm",
        "outputId": "f9692ecc-c867-4a06-fc85-027b5d1553cb"
      },
      "execution_count": 19,
      "outputs": [
        {
          "output_type": "stream",
          "name": "stdout",
          "text": [
            "A\n"
          ]
        }
      ]
    },
    {
      "cell_type": "markdown",
      "source": [
        "#19. Sorted"
      ],
      "metadata": {
        "id": "pdmwpVIyYaMf"
      }
    },
    {
      "cell_type": "code",
      "source": [
        "var_19 = \"Muhammad Abdul Subhan\"\n",
        "\n",
        "print(sorted(var_19))"
      ],
      "metadata": {
        "colab": {
          "base_uri": "https://localhost:8080/"
        },
        "id": "LOVBA449XfAZ",
        "outputId": "a4124d98-14f1-48b5-d4b7-aabd71db7709"
      },
      "execution_count": 20,
      "outputs": [
        {
          "output_type": "stream",
          "name": "stdout",
          "text": [
            "[' ', ' ', 'A', 'M', 'S', 'a', 'a', 'a', 'b', 'b', 'd', 'd', 'h', 'h', 'l', 'm', 'm', 'n', 'u', 'u', 'u']\n"
          ]
        }
      ]
    }
  ]
}