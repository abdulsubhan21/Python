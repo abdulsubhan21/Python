{
  "nbformat": 4,
  "nbformat_minor": 0,
  "metadata": {
    "colab": {
      "provenance": []
    },
    "kernelspec": {
      "name": "python3",
      "display_name": "Python 3"
    },
    "language_info": {
      "name": "python"
    }
  },
  "cells": [
    {
      "cell_type": "markdown",
      "source": [
        "#String Functions"
      ],
      "metadata": {
        "id": "UcZYBZayTtTN"
      }
    },
    {
      "cell_type": "markdown",
      "source": [
        "#1. Lower"
      ],
      "metadata": {
        "id": "Yvh1kBuWq7HF"
      }
    },
    {
      "cell_type": "code",
      "source": [
        "var_1 = \"MuHaMmAd AbDuL SuBhAn\"\n",
        "\n",
        "print(var_1.lower())"
      ],
      "metadata": {
        "colab": {
          "base_uri": "https://localhost:8080/"
        },
        "id": "mZBdy8W3rZP9",
        "outputId": "917b4ef7-ac93-45ff-ffa7-402f5faf8be0"
      },
      "execution_count": 1,
      "outputs": [
        {
          "output_type": "stream",
          "name": "stdout",
          "text": [
            "muhammad abdul subhan\n"
          ]
        }
      ]
    },
    {
      "cell_type": "markdown",
      "source": [
        "#2. Upper"
      ],
      "metadata": {
        "id": "NxTrDRK-tcJZ"
      }
    },
    {
      "cell_type": "code",
      "source": [
        "var_2 = \"mUhAmMaD aBdUl sUbHaN\"\n",
        "\n",
        "print(var_2.upper())"
      ],
      "metadata": {
        "colab": {
          "base_uri": "https://localhost:8080/"
        },
        "id": "TjOabu2cs6Q4",
        "outputId": "fe02910f-d426-4e71-8120-aabc30a51a12"
      },
      "execution_count": 2,
      "outputs": [
        {
          "output_type": "stream",
          "name": "stdout",
          "text": [
            "MUHAMMAD ABDUL SUBHAN\n"
          ]
        }
      ]
    },
    {
      "cell_type": "markdown",
      "source": [
        "#3. Replace"
      ],
      "metadata": {
        "id": "KvlZPVn8tqD5"
      }
    },
    {
      "cell_type": "code",
      "source": [
        "var_3 = \"Muhammad Abdul Subhan\"\n",
        "\n",
        "print(var_3.replace(\"Muhammad\",\"\"))"
      ],
      "metadata": {
        "colab": {
          "base_uri": "https://localhost:8080/"
        },
        "id": "kswX889Ft01j",
        "outputId": "5aae1daf-7fa0-452c-bcc7-2934e80b6811"
      },
      "execution_count": 3,
      "outputs": [
        {
          "output_type": "stream",
          "name": "stdout",
          "text": [
            " Abdul Subhan\n"
          ]
        }
      ]
    },
    {
      "cell_type": "markdown",
      "source": [
        "#4. Split"
      ],
      "metadata": {
        "id": "xr1L_kkRvQD_"
      }
    },
    {
      "cell_type": "code",
      "source": [
        "var_4 = \"Mu Ha Mm Ad Ab Du L Su Bh An\"\n",
        "\n",
        "print(var_4.split())"
      ],
      "metadata": {
        "colab": {
          "base_uri": "https://localhost:8080/"
        },
        "id": "8Vykh9x7smKk",
        "outputId": "ca132e68-7abe-493f-ed92-3fefbbce1bca"
      },
      "execution_count": 4,
      "outputs": [
        {
          "output_type": "stream",
          "name": "stdout",
          "text": [
            "['Mu', 'Ha', 'Mm', 'Ad', 'Ab', 'Du', 'L', 'Su', 'Bh', 'An']\n"
          ]
        }
      ]
    },
    {
      "cell_type": "markdown",
      "source": [
        "#5. Join"
      ],
      "metadata": {
        "id": "miwYdiJrv_8c"
      }
    },
    {
      "cell_type": "code",
      "source": [
        "var_5 = \"M u h a m m a d A b d u l S u b h a n\"\n",
        "var_5_1 = \"\".join(var_5.split())\n",
        "\n",
        "print(var_5_1)"
      ],
      "metadata": {
        "colab": {
          "base_uri": "https://localhost:8080/"
        },
        "id": "n2q4eKz7xGwq",
        "outputId": "0a4361b5-8d19-439a-fa9f-eb033b6d7a96"
      },
      "execution_count": 5,
      "outputs": [
        {
          "output_type": "stream",
          "name": "stdout",
          "text": [
            "MuhammadAbdulSubhan\n"
          ]
        }
      ]
    },
    {
      "cell_type": "markdown",
      "source": [
        "#6. Find"
      ],
      "metadata": {
        "id": "jf1VcvNl2sJL"
      }
    },
    {
      "cell_type": "code",
      "source": [
        "var_6 = \"Muhammad Abdul Subhan\"\n",
        "\n",
        "print(var_6.find(\"l\"))"
      ],
      "metadata": {
        "colab": {
          "base_uri": "https://localhost:8080/"
        },
        "id": "j8aOzo1t37bO",
        "outputId": "094a0a48-85ba-40f6-a08b-dfc46d5d4adf"
      },
      "execution_count": 6,
      "outputs": [
        {
          "output_type": "stream",
          "name": "stdout",
          "text": [
            "13\n"
          ]
        }
      ]
    },
    {
      "cell_type": "markdown",
      "source": [
        "#7. Startswith"
      ],
      "metadata": {
        "id": "WfLWKkPm4vp8"
      }
    },
    {
      "cell_type": "code",
      "source": [
        "var_7 = \"Muhammad Abdul Subhan\"\n",
        "\n",
        "print(var_7.startswith(\"M\"))"
      ],
      "metadata": {
        "colab": {
          "base_uri": "https://localhost:8080/"
        },
        "id": "-gpKb9X242mB",
        "outputId": "7592c960-71a8-440f-834a-e2aa0610e2a6"
      },
      "execution_count": 7,
      "outputs": [
        {
          "output_type": "stream",
          "name": "stdout",
          "text": [
            "True\n"
          ]
        }
      ]
    },
    {
      "cell_type": "markdown",
      "source": [
        "#8. Endswith"
      ],
      "metadata": {
        "id": "FQmE_rlN5PCM"
      }
    },
    {
      "cell_type": "code",
      "source": [
        "var_8 = \"Muhammad Abdul Subhan\"\n",
        "\n",
        "print(var_8.endswith(\"n\"))"
      ],
      "metadata": {
        "colab": {
          "base_uri": "https://localhost:8080/"
        },
        "id": "h5eCTmI5xuKo",
        "outputId": "abcf832d-e626-4a1f-8898-52fccff6941c"
      },
      "execution_count": 8,
      "outputs": [
        {
          "output_type": "stream",
          "name": "stdout",
          "text": [
            "True\n"
          ]
        }
      ]
    },
    {
      "cell_type": "markdown",
      "source": [
        "#9. Title"
      ],
      "metadata": {
        "id": "lKxqVd0P7XD0"
      }
    },
    {
      "cell_type": "code",
      "source": [
        "var_9 = \"muhammad abdul subhan\"\n",
        "\n",
        "print(var_9.title())"
      ],
      "metadata": {
        "colab": {
          "base_uri": "https://localhost:8080/"
        },
        "id": "FhANeVEZ0KbE",
        "outputId": "17e5c47e-55dd-4b38-f628-6d2a93f78e52"
      },
      "execution_count": 9,
      "outputs": [
        {
          "output_type": "stream",
          "name": "stdout",
          "text": [
            "Muhammad Abdul Subhan\n"
          ]
        }
      ]
    },
    {
      "cell_type": "markdown",
      "source": [
        "#10. Capitalize"
      ],
      "metadata": {
        "id": "LkQ_1sIs8mBU"
      }
    },
    {
      "cell_type": "code",
      "source": [
        "var_10 = \"muhammad abdul subhan\"\n",
        "\n",
        "print(var_10.capitalize())"
      ],
      "metadata": {
        "colab": {
          "base_uri": "https://localhost:8080/"
        },
        "id": "Cd7he1CU7fPd",
        "outputId": "ae6872e9-2636-43e1-f810-571f6837e871"
      },
      "execution_count": 10,
      "outputs": [
        {
          "output_type": "stream",
          "name": "stdout",
          "text": [
            "Muhammad abdul subhan\n"
          ]
        }
      ]
    },
    {
      "cell_type": "markdown",
      "source": [
        "#11. Isalpha"
      ],
      "metadata": {
        "id": "UZ0YmgYv9Bo_"
      }
    },
    {
      "cell_type": "code",
      "source": [
        "var_11 = \"MuhammadAbdulSubhan\"\n",
        "\n",
        "print(var_11.isalpha())"
      ],
      "metadata": {
        "colab": {
          "base_uri": "https://localhost:8080/"
        },
        "id": "0RrKWZDz7FPZ",
        "outputId": "e5b19339-6657-48bc-9422-809c9b0047fa"
      },
      "execution_count": 11,
      "outputs": [
        {
          "output_type": "stream",
          "name": "stdout",
          "text": [
            "True\n"
          ]
        }
      ]
    },
    {
      "cell_type": "markdown",
      "source": [
        "#12. Isdigit"
      ],
      "metadata": {
        "id": "EGJfkmIK5dF4"
      }
    },
    {
      "cell_type": "code",
      "source": [
        "var_12 = \"17\"\n",
        "\n",
        "print(var_12.isdigit())"
      ],
      "metadata": {
        "colab": {
          "base_uri": "https://localhost:8080/"
        },
        "id": "qHey-1OU5-Cv",
        "outputId": "2eac3641-965c-415f-b552-3d08960a71c8"
      },
      "execution_count": 12,
      "outputs": [
        {
          "output_type": "stream",
          "name": "stdout",
          "text": [
            "True\n"
          ]
        }
      ]
    },
    {
      "cell_type": "markdown",
      "source": [
        "#13. Isalnum"
      ],
      "metadata": {
        "id": "iSbrzOMnu2ha"
      }
    },
    {
      "cell_type": "code",
      "source": [
        "var_13 = \"Muhammad17AbdulSubhan\"\n",
        "\n",
        "print(var_13.isalnum())"
      ],
      "metadata": {
        "colab": {
          "base_uri": "https://localhost:8080/"
        },
        "id": "1GQGzFoC8Tq3",
        "outputId": "d36be004-0dea-4ba0-b953-dd7bdeae570f"
      },
      "execution_count": 13,
      "outputs": [
        {
          "output_type": "stream",
          "name": "stdout",
          "text": [
            "True\n"
          ]
        }
      ]
    },
    {
      "cell_type": "markdown",
      "source": [
        "#14. Swapcase"
      ],
      "metadata": {
        "id": "WAgDNpDXuLKS"
      }
    },
    {
      "cell_type": "code",
      "source": [
        "var_14 = \"MuHaMmAd AbDuL SuBhAn\"\n",
        "\n",
        "print(var_14.swapcase())"
      ],
      "metadata": {
        "colab": {
          "base_uri": "https://localhost:8080/"
        },
        "id": "alKmBlFs7nfU",
        "outputId": "bfb39710-974c-4681-f7c4-85f9f50d7d84"
      },
      "execution_count": 14,
      "outputs": [
        {
          "output_type": "stream",
          "name": "stdout",
          "text": [
            "mUhAmMaD aBdUl sUbHaN\n"
          ]
        }
      ]
    },
    {
      "cell_type": "markdown",
      "source": [
        "#15. Strip"
      ],
      "metadata": {
        "id": "ZKLknHNQvp7_"
      }
    },
    {
      "cell_type": "code",
      "source": [
        "var_15 = \"                     Muhammad Abdul Subhan                    \"\n",
        "\n",
        "print(var_15.strip())"
      ],
      "metadata": {
        "colab": {
          "base_uri": "https://localhost:8080/"
        },
        "id": "britu1nY8zhf",
        "outputId": "d293ceb8-24f4-433c-9ccd-b6c04458f342"
      },
      "execution_count": 15,
      "outputs": [
        {
          "output_type": "stream",
          "name": "stdout",
          "text": [
            "Muhammad Abdul Subhan\n"
          ]
        }
      ]
    },
    {
      "cell_type": "markdown",
      "source": [
        "#16. Length"
      ],
      "metadata": {
        "id": "y4ZA5vNlY29D"
      }
    },
    {
      "cell_type": "code",
      "source": [
        "var_16 = \"Muhammad Abdul Subhan\"\n",
        "\n",
        "print(len(var_16))"
      ],
      "metadata": {
        "colab": {
          "base_uri": "https://localhost:8080/"
        },
        "id": "ohRst1I9Y4wZ",
        "outputId": "e5b50974-f6e0-44c7-9fd8-1165557de2c6"
      },
      "execution_count": 16,
      "outputs": [
        {
          "output_type": "stream",
          "name": "stdout",
          "text": [
            "21\n"
          ]
        }
      ]
    },
    {
      "cell_type": "markdown",
      "source": [
        "#17. Max"
      ],
      "metadata": {
        "id": "7t1vGwM2Wn1a"
      }
    },
    {
      "cell_type": "code",
      "source": [
        "var_17 = \"Muhammad Abdul Subhan\"\n",
        "\n",
        "print(max(var_17))"
      ],
      "metadata": {
        "id": "32HAC7AIZMva",
        "colab": {
          "base_uri": "https://localhost:8080/"
        },
        "outputId": "8a248e16-776a-4f79-c0a6-166db049280a"
      },
      "execution_count": 17,
      "outputs": [
        {
          "output_type": "stream",
          "name": "stdout",
          "text": [
            "u\n"
          ]
        }
      ]
    },
    {
      "cell_type": "markdown",
      "source": [
        "#18. Min"
      ],
      "metadata": {
        "id": "ssCuj_J0XV7Y"
      }
    },
    {
      "cell_type": "code",
      "source": [
        "var_18 = \"MuhammadAbdulSubhan\"\n",
        "\n",
        "print(min(var_18))"
      ],
      "metadata": {
        "colab": {
          "base_uri": "https://localhost:8080/"
        },
        "id": "7GD_lbCzXMjm",
        "outputId": "857019f1-48ad-4245-bdb8-6a8b2e4fee10"
      },
      "execution_count": 18,
      "outputs": [
        {
          "output_type": "stream",
          "name": "stdout",
          "text": [
            "A\n"
          ]
        }
      ]
    },
    {
      "cell_type": "markdown",
      "source": [
        "#19. Sorted"
      ],
      "metadata": {
        "id": "pdmwpVIyYaMf"
      }
    },
    {
      "cell_type": "code",
      "source": [
        "var_19 = \"Muhammad Abdul Subhan\"\n",
        "\n",
        "print(sorted(var_19))"
      ],
      "metadata": {
        "colab": {
          "base_uri": "https://localhost:8080/"
        },
        "id": "LOVBA449XfAZ",
        "outputId": "c0390017-de3f-4edb-dcce-f946c7c4fb86"
      },
      "execution_count": 19,
      "outputs": [
        {
          "output_type": "stream",
          "name": "stdout",
          "text": [
            "[' ', ' ', 'A', 'M', 'S', 'a', 'a', 'a', 'b', 'b', 'd', 'd', 'h', 'h', 'l', 'm', 'm', 'n', 'u', 'u', 'u']\n"
          ]
        }
      ]
    }
  ]
}