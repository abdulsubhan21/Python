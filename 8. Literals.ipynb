{
  "nbformat": 4,
  "nbformat_minor": 0,
  "metadata": {
    "colab": {
      "provenance": []
    },
    "kernelspec": {
      "name": "python3",
      "display_name": "Python 3"
    },
    "language_info": {
      "name": "python"
    }
  },
  "cells": [
    {
      "cell_type": "markdown",
      "source": [
        "#Literals"
      ],
      "metadata": {
        "id": "wVsm75U-iC-m"
      }
    },
    {
      "cell_type": "markdown",
      "source": [
        "#1. Numeric Literals"
      ],
      "metadata": {
        "id": "fOLhEdqBkGRY"
      }
    },
    {
      "cell_type": "markdown",
      "source": [
        "#i. Integer Literal"
      ],
      "metadata": {
        "id": "SMEwhLpkomNl"
      }
    },
    {
      "cell_type": "code",
      "execution_count": 1,
      "metadata": {
        "colab": {
          "base_uri": "https://localhost:8080/"
        },
        "id": "M89geThEhpaN",
        "outputId": "a9855c20-5ba8-44ff-bda5-32b90b2706f8"
      },
      "outputs": [
        {
          "output_type": "stream",
          "name": "stdout",
          "text": [
            "10 100 200 300\n"
          ]
        }
      ],
      "source": [
        "a = 0b1010\n",
        "b = 100\n",
        "c = 0o310\n",
        "d = 0x12c\n",
        "\n",
        "print(a, b, c, d)"
      ]
    },
    {
      "cell_type": "markdown",
      "source": [
        "#ii. Float Literal"
      ],
      "metadata": {
        "id": "DzlcRl68o-8Z"
      }
    },
    {
      "cell_type": "code",
      "source": [
        "float_1 = 10.5\n",
        "float_2 = 1.5e2\n",
        "float_3 = 1.5e-3\n",
        "\n",
        "print(float_1, float_2,float_3)"
      ],
      "metadata": {
        "colab": {
          "base_uri": "https://localhost:8080/"
        },
        "id": "oOlqVS_xo9JV",
        "outputId": "983d9378-668e-46fb-d9b1-5c7bfcf034aa"
      },
      "execution_count": 2,
      "outputs": [
        {
          "output_type": "stream",
          "name": "stdout",
          "text": [
            "10.5 150.0 0.0015\n"
          ]
        }
      ]
    },
    {
      "cell_type": "markdown",
      "source": [
        "#iii. Complex Literal"
      ],
      "metadata": {
        "id": "-Mv_4OHCrq8R"
      }
    },
    {
      "cell_type": "code",
      "source": [
        "x = 3.14j\n",
        "\n",
        "print(x, x.imag, x.real)"
      ],
      "metadata": {
        "colab": {
          "base_uri": "https://localhost:8080/"
        },
        "id": "TjkowKtYpTyg",
        "outputId": "3532adb8-6ea0-4302-c8c3-7b85b139c970"
      },
      "execution_count": 3,
      "outputs": [
        {
          "output_type": "stream",
          "name": "stdout",
          "text": [
            "3.14j 3.14 0.0\n"
          ]
        }
      ]
    },
    {
      "cell_type": "markdown",
      "source": [
        "#2. String Literals"
      ],
      "metadata": {
        "id": "xZXlO3tir9sV"
      }
    },
    {
      "cell_type": "code",
      "source": [
        "string = 'This is Python'\n",
        "strings = \"This is Python\"\n",
        "char = \"C\"\n",
        "multiline_str = \"\"\"This is a multiline string with more than one line code.\"\"\"\n",
        "unicode = u\"\\U0001f600\\U0001F606\\U0001F923\"\n",
        "raw_str = r\"raw \\n string\"\n",
        "\n",
        "print(string)\n",
        "print(strings)\n",
        "print(char)\n",
        "print(multiline_str)\n",
        "print(unicode)\n",
        "print(raw_str)"
      ],
      "metadata": {
        "colab": {
          "base_uri": "https://localhost:8080/"
        },
        "id": "5-DqyWdLr5lA",
        "outputId": "137ae541-d3d6-4382-f7af-8a3e4bef397c"
      },
      "execution_count": 4,
      "outputs": [
        {
          "output_type": "stream",
          "name": "stdout",
          "text": [
            "This is Python\n",
            "This is Python\n",
            "C\n",
            "This is a multiline string with more than one line code.\n",
            "😀😆🤣\n",
            "raw \\n string\n"
          ]
        }
      ]
    },
    {
      "cell_type": "markdown",
      "source": [
        "#3. Boolean Literal"
      ],
      "metadata": {
        "id": "w_fxxdrmsiIm"
      }
    },
    {
      "cell_type": "code",
      "source": [
        "a = True + 4\n",
        "b = False + 10\n",
        "\n",
        "print(\"a:\", a)\n",
        "print(\"b:\", b)"
      ],
      "metadata": {
        "colab": {
          "base_uri": "https://localhost:8080/"
        },
        "id": "IOIxeyqDsYvi",
        "outputId": "0237861a-bb2a-4681-9215-a4806336fbe8"
      },
      "execution_count": 5,
      "outputs": [
        {
          "output_type": "stream",
          "name": "stdout",
          "text": [
            "a: 5\n",
            "b: 10\n"
          ]
        }
      ]
    },
    {
      "cell_type": "markdown",
      "source": [
        "#4. Special Literal"
      ],
      "metadata": {
        "id": "Uq-JOIVjs0Gz"
      }
    },
    {
      "cell_type": "code",
      "source": [
        "a = None\n",
        "print(a)"
      ],
      "metadata": {
        "colab": {
          "base_uri": "https://localhost:8080/"
        },
        "id": "IPQv50Tcsn4S",
        "outputId": "8ba2c018-195e-47e8-ec58-1380c4b6cdab"
      },
      "execution_count": 6,
      "outputs": [
        {
          "output_type": "stream",
          "name": "stdout",
          "text": [
            "None\n"
          ]
        }
      ]
    }
  ]
}