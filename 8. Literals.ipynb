{
  "nbformat": 4,
  "nbformat_minor": 0,
  "metadata": {
    "colab": {
      "provenance": [],
      "collapsed_sections": [
        "SMEwhLpkomNl",
        "DzlcRl68o-8Z",
        "-Mv_4OHCrq8R",
        "xZXlO3tir9sV",
        "w_fxxdrmsiIm",
        "Uq-JOIVjs0Gz"
      ]
    },
    "kernelspec": {
      "name": "python3",
      "display_name": "Python 3"
    },
    "language_info": {
      "name": "python"
    }
  },
  "cells": [
    {
      "cell_type": "markdown",
      "source": [
        "#Literals"
      ],
      "metadata": {
        "id": "wVsm75U-iC-m"
      }
    },
    {
      "cell_type": "markdown",
      "source": [
        "#1. Numeric Literals"
      ],
      "metadata": {
        "id": "fOLhEdqBkGRY"
      }
    },
    {
      "cell_type": "markdown",
      "source": [
        "#i. Integer"
      ],
      "metadata": {
        "id": "SMEwhLpkomNl"
      }
    },
    {
      "cell_type": "code",
      "execution_count": null,
      "metadata": {
        "colab": {
          "base_uri": "https://localhost:8080/"
        },
        "id": "M89geThEhpaN",
        "outputId": "123af3ec-11a1-474c-9d57-272e2955a38b"
      },
      "outputs": [
        {
          "output_type": "stream",
          "name": "stdout",
          "text": [
            "10 100 200 300\n"
          ]
        }
      ],
      "source": [
        "a = 0b1010\n",
        "b = 100\n",
        "c = 0o310\n",
        "d = 0x12c\n",
        "\n",
        "print(a, b, c, d)"
      ]
    },
    {
      "cell_type": "markdown",
      "source": [
        "#ii. Float"
      ],
      "metadata": {
        "id": "DzlcRl68o-8Z"
      }
    },
    {
      "cell_type": "code",
      "source": [
        "float_1 = 10.5\n",
        "float_2 = 1.5e2\n",
        "float_3 = 1.5e-3\n",
        "\n",
        "print(float_1, float_2,float_3)"
      ],
      "metadata": {
        "colab": {
          "base_uri": "https://localhost:8080/"
        },
        "id": "oOlqVS_xo9JV",
        "outputId": "ba3db571-7291-4360-814e-52cde522d75b"
      },
      "execution_count": null,
      "outputs": [
        {
          "output_type": "stream",
          "name": "stdout",
          "text": [
            "10.5 150.0 0.0015\n"
          ]
        }
      ]
    },
    {
      "cell_type": "markdown",
      "source": [
        "#iii. Complex Literal"
      ],
      "metadata": {
        "id": "-Mv_4OHCrq8R"
      }
    },
    {
      "cell_type": "code",
      "source": [
        "x = 3.14j\n",
        "\n",
        "print(x, x.imag, x.real)"
      ],
      "metadata": {
        "colab": {
          "base_uri": "https://localhost:8080/"
        },
        "id": "TjkowKtYpTyg",
        "outputId": "3501b04b-5ba4-401c-8add-e214cae1b799"
      },
      "execution_count": null,
      "outputs": [
        {
          "output_type": "stream",
          "name": "stdout",
          "text": [
            "3.14j 3.14 0.0\n"
          ]
        }
      ]
    },
    {
      "cell_type": "markdown",
      "source": [
        "#2. String Literals"
      ],
      "metadata": {
        "id": "xZXlO3tir9sV"
      }
    },
    {
      "cell_type": "code",
      "source": [
        "string = 'This is Python'\n",
        "strings = \"This is Python\"\n",
        "char = \"C\"\n",
        "multiline_str = \"\"\"This is a multiline string with more than one line code.\"\"\"\n",
        "unicode = u\"\\U0001f600\\U0001F606\\U0001F923\"\n",
        "raw_str = r\"raw \\n string\"\n",
        "\n",
        "print(string)\n",
        "print(strings)\n",
        "print(char)\n",
        "print(multiline_str)\n",
        "print(unicode)\n",
        "print(raw_str)"
      ],
      "metadata": {
        "colab": {
          "base_uri": "https://localhost:8080/"
        },
        "id": "5-DqyWdLr5lA",
        "outputId": "0006b530-51b6-4f76-fef1-4e2bb77b420b"
      },
      "execution_count": null,
      "outputs": [
        {
          "output_type": "stream",
          "name": "stdout",
          "text": [
            "This is Python\n",
            "This is Python\n",
            "C\n",
            "This is a multiline string with more than one line code.\n",
            "😀😆🤣\n",
            "raw \\n string\n"
          ]
        }
      ]
    },
    {
      "cell_type": "markdown",
      "source": [
        "#3. Boolean Literal"
      ],
      "metadata": {
        "id": "w_fxxdrmsiIm"
      }
    },
    {
      "cell_type": "code",
      "source": [
        "a = True + 4\n",
        "b = False + 10\n",
        "\n",
        "print(\"a:\", a)\n",
        "print(\"b:\", b)"
      ],
      "metadata": {
        "colab": {
          "base_uri": "https://localhost:8080/"
        },
        "id": "IOIxeyqDsYvi",
        "outputId": "a01979b6-a14a-44f0-f248-667806a7e05a"
      },
      "execution_count": null,
      "outputs": [
        {
          "output_type": "stream",
          "name": "stdout",
          "text": [
            "a: 5\n",
            "b: 10\n"
          ]
        }
      ]
    },
    {
      "cell_type": "markdown",
      "source": [
        "#4. Special Literal"
      ],
      "metadata": {
        "id": "Uq-JOIVjs0Gz"
      }
    },
    {
      "cell_type": "code",
      "source": [
        "a = None\n",
        "print(a)"
      ],
      "metadata": {
        "colab": {
          "base_uri": "https://localhost:8080/"
        },
        "id": "IPQv50Tcsn4S",
        "outputId": "b67ecc77-99e0-42f5-83f8-f2de859f34d5"
      },
      "execution_count": null,
      "outputs": [
        {
          "output_type": "stream",
          "name": "stdout",
          "text": [
            "None\n"
          ]
        }
      ]
    }
  ]
}