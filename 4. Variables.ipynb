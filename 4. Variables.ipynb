{
  "nbformat": 4,
  "nbformat_minor": 0,
  "metadata": {
    "colab": {
      "provenance": [],
      "collapsed_sections": [
        "oTczIf0qe7r1",
        "25oq_N9Me_NU",
        "2SaU0N6afItZ"
      ]
    },
    "kernelspec": {
      "name": "python3",
      "display_name": "Python 3"
    },
    "language_info": {
      "name": "python"
    }
  },
  "cells": [
    {
      "cell_type": "markdown",
      "source": [
        "#Variables"
      ],
      "metadata": {
        "id": "zROl9Ct8e2O7"
      }
    },
    {
      "cell_type": "markdown",
      "source": [
        "# 1. Dynamic Typing"
      ],
      "metadata": {
        "id": "oTczIf0qe7r1"
      }
    },
    {
      "cell_type": "code",
      "source": [
        "name = 'Abdul Subhan'\n",
        "print(name)"
      ],
      "metadata": {
        "colab": {
          "base_uri": "https://localhost:8080/"
        },
        "id": "DdxCfPwmpc1Q",
        "outputId": "4d3c3c2c-12aa-428a-dfe1-dd0e0f779733"
      },
      "execution_count": null,
      "outputs": [
        {
          "output_type": "stream",
          "name": "stdout",
          "text": [
            "Abdul Subhan\n"
          ]
        }
      ]
    },
    {
      "cell_type": "markdown",
      "source": [
        "#2. Dynamic Binding"
      ],
      "metadata": {
        "id": "25oq_N9Me_NU"
      }
    },
    {
      "cell_type": "code",
      "source": [
        "name = 'Hello world'\n",
        "print(name)"
      ],
      "metadata": {
        "colab": {
          "base_uri": "https://localhost:8080/"
        },
        "id": "zXB2tXn9pjEk",
        "outputId": "de2e7a5a-fc41-41cd-dc61-4e135d2d4f08"
      },
      "execution_count": null,
      "outputs": [
        {
          "output_type": "stream",
          "name": "stdout",
          "text": [
            "Hello world\n"
          ]
        }
      ]
    },
    {
      "cell_type": "code",
      "source": [
        "name = 4\n",
        "print(name)"
      ],
      "metadata": {
        "colab": {
          "base_uri": "https://localhost:8080/"
        },
        "id": "oRbRuWl3plPB",
        "outputId": "2667aabb-713b-4a97-9043-45669953fe16"
      },
      "execution_count": null,
      "outputs": [
        {
          "output_type": "stream",
          "name": "stdout",
          "text": [
            "4\n"
          ]
        }
      ]
    },
    {
      "cell_type": "code",
      "source": [
        "name = True\n",
        "print(name)"
      ],
      "metadata": {
        "colab": {
          "base_uri": "https://localhost:8080/"
        },
        "id": "M-XN3LbZpoqg",
        "outputId": "5f747f3e-6203-4efa-d6d2-e3c403757617"
      },
      "execution_count": null,
      "outputs": [
        {
          "output_type": "stream",
          "name": "stdout",
          "text": [
            "True\n"
          ]
        }
      ]
    },
    {
      "cell_type": "markdown",
      "source": [
        "#special syntax"
      ],
      "metadata": {
        "id": "2SaU0N6afItZ"
      }
    },
    {
      "cell_type": "code",
      "source": [
        "a = 5; b = 6; c = 7\n",
        "print(a)\n",
        "print(b)\n",
        "print(c)"
      ],
      "metadata": {
        "colab": {
          "base_uri": "https://localhost:8080/"
        },
        "id": "1mHGKenDp6Xf",
        "outputId": "18ee40af-f4ef-44bc-a0b3-91261b9b81a5"
      },
      "execution_count": null,
      "outputs": [
        {
          "output_type": "stream",
          "name": "stdout",
          "text": [
            "5\n",
            "6\n",
            "7\n"
          ]
        }
      ]
    },
    {
      "cell_type": "code",
      "source": [
        "a, b, c = 4, 5, 6\n",
        "print(a)\n",
        "print(b)\n",
        "print(c)"
      ],
      "metadata": {
        "colab": {
          "base_uri": "https://localhost:8080/"
        },
        "id": "99BsYlonp9YX",
        "outputId": "ab485aa0-bfe4-419f-c75c-53b06e0881d0"
      },
      "execution_count": null,
      "outputs": [
        {
          "output_type": "stream",
          "name": "stdout",
          "text": [
            "4\n",
            "5\n",
            "6\n"
          ]
        }
      ]
    },
    {
      "cell_type": "code",
      "source": [
        "a = b = c = 6\n",
        "print(a)\n",
        "print(b)\n",
        "print(c)"
      ],
      "metadata": {
        "colab": {
          "base_uri": "https://localhost:8080/"
        },
        "id": "jXIDEGq6qBBA",
        "outputId": "6d150078-e728-4023-addf-64f09b6d30dd"
      },
      "execution_count": null,
      "outputs": [
        {
          "output_type": "stream",
          "name": "stdout",
          "text": [
            "6\n",
            "6\n",
            "6\n"
          ]
        }
      ]
    }
  ]
}