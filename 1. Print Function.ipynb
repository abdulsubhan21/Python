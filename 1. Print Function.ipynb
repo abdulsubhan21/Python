{
  "nbformat": 4,
  "nbformat_minor": 0,
  "metadata": {
    "colab": {
      "provenance": []
    },
    "kernelspec": {
      "name": "python3",
      "display_name": "Python 3"
    },
    "language_info": {
      "name": "python"
    }
  },
  "cells": [
    {
      "cell_type": "markdown",
      "source": [
        "# Print Function"
      ],
      "metadata": {
        "id": "asQUWvDsanBQ"
      }
    },
    {
      "cell_type": "markdown",
      "source": [
        "Single Line Print"
      ],
      "metadata": {
        "id": "PPs_k-0Lcf8q"
      }
    },
    {
      "cell_type": "code",
      "source": [
        "print(\"Hello World\")"
      ],
      "metadata": {
        "colab": {
          "base_uri": "https://localhost:8080/"
        },
        "id": "NFqcR7RDiGRR",
        "outputId": "9ba47ed3-9bcf-4eb7-8e4f-56d0b32a30e6"
      },
      "execution_count": 1,
      "outputs": [
        {
          "output_type": "stream",
          "name": "stdout",
          "text": [
            "Hello World\n"
          ]
        }
      ]
    },
    {
      "cell_type": "markdown",
      "source": [
        "Multi Line Print"
      ],
      "metadata": {
        "id": "PJypH0e6azIi"
      }
    },
    {
      "cell_type": "code",
      "source": [
        "print(\"\"\"\n",
        "                                                            Hello World\n",
        "\"\"\")"
      ],
      "metadata": {
        "colab": {
          "base_uri": "https://localhost:8080/"
        },
        "id": "La7rTT1kiPFd",
        "outputId": "a87a9e3f-e4aa-47a8-82d9-b319fed8dff1"
      },
      "execution_count": 2,
      "outputs": [
        {
          "output_type": "stream",
          "name": "stdout",
          "text": [
            "\n",
            "                                                            Hello World\n",
            "\n"
          ]
        }
      ]
    },
    {
      "cell_type": "markdown",
      "source": [
        "Multi Words Print"
      ],
      "metadata": {
        "id": "UBAGQa80a4HQ"
      }
    },
    {
      "cell_type": "code",
      "source": [
        "print(\"Pakistan\", \"India\", \"Bangladesh\", \"Afghanistan\", \"Srilanka\")"
      ],
      "metadata": {
        "colab": {
          "base_uri": "https://localhost:8080/"
        },
        "id": "ZVPWUirvinz1",
        "outputId": "067dbcbe-4b40-466e-9205-7b813a111524"
      },
      "execution_count": 5,
      "outputs": [
        {
          "output_type": "stream",
          "name": "stdout",
          "text": [
            "Pakistan India Bangladesh Afghanistan Srilanka\n"
          ]
        }
      ]
    },
    {
      "cell_type": "markdown",
      "source": [
        "Print With Sep Parameter"
      ],
      "metadata": {
        "id": "K-60sO58a9xy"
      }
    },
    {
      "cell_type": "code",
      "source": [
        "print(\"Pakistan\", \"India\", \"Bangladesh\", \"Afghanistan\", \"Srilanka\",sep = \"/\")"
      ],
      "metadata": {
        "colab": {
          "base_uri": "https://localhost:8080/"
        },
        "id": "BGqn9zQgiq-p",
        "outputId": "982db6c6-80ac-4016-962a-8a62f5b67e1c"
      },
      "execution_count": 7,
      "outputs": [
        {
          "output_type": "stream",
          "name": "stdout",
          "text": [
            "Pakistan/India/Bangladesh/Afghanistan/Srilanka\n"
          ]
        }
      ]
    },
    {
      "cell_type": "code",
      "source": [
        "print(\"Pakistan\",\"India\",\"Bangladesh\",\"Afghanistan\",\"Sri Lanka\",sep='-')"
      ],
      "metadata": {
        "colab": {
          "base_uri": "https://localhost:8080/"
        },
        "id": "EkM97fDVi1VB",
        "outputId": "4f9d14b9-5249-4f00-a3cf-461e5735221e"
      },
      "execution_count": 8,
      "outputs": [
        {
          "output_type": "stream",
          "name": "stdout",
          "text": [
            "Pakistan-India-Bangladesh-Afghanistan-Sri Lanka\n"
          ]
        }
      ]
    },
    {
      "cell_type": "markdown",
      "source": [
        "Print With End Parameter"
      ],
      "metadata": {
        "id": "QIlEzZjWbckl"
      }
    },
    {
      "cell_type": "code",
      "source": [
        "print(\"Hello\",end=',')\n",
        "print(\"world\")"
      ],
      "metadata": {
        "colab": {
          "base_uri": "https://localhost:8080/"
        },
        "id": "JEdznAd7i77m",
        "outputId": "d555d697-efe2-41b3-cdce-09d68bac658c"
      },
      "execution_count": 9,
      "outputs": [
        {
          "output_type": "stream",
          "name": "stdout",
          "text": [
            "Hello,world\n"
          ]
        }
      ]
    }
  ]
}