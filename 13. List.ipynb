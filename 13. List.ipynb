{
  "nbformat": 4,
  "nbformat_minor": 0,
  "metadata": {
    "colab": {
      "provenance": []
    },
    "kernelspec": {
      "name": "python3",
      "display_name": "Python 3"
    },
    "language_info": {
      "name": "python"
    }
  },
  "cells": [
    {
      "cell_type": "markdown",
      "source": [
        "#List"
      ],
      "metadata": {
        "id": "KNZMJwOwnlRO"
      }
    },
    {
      "cell_type": "markdown",
      "source": [
        "#Operations"
      ],
      "metadata": {
        "id": "einm6TSnEVHU"
      }
    },
    {
      "cell_type": "markdown",
      "source": [
        "1. Addition"
      ],
      "metadata": {
        "id": "as7VW-KEhzY1"
      }
    },
    {
      "cell_type": "code",
      "source": [
        "op_1 = [1,2,3,4,5]\n",
        "op_2 = [6,7,8,9,10]"
      ],
      "metadata": {
        "id": "OjUvl9qOELDq"
      },
      "execution_count": null,
      "outputs": []
    },
    {
      "cell_type": "code",
      "source": [
        "print(op_1 + op_2)"
      ],
      "metadata": {
        "colab": {
          "base_uri": "https://localhost:8080/"
        },
        "id": "DDLexbynFFrr",
        "outputId": "06b19086-6b76-4118-9f85-bcf3d211a10e"
      },
      "execution_count": null,
      "outputs": [
        {
          "output_type": "stream",
          "name": "stdout",
          "text": [
            "[1, 2, 3, 4, 5, 6, 7, 8, 9, 10]\n"
          ]
        }
      ]
    },
    {
      "cell_type": "markdown",
      "source": [
        "2. Multiplication"
      ],
      "metadata": {
        "id": "3w5nF-eoh6xN"
      }
    },
    {
      "cell_type": "code",
      "source": [
        "print(op_1 * 2)\n",
        "print(op_2 * 2)"
      ],
      "metadata": {
        "colab": {
          "base_uri": "https://localhost:8080/"
        },
        "id": "kvUpjalxFJB9",
        "outputId": "d1e1259e-3e8f-4e49-846d-6f01182fe7c1"
      },
      "execution_count": null,
      "outputs": [
        {
          "output_type": "stream",
          "name": "stdout",
          "text": [
            "[1, 2, 3, 4, 5, 1, 2, 3, 4, 5]\n",
            "[6, 7, 8, 9, 10, 6, 7, 8, 9, 10]\n"
          ]
        }
      ]
    },
    {
      "cell_type": "markdown",
      "source": [
        "3. Indexing"
      ],
      "metadata": {
        "id": "tG5cEFeHrji2"
      }
    },
    {
      "cell_type": "code",
      "source": [
        "course = [\"computer\", \"physics\", \"chemistry\", \"math\", \"english\",]\n",
        "print(course)"
      ],
      "metadata": {
        "colab": {
          "base_uri": "https://localhost:8080/"
        },
        "id": "R_92rDrS8EaM",
        "outputId": "d4a3f7f6-7070-4a37-e9df-fee24c92b0ce"
      },
      "execution_count": null,
      "outputs": [
        {
          "output_type": "stream",
          "name": "stdout",
          "text": [
            "['computer', 'physics', 'chemistry', 'math', 'english']\n"
          ]
        }
      ]
    },
    {
      "cell_type": "code",
      "source": [
        "course[0]"
      ],
      "metadata": {
        "colab": {
          "base_uri": "https://localhost:8080/",
          "height": 36
        },
        "id": "mTpMrYGS7nNR",
        "outputId": "6198dc6d-4c0c-4274-ebd7-ee604b501427"
      },
      "execution_count": null,
      "outputs": [
        {
          "output_type": "execute_result",
          "data": {
            "text/plain": [
              "'computer'"
            ],
            "application/vnd.google.colaboratory.intrinsic+json": {
              "type": "string"
            }
          },
          "metadata": {},
          "execution_count": 6
        }
      ]
    },
    {
      "cell_type": "code",
      "source": [
        "course[-1]"
      ],
      "metadata": {
        "colab": {
          "base_uri": "https://localhost:8080/",
          "height": 36
        },
        "id": "c9UaIlBQ7uFO",
        "outputId": "71f6662d-bfd6-4371-839d-69c9b4155736"
      },
      "execution_count": null,
      "outputs": [
        {
          "output_type": "execute_result",
          "data": {
            "text/plain": [
              "'english'"
            ],
            "application/vnd.google.colaboratory.intrinsic+json": {
              "type": "string"
            }
          },
          "metadata": {},
          "execution_count": 7
        }
      ]
    },
    {
      "cell_type": "code",
      "source": [
        "course[2] = \"urdu\"\n",
        "print(course)"
      ],
      "metadata": {
        "colab": {
          "base_uri": "https://localhost:8080/"
        },
        "id": "mBihCf1K8EGc",
        "outputId": "f9c4da4f-615d-4d8b-ddbd-2986af8327b3"
      },
      "execution_count": null,
      "outputs": [
        {
          "output_type": "stream",
          "name": "stdout",
          "text": [
            "['computer', 'physics', 'urdu', 'math', 'english']\n"
          ]
        }
      ]
    },
    {
      "cell_type": "markdown",
      "source": [
        "4. Slicing"
      ],
      "metadata": {
        "id": "Gj8_naQsoduJ"
      }
    },
    {
      "cell_type": "code",
      "source": [
        "course[0:4]"
      ],
      "metadata": {
        "colab": {
          "base_uri": "https://localhost:8080/"
        },
        "id": "m60tAnJp7vQ5",
        "outputId": "9e94ddd1-a202-4ccd-b8b6-dcf7047924e7"
      },
      "execution_count": null,
      "outputs": [
        {
          "output_type": "execute_result",
          "data": {
            "text/plain": [
              "['computer', 'physics', 'urdu', 'math']"
            ]
          },
          "metadata": {},
          "execution_count": 9
        }
      ]
    },
    {
      "cell_type": "code",
      "source": [
        "course[0:4:2]"
      ],
      "metadata": {
        "colab": {
          "base_uri": "https://localhost:8080/"
        },
        "id": "Y7uMLDl4l92T",
        "outputId": "4c7476cb-1266-4464-9829-08806b4a3760"
      },
      "execution_count": null,
      "outputs": [
        {
          "output_type": "execute_result",
          "data": {
            "text/plain": [
              "['computer', 'urdu']"
            ]
          },
          "metadata": {},
          "execution_count": 10
        }
      ]
    },
    {
      "cell_type": "code",
      "source": [
        "course[0::2]"
      ],
      "metadata": {
        "colab": {
          "base_uri": "https://localhost:8080/"
        },
        "id": "9O11LGkun3hE",
        "outputId": "3eb8aba6-4f2e-4ffd-c00b-14ba9e1ae32b"
      },
      "execution_count": null,
      "outputs": [
        {
          "output_type": "execute_result",
          "data": {
            "text/plain": [
              "['computer', 'urdu', 'english']"
            ]
          },
          "metadata": {},
          "execution_count": 11
        }
      ]
    },
    {
      "cell_type": "code",
      "source": [
        "course[::2]"
      ],
      "metadata": {
        "colab": {
          "base_uri": "https://localhost:8080/"
        },
        "id": "7BpSEz4vo1B9",
        "outputId": "b32e4bac-4d43-4fb9-d3d5-f693ad4eb979"
      },
      "execution_count": null,
      "outputs": [
        {
          "output_type": "execute_result",
          "data": {
            "text/plain": [
              "['computer', 'urdu', 'english']"
            ]
          },
          "metadata": {},
          "execution_count": 12
        }
      ]
    },
    {
      "cell_type": "code",
      "source": [
        "course[-2::-1]"
      ],
      "metadata": {
        "colab": {
          "base_uri": "https://localhost:8080/"
        },
        "id": "nPM3jkfWpGRG",
        "outputId": "ba3e3c65-7e8a-4473-da2a-6407473adbba"
      },
      "execution_count": null,
      "outputs": [
        {
          "output_type": "execute_result",
          "data": {
            "text/plain": [
              "['math', 'urdu', 'physics', 'computer']"
            ]
          },
          "metadata": {},
          "execution_count": 13
        }
      ]
    },
    {
      "cell_type": "code",
      "source": [
        "course[::-1]"
      ],
      "metadata": {
        "colab": {
          "base_uri": "https://localhost:8080/"
        },
        "id": "7wl6925e7vDM",
        "outputId": "75cb0390-e10d-4629-bb1a-2fe3fd8357c8"
      },
      "execution_count": null,
      "outputs": [
        {
          "output_type": "execute_result",
          "data": {
            "text/plain": [
              "['english', 'math', 'urdu', 'physics', 'computer']"
            ]
          },
          "metadata": {},
          "execution_count": 14
        }
      ]
    },
    {
      "cell_type": "markdown",
      "source": [
        "#Functions"
      ],
      "metadata": {
        "id": "mi8Cy2SDXXh4"
      }
    },
    {
      "cell_type": "markdown",
      "source": [
        "1. Append"
      ],
      "metadata": {
        "id": "8SdMQnJCAf_r"
      }
    },
    {
      "cell_type": "code",
      "source": [
        "students = [\"abdul subhan\",\"asad\",\"ameen\",\"umer\",\"ali\"]\n",
        "print(students)"
      ],
      "metadata": {
        "colab": {
          "base_uri": "https://localhost:8080/"
        },
        "id": "L2Drkv8CV3oP",
        "outputId": "a773b2f4-f1aa-4886-b962-a4ed0882f91c"
      },
      "execution_count": null,
      "outputs": [
        {
          "output_type": "stream",
          "name": "stdout",
          "text": [
            "['abdul subhan', 'asad', 'ameen', 'umer', 'ali']\n"
          ]
        }
      ]
    },
    {
      "cell_type": "code",
      "source": [
        "students.append(\"saim\")\n",
        "print(students)"
      ],
      "metadata": {
        "colab": {
          "base_uri": "https://localhost:8080/"
        },
        "id": "kdvRpSh0CuNj",
        "outputId": "3ca29fcc-47ba-4816-def8-a4e21e118d50"
      },
      "execution_count": null,
      "outputs": [
        {
          "output_type": "stream",
          "name": "stdout",
          "text": [
            "['abdul subhan', 'asad', 'ameen', 'umer', 'ali', 'saim']\n"
          ]
        }
      ]
    },
    {
      "cell_type": "markdown",
      "source": [
        "2. Extend"
      ],
      "metadata": {
        "id": "U6fd1ay5Alw4"
      }
    },
    {
      "cell_type": "code",
      "source": [
        "students.extend([\"adan\", \"sejeel\"])\n",
        "print(students)"
      ],
      "metadata": {
        "colab": {
          "base_uri": "https://localhost:8080/"
        },
        "id": "u9znAJRmC4w3",
        "outputId": "7d4911e0-ad0c-4f76-b5d2-c597b1480e8b"
      },
      "execution_count": null,
      "outputs": [
        {
          "output_type": "stream",
          "name": "stdout",
          "text": [
            "['abdul subhan', 'asad', 'ameen', 'umer', 'ali', 'saim', 'adan', 'sejeel']\n"
          ]
        }
      ]
    },
    {
      "cell_type": "markdown",
      "source": [
        "3. Insert"
      ],
      "metadata": {
        "id": "fTIhYWrTB_N4"
      }
    },
    {
      "cell_type": "code",
      "source": [
        "students.insert(5, \"ashar\")\n",
        "print(students)"
      ],
      "metadata": {
        "colab": {
          "base_uri": "https://localhost:8080/"
        },
        "id": "t6Zz-8ypDSM7",
        "outputId": "a9dbca2b-f94b-4c4c-c3ae-bce01c4a6d2c"
      },
      "execution_count": null,
      "outputs": [
        {
          "output_type": "stream",
          "name": "stdout",
          "text": [
            "['abdul subhan', 'asad', 'ameen', 'umer', 'ali', 'ashar', 'saim', 'adan', 'sejeel']\n"
          ]
        }
      ]
    },
    {
      "cell_type": "code",
      "source": [
        "del students[3]\n",
        "print(students)"
      ],
      "metadata": {
        "colab": {
          "base_uri": "https://localhost:8080/"
        },
        "id": "_BE2Q75k2uIk",
        "outputId": "9be322e1-5f79-4996-db13-175ab4270850"
      },
      "execution_count": null,
      "outputs": [
        {
          "output_type": "stream",
          "name": "stdout",
          "text": [
            "['abdul subhan', 'asad', 'ameen', 'ali', 'ashar', 'saim', 'adan', 'sejeel']\n"
          ]
        }
      ]
    },
    {
      "cell_type": "markdown",
      "source": [
        "4. Remove"
      ],
      "metadata": {
        "id": "1jyBEvELDnby"
      }
    },
    {
      "cell_type": "code",
      "source": [
        "students.remove(\"umer\")\n",
        "print(students)"
      ],
      "metadata": {
        "colab": {
          "base_uri": "https://localhost:8080/"
        },
        "id": "CiI9Y6XKDrAM",
        "outputId": "27a365d8-400c-4c3f-aee7-3ae5b98a5427"
      },
      "execution_count": null,
      "outputs": [
        {
          "output_type": "stream",
          "name": "stdout",
          "text": [
            "['abdul subhan', 'asad', 'ameen', 'ali', 'ashar', 'saim', 'adan', 'sejeel']\n"
          ]
        }
      ]
    },
    {
      "cell_type": "markdown",
      "source": [
        "5. Pop"
      ],
      "metadata": {
        "id": "qm_IOyW4EeAc"
      }
    },
    {
      "cell_type": "code",
      "source": [
        "students.pop()\n",
        "print(students)"
      ],
      "metadata": {
        "colab": {
          "base_uri": "https://localhost:8080/"
        },
        "id": "bUFXeZCzErE-",
        "outputId": "cc8b12e1-0e86-47a8-a8ad-e7351e9b1094"
      },
      "execution_count": null,
      "outputs": [
        {
          "output_type": "stream",
          "name": "stdout",
          "text": [
            "['abdul subhan', 'asad', 'ameen', 'ali', 'ashar', 'saim', 'adan']\n"
          ]
        }
      ]
    },
    {
      "cell_type": "markdown",
      "source": [
        "6. Clear"
      ],
      "metadata": {
        "id": "d951wCaxFKFg"
      }
    },
    {
      "cell_type": "code",
      "source": [
        "students.clear()\n",
        "print(students)"
      ],
      "metadata": {
        "colab": {
          "base_uri": "https://localhost:8080/"
        },
        "id": "kC92_d66FNcJ",
        "outputId": "3a200d12-87c6-4e3b-841d-e53c71549a12"
      },
      "execution_count": null,
      "outputs": [
        {
          "output_type": "stream",
          "name": "stdout",
          "text": [
            "[]\n"
          ]
        }
      ]
    },
    {
      "cell_type": "markdown",
      "source": [
        "7. Index"
      ],
      "metadata": {
        "id": "Bh19WxbUFjta"
      }
    },
    {
      "cell_type": "code",
      "source": [
        "numbers = [0, 8, 2, 6, 4, 9, 1, 7, 3, 5]"
      ],
      "metadata": {
        "id": "30iFD0YHkPXO"
      },
      "execution_count": null,
      "outputs": []
    },
    {
      "cell_type": "code",
      "source": [
        "num = numbers.index(7)\n",
        "print(num)"
      ],
      "metadata": {
        "colab": {
          "base_uri": "https://localhost:8080/"
        },
        "id": "wpzMnGWSFx4b",
        "outputId": "3ef10bdb-cfec-47cc-d31a-ea6062832310"
      },
      "execution_count": null,
      "outputs": [
        {
          "output_type": "stream",
          "name": "stdout",
          "text": [
            "7\n"
          ]
        }
      ]
    },
    {
      "cell_type": "markdown",
      "source": [
        "8. Count"
      ],
      "metadata": {
        "id": "8gTImXTLJi0v"
      }
    },
    {
      "cell_type": "code",
      "source": [
        "num = numbers.count(4)\n",
        "print(num)"
      ],
      "metadata": {
        "colab": {
          "base_uri": "https://localhost:8080/"
        },
        "id": "vlSZCN63Jl6t",
        "outputId": "f09f4918-50ab-4291-8992-521609153d69"
      },
      "execution_count": null,
      "outputs": [
        {
          "output_type": "stream",
          "name": "stdout",
          "text": [
            "1\n"
          ]
        }
      ]
    },
    {
      "cell_type": "markdown",
      "source": [
        "9. Sort"
      ],
      "metadata": {
        "id": "XnFAB8pSP3Hx"
      }
    },
    {
      "cell_type": "code",
      "source": [
        "numbers.sort()\n",
        "print(numbers)\n",
        "\n",
        "numbers.sort(reverse = True)\n",
        "print(numbers)"
      ],
      "metadata": {
        "colab": {
          "base_uri": "https://localhost:8080/"
        },
        "id": "FGg-orkFR6pu",
        "outputId": "287413c8-dd78-49b2-b7b9-1e69841f653f"
      },
      "execution_count": null,
      "outputs": [
        {
          "output_type": "stream",
          "name": "stdout",
          "text": [
            "[0, 1, 2, 3, 4, 5, 6, 7, 8, 9]\n",
            "[9, 8, 7, 6, 5, 4, 3, 2, 1, 0]\n"
          ]
        }
      ]
    },
    {
      "cell_type": "markdown",
      "source": [
        "10. Reverse"
      ],
      "metadata": {
        "id": "0psX6Oj9Qwn4"
      }
    },
    {
      "cell_type": "code",
      "source": [
        "numbers.reverse()\n",
        "print(numbers)"
      ],
      "metadata": {
        "colab": {
          "base_uri": "https://localhost:8080/"
        },
        "id": "FS8nYDolR-kb",
        "outputId": "dadf6d27-4689-45db-e092-a2368fbb5abc"
      },
      "execution_count": null,
      "outputs": [
        {
          "output_type": "stream",
          "name": "stdout",
          "text": [
            "[0, 1, 2, 3, 4, 5, 6, 7, 8, 9]\n"
          ]
        }
      ]
    },
    {
      "cell_type": "markdown",
      "source": [
        "11. Copy"
      ],
      "metadata": {
        "id": "lOo85UkqWTW6"
      }
    },
    {
      "cell_type": "code",
      "source": [
        "numbers.copy()\n",
        "print(numbers)"
      ],
      "metadata": {
        "colab": {
          "base_uri": "https://localhost:8080/"
        },
        "id": "rPkeWvaaWcIB",
        "outputId": "68e9c56d-528f-4e85-f176-8cc53d5c2092"
      },
      "execution_count": null,
      "outputs": [
        {
          "output_type": "stream",
          "name": "stdout",
          "text": [
            "[0, 1, 2, 3, 4, 5, 6, 7, 8, 9]\n"
          ]
        }
      ]
    },
    {
      "cell_type": "markdown",
      "source": [
        " 12. Len"
      ],
      "metadata": {
        "id": "VjLPLnkoW2Lz"
      }
    },
    {
      "cell_type": "code",
      "source": [
        "num = len(numbers)\n",
        "print(num)"
      ],
      "metadata": {
        "colab": {
          "base_uri": "https://localhost:8080/"
        },
        "id": "1R_3PWZkW7eA",
        "outputId": "0484ecc4-d02a-4577-af2b-faadf3595c88"
      },
      "execution_count": null,
      "outputs": [
        {
          "output_type": "stream",
          "name": "stdout",
          "text": [
            "10\n"
          ]
        }
      ]
    },
    {
      "cell_type": "markdown",
      "source": [
        "13. Max"
      ],
      "metadata": {
        "id": "M15YNz1EeG4o"
      }
    },
    {
      "cell_type": "code",
      "source": [
        "num = max(numbers)\n",
        "print(num)"
      ],
      "metadata": {
        "colab": {
          "base_uri": "https://localhost:8080/"
        },
        "id": "IV3ghLBveOYz",
        "outputId": "46fcefa3-7f38-405b-c8a5-effaf5b984ad"
      },
      "execution_count": null,
      "outputs": [
        {
          "output_type": "stream",
          "name": "stdout",
          "text": [
            "9\n"
          ]
        }
      ]
    },
    {
      "cell_type": "markdown",
      "source": [
        "14. Min"
      ],
      "metadata": {
        "id": "d3IeB8kOeua6"
      }
    },
    {
      "cell_type": "code",
      "source": [
        "num = min(numbers)\n",
        "print(num)"
      ],
      "metadata": {
        "colab": {
          "base_uri": "https://localhost:8080/"
        },
        "id": "NArkWuTWezDK",
        "outputId": "57121a7b-a7b8-44c8-cd49-462d8416e3d3"
      },
      "execution_count": null,
      "outputs": [
        {
          "output_type": "stream",
          "name": "stdout",
          "text": [
            "0\n"
          ]
        }
      ]
    },
    {
      "cell_type": "markdown",
      "source": [
        "15. Sum"
      ],
      "metadata": {
        "id": "wAJgRstUe__n"
      }
    },
    {
      "cell_type": "code",
      "source": [
        "num = sum(numbers)\n",
        "print(num)"
      ],
      "metadata": {
        "colab": {
          "base_uri": "https://localhost:8080/"
        },
        "id": "tKarp2XnfFz2",
        "outputId": "86d9bc9a-9b3a-4e44-95bb-31342bb268c6"
      },
      "execution_count": null,
      "outputs": [
        {
          "output_type": "stream",
          "name": "stdout",
          "text": [
            "45\n"
          ]
        }
      ]
    },
    {
      "cell_type": "markdown",
      "source": [
        "16. Sorted"
      ],
      "metadata": {
        "id": "0tAIZfqcg8uZ"
      }
    },
    {
      "cell_type": "code",
      "source": [
        "num = sorted(numbers)\n",
        "print(num)\n",
        "\n",
        "num = sorted(numbers, reverse = True)\n",
        "print(num)"
      ],
      "metadata": {
        "colab": {
          "base_uri": "https://localhost:8080/"
        },
        "id": "DQ7nNGpvhYTW",
        "outputId": "65c6db11-0da1-437b-d7bb-49d35b02333c"
      },
      "execution_count": null,
      "outputs": [
        {
          "output_type": "stream",
          "name": "stdout",
          "text": [
            "[0, 1, 2, 3, 4, 5, 6, 7, 8, 9]\n",
            "[9, 8, 7, 6, 5, 4, 3, 2, 1, 0]\n"
          ]
        }
      ]
    },
    {
      "cell_type": "markdown",
      "source": [
        "17. Any"
      ],
      "metadata": {
        "id": "54LdVCjVjWU1"
      }
    },
    {
      "cell_type": "code",
      "source": [
        "num = any(numbers)\n",
        "print(num)"
      ],
      "metadata": {
        "colab": {
          "base_uri": "https://localhost:8080/"
        },
        "id": "HAjBoUCajgO1",
        "outputId": "1a794c9f-0a1b-424e-b737-9df8d7032c69"
      },
      "execution_count": null,
      "outputs": [
        {
          "output_type": "stream",
          "name": "stdout",
          "text": [
            "True\n"
          ]
        }
      ]
    },
    {
      "cell_type": "markdown",
      "source": [
        "18. All"
      ],
      "metadata": {
        "id": "jYLPCG1hjxMY"
      }
    },
    {
      "cell_type": "code",
      "source": [
        "num = all(numbers)\n",
        "print(num)"
      ],
      "metadata": {
        "colab": {
          "base_uri": "https://localhost:8080/"
        },
        "id": "k8xBX59-j0dY",
        "outputId": "7bbff1fa-9d87-401b-fd91-e08314756221"
      },
      "execution_count": null,
      "outputs": [
        {
          "output_type": "stream",
          "name": "stdout",
          "text": [
            "False\n"
          ]
        }
      ]
    }
  ]
}