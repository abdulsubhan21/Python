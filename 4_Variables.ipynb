{
  "nbformat": 4,
  "nbformat_minor": 0,
  "metadata": {
    "colab": {
      "provenance": [],
      "collapsed_sections": [
        "oTczIf0qe7r1",
        "25oq_N9Me_NU",
        "2SaU0N6afItZ"
      ]
    },
    "kernelspec": {
      "name": "python3",
      "display_name": "Python 3"
    },
    "language_info": {
      "name": "python"
    }
  },
  "cells": [
    {
      "cell_type": "markdown",
      "source": [
        "#Variables"
      ],
      "metadata": {
        "id": "zROl9Ct8e2O7"
      }
    },
    {
      "cell_type": "markdown",
      "source": [
        "# 1. Dynamic Typing"
      ],
      "metadata": {
        "id": "oTczIf0qe7r1"
      }
    },
    {
      "cell_type": "code",
      "source": [
        "name = 'Abdul Subhan'\n",
        "print(name)"
      ],
      "metadata": {
        "colab": {
          "base_uri": "https://localhost:8080/"
        },
        "id": "DdxCfPwmpc1Q",
        "outputId": "f882161c-d87e-4da9-bd11-8863c30aaf6d"
      },
      "execution_count": 1,
      "outputs": [
        {
          "output_type": "stream",
          "name": "stdout",
          "text": [
            "Abdul Subhan\n"
          ]
        }
      ]
    },
    {
      "cell_type": "markdown",
      "source": [
        "#2. Dynamic Binding"
      ],
      "metadata": {
        "id": "25oq_N9Me_NU"
      }
    },
    {
      "cell_type": "code",
      "source": [
        "name = 'Hello world'\n",
        "print(name)"
      ],
      "metadata": {
        "colab": {
          "base_uri": "https://localhost:8080/"
        },
        "id": "zXB2tXn9pjEk",
        "outputId": "c720c371-de1e-4e53-df0f-e10062cf0b22"
      },
      "execution_count": 2,
      "outputs": [
        {
          "output_type": "stream",
          "name": "stdout",
          "text": [
            "Hello world\n"
          ]
        }
      ]
    },
    {
      "cell_type": "code",
      "source": [
        "name = 4\n",
        "print(name)"
      ],
      "metadata": {
        "colab": {
          "base_uri": "https://localhost:8080/"
        },
        "id": "oRbRuWl3plPB",
        "outputId": "f83e1f64-6010-4ebb-b7e7-7a172c270e2a"
      },
      "execution_count": 3,
      "outputs": [
        {
          "output_type": "stream",
          "name": "stdout",
          "text": [
            "4\n"
          ]
        }
      ]
    },
    {
      "cell_type": "code",
      "source": [
        "name = True\n",
        "print(name)"
      ],
      "metadata": {
        "colab": {
          "base_uri": "https://localhost:8080/"
        },
        "id": "M-XN3LbZpoqg",
        "outputId": "18d9dec1-86bf-4944-b8c0-f9a709d80710"
      },
      "execution_count": 4,
      "outputs": [
        {
          "output_type": "stream",
          "name": "stdout",
          "text": [
            "True\n"
          ]
        }
      ]
    },
    {
      "cell_type": "markdown",
      "source": [
        "#special syntax"
      ],
      "metadata": {
        "id": "2SaU0N6afItZ"
      }
    },
    {
      "cell_type": "code",
      "source": [
        "a = 5; b = 6; c = 7\n",
        "print(a)\n",
        "print(b)\n",
        "print(c)"
      ],
      "metadata": {
        "colab": {
          "base_uri": "https://localhost:8080/"
        },
        "id": "1mHGKenDp6Xf",
        "outputId": "89858b64-d25f-4b02-d3a0-4129f713bb33"
      },
      "execution_count": 5,
      "outputs": [
        {
          "output_type": "stream",
          "name": "stdout",
          "text": [
            "5\n",
            "6\n",
            "7\n"
          ]
        }
      ]
    },
    {
      "cell_type": "code",
      "source": [
        "a, b, c = 4, 5, 6\n",
        "print(a)\n",
        "print(b)\n",
        "print(c)"
      ],
      "metadata": {
        "colab": {
          "base_uri": "https://localhost:8080/"
        },
        "id": "99BsYlonp9YX",
        "outputId": "b254efcf-c2f0-40ab-8912-f61f92a1f8ea"
      },
      "execution_count": 6,
      "outputs": [
        {
          "output_type": "stream",
          "name": "stdout",
          "text": [
            "4\n",
            "5\n",
            "6\n"
          ]
        }
      ]
    },
    {
      "cell_type": "code",
      "source": [
        "a = b = c = 6\n",
        "print(a)\n",
        "print(b)\n",
        "print(c)"
      ],
      "metadata": {
        "colab": {
          "base_uri": "https://localhost:8080/"
        },
        "id": "jXIDEGq6qBBA",
        "outputId": "b2eea1b6-c895-49c7-809f-c0c7d61b8706"
      },
      "execution_count": 7,
      "outputs": [
        {
          "output_type": "stream",
          "name": "stdout",
          "text": [
            "6\n",
            "6\n",
            "6\n"
          ]
        }
      ]
    },
    {
      "cell_type": "code",
      "source": [],
      "metadata": {
        "id": "6cfNfEWKckWv"
      },
      "execution_count": null,
      "outputs": []
    }
  ]
}