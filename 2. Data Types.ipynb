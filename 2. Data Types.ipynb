{
  "nbformat": 4,
  "nbformat_minor": 0,
  "metadata": {
    "colab": {
      "provenance": [],
      "collapsed_sections": [
        "W2GNyGARdBiQ",
        "xURA8Rz0dImf",
        "THSiisbvdUn3",
        "iZjXeaxKdcr-",
        "6uXBN0Wtdjl0",
        "sySB44yddy8f",
        "7TfW_Wczd5Bi",
        "5RRONBlBeI-L",
        "9ye8cWumeO33"
      ]
    },
    "kernelspec": {
      "name": "python3",
      "display_name": "Python 3"
    },
    "language_info": {
      "name": "python"
    }
  },
  "cells": [
    {
      "cell_type": "markdown",
      "source": [
        "# Data Types"
      ],
      "metadata": {
        "id": "eAD67ZxwczHw"
      }
    },
    {
      "cell_type": "markdown",
      "source": [
        "#1. Basic Types"
      ],
      "metadata": {
        "id": "O8ExPJd2c3pY"
      }
    },
    {
      "cell_type": "markdown",
      "source": [
        "#i. Integer"
      ],
      "metadata": {
        "id": "W2GNyGARdBiQ"
      }
    },
    {
      "cell_type": "code",
      "source": [
        "print(1e308)\n",
        "print(1e309)"
      ],
      "metadata": {
        "colab": {
          "base_uri": "https://localhost:8080/"
        },
        "id": "BupgFegZlc8R",
        "outputId": "62c82851-cc0f-496b-b369-62bc8e2061ea"
      },
      "execution_count": null,
      "outputs": [
        {
          "output_type": "stream",
          "name": "stdout",
          "text": [
            "1e+308\n",
            "inf\n"
          ]
        }
      ]
    },
    {
      "cell_type": "markdown",
      "source": [
        "#ii. Float"
      ],
      "metadata": {
        "id": "xURA8Rz0dImf"
      }
    },
    {
      "cell_type": "code",
      "source": [
        "print(1.7e308)\n",
        "print(1.7e309)"
      ],
      "metadata": {
        "colab": {
          "base_uri": "https://localhost:8080/"
        },
        "id": "gs1UeiJplpDj",
        "outputId": "6cd61a94-d564-49aa-db88-ea7d5c79d610"
      },
      "execution_count": null,
      "outputs": [
        {
          "output_type": "stream",
          "name": "stdout",
          "text": [
            "1.7e+308\n",
            "inf\n"
          ]
        }
      ]
    },
    {
      "cell_type": "markdown",
      "source": [
        "#iii. Boolean"
      ],
      "metadata": {
        "id": "THSiisbvdUn3"
      }
    },
    {
      "cell_type": "code",
      "source": [
        "print(True)\n",
        "print(False)"
      ],
      "metadata": {
        "colab": {
          "base_uri": "https://localhost:8080/"
        },
        "id": "AViU5iDilwZ-",
        "outputId": "ddfb80f3-a7e6-486c-e180-f9e830963bec"
      },
      "execution_count": null,
      "outputs": [
        {
          "output_type": "stream",
          "name": "stdout",
          "text": [
            "True\n",
            "False\n"
          ]
        }
      ]
    },
    {
      "cell_type": "markdown",
      "source": [
        "#iv. Complex"
      ],
      "metadata": {
        "id": "iZjXeaxKdcr-"
      }
    },
    {
      "cell_type": "code",
      "source": [
        "print(10+7j)"
      ],
      "metadata": {
        "colab": {
          "base_uri": "https://localhost:8080/"
        },
        "id": "sfzPV_RZl2n9",
        "outputId": "225a9784-08dd-41df-b616-00e46fe67c5f"
      },
      "execution_count": null,
      "outputs": [
        {
          "output_type": "stream",
          "name": "stdout",
          "text": [
            "(10+7j)\n"
          ]
        }
      ]
    },
    {
      "cell_type": "markdown",
      "source": [
        "#v. String"
      ],
      "metadata": {
        "id": "6uXBN0Wtdjl0"
      }
    },
    {
      "cell_type": "code",
      "source": [
        "print('Karachi')\n",
        "print(\"Karachi\")\n",
        "print(\"\"\"Karachi\"\"\")"
      ],
      "metadata": {
        "colab": {
          "base_uri": "https://localhost:8080/"
        },
        "id": "UzKUEo7rl8TJ",
        "outputId": "4b8fd6bc-60ff-4705-f8e8-1b935853cfa8"
      },
      "execution_count": null,
      "outputs": [
        {
          "output_type": "stream",
          "name": "stdout",
          "text": [
            "Karachi\n",
            "Karachi\n",
            "Karachi\n"
          ]
        }
      ]
    },
    {
      "cell_type": "markdown",
      "source": [
        "#2. Container Types"
      ],
      "metadata": {
        "id": "uIdi06YNdur0"
      }
    },
    {
      "cell_type": "markdown",
      "source": [
        "#i. List"
      ],
      "metadata": {
        "id": "sySB44yddy8f"
      }
    },
    {
      "cell_type": "code",
      "source": [
        "print([1,2,3,4,5])"
      ],
      "metadata": {
        "colab": {
          "base_uri": "https://localhost:8080/"
        },
        "id": "FZUiquKUmH5n",
        "outputId": "c40df400-32df-46e5-a5c7-d286ed6415a8"
      },
      "execution_count": null,
      "outputs": [
        {
          "output_type": "stream",
          "name": "stdout",
          "text": [
            "[1, 2, 3, 4, 5]\n"
          ]
        }
      ]
    },
    {
      "cell_type": "markdown",
      "source": [
        "#ii. Tuple"
      ],
      "metadata": {
        "id": "7TfW_Wczd5Bi"
      }
    },
    {
      "cell_type": "code",
      "source": [
        "print((1,2,3,4,5))"
      ],
      "metadata": {
        "colab": {
          "base_uri": "https://localhost:8080/"
        },
        "id": "ac9s_esNmQP0",
        "outputId": "36fc27e1-34c1-442d-d47e-a44988fd8e38"
      },
      "execution_count": null,
      "outputs": [
        {
          "output_type": "stream",
          "name": "stdout",
          "text": [
            "(1, 2, 3, 4, 5)\n"
          ]
        }
      ]
    },
    {
      "cell_type": "markdown",
      "source": [
        "#iii. Sets"
      ],
      "metadata": {
        "id": "5RRONBlBeI-L"
      }
    },
    {
      "cell_type": "code",
      "source": [
        "print({1,2,3,4,5})"
      ],
      "metadata": {
        "colab": {
          "base_uri": "https://localhost:8080/"
        },
        "id": "pW7MFl_CmVXQ",
        "outputId": "e04e9a14-d343-45e6-e182-8e573c9ac6f2"
      },
      "execution_count": null,
      "outputs": [
        {
          "output_type": "stream",
          "name": "stdout",
          "text": [
            "{1, 2, 3, 4, 5}\n"
          ]
        }
      ]
    },
    {
      "cell_type": "markdown",
      "source": [
        "#iv. Dictionary"
      ],
      "metadata": {
        "id": "9ye8cWumeO33"
      }
    },
    {
      "cell_type": "code",
      "source": [
        "print({\"Name\":\"Abdul Subhan\",\"Age\":\"17\",\"gender\":\"Male\"})"
      ],
      "metadata": {
        "colab": {
          "base_uri": "https://localhost:8080/"
        },
        "id": "rPSo_lUXmcRK",
        "outputId": "a3e4f19b-c7da-4eb0-b35e-e30fc37baec6"
      },
      "execution_count": null,
      "outputs": [
        {
          "output_type": "stream",
          "name": "stdout",
          "text": [
            "{'Name': 'Abdul Subhan', 'Age': '17', 'gender': 'Male'}\n"
          ]
        }
      ]
    }
  ]
}