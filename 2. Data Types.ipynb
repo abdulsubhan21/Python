{
  "nbformat": 4,
  "nbformat_minor": 0,
  "metadata": {
    "colab": {
      "provenance": []
    },
    "kernelspec": {
      "name": "python3",
      "display_name": "Python 3"
    },
    "language_info": {
      "name": "python"
    }
  },
  "cells": [
    {
      "cell_type": "markdown",
      "source": [
        "# Data Types"
      ],
      "metadata": {
        "id": "eAD67ZxwczHw"
      }
    },
    {
      "cell_type": "markdown",
      "source": [
        "#1. Basic Types"
      ],
      "metadata": {
        "id": "O8ExPJd2c3pY"
      }
    },
    {
      "cell_type": "markdown",
      "source": [
        "#i. Integer"
      ],
      "metadata": {
        "id": "W2GNyGARdBiQ"
      }
    },
    {
      "cell_type": "code",
      "source": [
        "print(1e308)\n",
        "print(1e309)"
      ],
      "metadata": {
        "colab": {
          "base_uri": "https://localhost:8080/"
        },
        "id": "BupgFegZlc8R",
        "outputId": "b5816b8a-bd69-48bd-e6e3-7d3369d5ab77"
      },
      "execution_count": 1,
      "outputs": [
        {
          "output_type": "stream",
          "name": "stdout",
          "text": [
            "1e+308\n",
            "inf\n"
          ]
        }
      ]
    },
    {
      "cell_type": "markdown",
      "source": [
        "#ii. Float"
      ],
      "metadata": {
        "id": "xURA8Rz0dImf"
      }
    },
    {
      "cell_type": "code",
      "source": [
        "print(1.7e308)\n",
        "print(1.7e309)"
      ],
      "metadata": {
        "colab": {
          "base_uri": "https://localhost:8080/"
        },
        "id": "gs1UeiJplpDj",
        "outputId": "8e437670-83a4-4c70-886a-3e5e36b4e0e7"
      },
      "execution_count": 2,
      "outputs": [
        {
          "output_type": "stream",
          "name": "stdout",
          "text": [
            "1.7e+308\n",
            "inf\n"
          ]
        }
      ]
    },
    {
      "cell_type": "markdown",
      "source": [
        "#iii. Boolean"
      ],
      "metadata": {
        "id": "THSiisbvdUn3"
      }
    },
    {
      "cell_type": "code",
      "source": [
        "print(True)\n",
        "print(False)"
      ],
      "metadata": {
        "colab": {
          "base_uri": "https://localhost:8080/"
        },
        "id": "AViU5iDilwZ-",
        "outputId": "3a3d115f-61c2-4460-c48e-7b8930e20404"
      },
      "execution_count": 3,
      "outputs": [
        {
          "output_type": "stream",
          "name": "stdout",
          "text": [
            "True\n",
            "False\n"
          ]
        }
      ]
    },
    {
      "cell_type": "markdown",
      "source": [
        "#iv. Complex"
      ],
      "metadata": {
        "id": "iZjXeaxKdcr-"
      }
    },
    {
      "cell_type": "code",
      "source": [
        "print(10+7j)"
      ],
      "metadata": {
        "colab": {
          "base_uri": "https://localhost:8080/"
        },
        "id": "sfzPV_RZl2n9",
        "outputId": "0d59b2a1-1f4c-4d12-ff16-3b863abe0b2e"
      },
      "execution_count": 4,
      "outputs": [
        {
          "output_type": "stream",
          "name": "stdout",
          "text": [
            "(10+7j)\n"
          ]
        }
      ]
    },
    {
      "cell_type": "markdown",
      "source": [
        "#v. String"
      ],
      "metadata": {
        "id": "6uXBN0Wtdjl0"
      }
    },
    {
      "cell_type": "code",
      "source": [
        "print('Karachi')\n",
        "print(\"Karachi\")\n",
        "print(\"\"\"Karachi\"\"\")"
      ],
      "metadata": {
        "colab": {
          "base_uri": "https://localhost:8080/"
        },
        "id": "UzKUEo7rl8TJ",
        "outputId": "86df6ed9-03d2-45bc-90c2-a2b97b45cf1f"
      },
      "execution_count": 5,
      "outputs": [
        {
          "output_type": "stream",
          "name": "stdout",
          "text": [
            "Karachi\n",
            "Karachi\n",
            "Karachi\n"
          ]
        }
      ]
    },
    {
      "cell_type": "markdown",
      "source": [
        "#2. Container Types"
      ],
      "metadata": {
        "id": "uIdi06YNdur0"
      }
    },
    {
      "cell_type": "markdown",
      "source": [
        "#i. List"
      ],
      "metadata": {
        "id": "sySB44yddy8f"
      }
    },
    {
      "cell_type": "code",
      "source": [
        "print([1,2,3,4,5])"
      ],
      "metadata": {
        "colab": {
          "base_uri": "https://localhost:8080/"
        },
        "id": "FZUiquKUmH5n",
        "outputId": "9d57bb4c-759a-4fb9-85d5-6a8e1528201f"
      },
      "execution_count": 6,
      "outputs": [
        {
          "output_type": "stream",
          "name": "stdout",
          "text": [
            "[1, 2, 3, 4, 5]\n"
          ]
        }
      ]
    },
    {
      "cell_type": "markdown",
      "source": [
        "#ii. Tuple"
      ],
      "metadata": {
        "id": "7TfW_Wczd5Bi"
      }
    },
    {
      "cell_type": "code",
      "source": [
        "print((1,2,3,4,5))"
      ],
      "metadata": {
        "colab": {
          "base_uri": "https://localhost:8080/"
        },
        "id": "ac9s_esNmQP0",
        "outputId": "7958bea3-09fe-4019-de1e-a4dcad4d5a9e"
      },
      "execution_count": 7,
      "outputs": [
        {
          "output_type": "stream",
          "name": "stdout",
          "text": [
            "(1, 2, 3, 4, 5)\n"
          ]
        }
      ]
    },
    {
      "cell_type": "markdown",
      "source": [
        "#iii. Sets"
      ],
      "metadata": {
        "id": "5RRONBlBeI-L"
      }
    },
    {
      "cell_type": "code",
      "source": [
        "print({1,2,3,4,5})"
      ],
      "metadata": {
        "colab": {
          "base_uri": "https://localhost:8080/"
        },
        "id": "pW7MFl_CmVXQ",
        "outputId": "ccafc522-a6c5-4ddc-a9fb-26b8e7de8a21"
      },
      "execution_count": 8,
      "outputs": [
        {
          "output_type": "stream",
          "name": "stdout",
          "text": [
            "{1, 2, 3, 4, 5}\n"
          ]
        }
      ]
    },
    {
      "cell_type": "markdown",
      "source": [
        "#iv. Dictionary"
      ],
      "metadata": {
        "id": "9ye8cWumeO33"
      }
    },
    {
      "cell_type": "code",
      "source": [
        "print({\"Name\":\"Abdul Subhan\",\"Age\":\"17\",\"gender\":\"Male\"})"
      ],
      "metadata": {
        "colab": {
          "base_uri": "https://localhost:8080/"
        },
        "id": "rPSo_lUXmcRK",
        "outputId": "523caf72-bf2a-4d53-b2b7-cbc897d29266"
      },
      "execution_count": 9,
      "outputs": [
        {
          "output_type": "stream",
          "name": "stdout",
          "text": [
            "{'Name': 'Abdul Subhan', 'Age': '17', 'gender': 'Male'}\n"
          ]
        }
      ]
    }
  ]
}