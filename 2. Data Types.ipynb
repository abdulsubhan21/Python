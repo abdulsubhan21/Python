{
  "nbformat": 4,
  "nbformat_minor": 0,
  "metadata": {
    "colab": {
      "provenance": []
    },
    "kernelspec": {
      "name": "python3",
      "display_name": "Python 3"
    },
    "language_info": {
      "name": "python"
    }
  },
  "cells": [
    {
      "cell_type": "markdown",
      "source": [
        "# Data Types"
      ],
      "metadata": {
        "id": "eAD67ZxwczHw"
      }
    },
    {
      "cell_type": "markdown",
      "source": [
        "#1. Basic Types"
      ],
      "metadata": {
        "id": "O8ExPJd2c3pY"
      }
    },
    {
      "cell_type": "markdown",
      "source": [
        "i. Integer"
      ],
      "metadata": {
        "id": "W2GNyGARdBiQ"
      }
    },
    {
      "cell_type": "code",
      "source": [
        "print(1e308)\n",
        "print(1e309)"
      ],
      "metadata": {
        "colab": {
          "base_uri": "https://localhost:8080/"
        },
        "id": "BupgFegZlc8R",
        "outputId": "f838348f-b8ef-4c3a-b47b-98507e3d33f7"
      },
      "execution_count": 9,
      "outputs": [
        {
          "output_type": "stream",
          "name": "stdout",
          "text": [
            "1e+308\n",
            "inf\n"
          ]
        }
      ]
    },
    {
      "cell_type": "markdown",
      "source": [
        "ii. Float"
      ],
      "metadata": {
        "id": "xURA8Rz0dImf"
      }
    },
    {
      "cell_type": "code",
      "source": [
        "print(1.7e308)\n",
        "print(1.7e309)"
      ],
      "metadata": {
        "colab": {
          "base_uri": "https://localhost:8080/"
        },
        "id": "gs1UeiJplpDj",
        "outputId": "f985c839-adee-42f3-f255-ae9a03cf6ac5"
      },
      "execution_count": 10,
      "outputs": [
        {
          "output_type": "stream",
          "name": "stdout",
          "text": [
            "1.7e+308\n",
            "inf\n"
          ]
        }
      ]
    },
    {
      "cell_type": "markdown",
      "source": [
        "iii. Boolean"
      ],
      "metadata": {
        "id": "THSiisbvdUn3"
      }
    },
    {
      "cell_type": "code",
      "source": [
        "print(True)\n",
        "print(False)"
      ],
      "metadata": {
        "colab": {
          "base_uri": "https://localhost:8080/"
        },
        "id": "AViU5iDilwZ-",
        "outputId": "322ebff7-c165-4fd3-d8a5-45c7b5fc70cf"
      },
      "execution_count": 11,
      "outputs": [
        {
          "output_type": "stream",
          "name": "stdout",
          "text": [
            "True\n",
            "False\n"
          ]
        }
      ]
    },
    {
      "cell_type": "markdown",
      "source": [
        "iv. Complex"
      ],
      "metadata": {
        "id": "iZjXeaxKdcr-"
      }
    },
    {
      "cell_type": "code",
      "source": [
        "print(10+7j)"
      ],
      "metadata": {
        "colab": {
          "base_uri": "https://localhost:8080/"
        },
        "id": "sfzPV_RZl2n9",
        "outputId": "3ead1d01-390d-4fc4-e8f5-1fe7b9415571"
      },
      "execution_count": 12,
      "outputs": [
        {
          "output_type": "stream",
          "name": "stdout",
          "text": [
            "(10+7j)\n"
          ]
        }
      ]
    },
    {
      "cell_type": "markdown",
      "source": [
        "v. String"
      ],
      "metadata": {
        "id": "6uXBN0Wtdjl0"
      }
    },
    {
      "cell_type": "code",
      "source": [
        "print('Karachi')\n",
        "print(\"Karachi\")\n",
        "print(\"\"\"Karachi\"\"\")"
      ],
      "metadata": {
        "colab": {
          "base_uri": "https://localhost:8080/"
        },
        "id": "UzKUEo7rl8TJ",
        "outputId": "0666f1c6-dada-4c62-a258-56ca2d3083c8"
      },
      "execution_count": 13,
      "outputs": [
        {
          "output_type": "stream",
          "name": "stdout",
          "text": [
            "Karachi\n",
            "Karachi\n",
            "Karachi\n"
          ]
        }
      ]
    },
    {
      "cell_type": "markdown",
      "source": [
        "#2. Container Types"
      ],
      "metadata": {
        "id": "uIdi06YNdur0"
      }
    },
    {
      "cell_type": "markdown",
      "source": [
        "i. List"
      ],
      "metadata": {
        "id": "sySB44yddy8f"
      }
    },
    {
      "cell_type": "code",
      "source": [
        "print([1,2,3,4,5])"
      ],
      "metadata": {
        "colab": {
          "base_uri": "https://localhost:8080/"
        },
        "id": "FZUiquKUmH5n",
        "outputId": "b8256153-cbe6-4684-f6b3-7c32864dea70"
      },
      "execution_count": 14,
      "outputs": [
        {
          "output_type": "stream",
          "name": "stdout",
          "text": [
            "[1, 2, 3, 4, 5]\n"
          ]
        }
      ]
    },
    {
      "cell_type": "markdown",
      "source": [
        "ii. Tuple"
      ],
      "metadata": {
        "id": "7TfW_Wczd5Bi"
      }
    },
    {
      "cell_type": "code",
      "source": [
        "print((1,2,3,4,5))"
      ],
      "metadata": {
        "colab": {
          "base_uri": "https://localhost:8080/"
        },
        "id": "ac9s_esNmQP0",
        "outputId": "e1cc7382-7151-483c-dab2-74782a1c9ab8"
      },
      "execution_count": 15,
      "outputs": [
        {
          "output_type": "stream",
          "name": "stdout",
          "text": [
            "(1, 2, 3, 4, 5)\n"
          ]
        }
      ]
    },
    {
      "cell_type": "markdown",
      "source": [
        "iii. Sets"
      ],
      "metadata": {
        "id": "5RRONBlBeI-L"
      }
    },
    {
      "cell_type": "code",
      "source": [
        "print({1,2,3,4,5})"
      ],
      "metadata": {
        "colab": {
          "base_uri": "https://localhost:8080/"
        },
        "id": "pW7MFl_CmVXQ",
        "outputId": "314cdcc0-ab98-4fce-802a-ff2969ee25f3"
      },
      "execution_count": 16,
      "outputs": [
        {
          "output_type": "stream",
          "name": "stdout",
          "text": [
            "{1, 2, 3, 4, 5}\n"
          ]
        }
      ]
    },
    {
      "cell_type": "markdown",
      "source": [
        "iv. Dictionary"
      ],
      "metadata": {
        "id": "9ye8cWumeO33"
      }
    },
    {
      "cell_type": "code",
      "source": [
        "print({\"Name\":\"Abdul Subhan\",\"Age\":\"17\",\"gender\":\"Male\"})"
      ],
      "metadata": {
        "colab": {
          "base_uri": "https://localhost:8080/"
        },
        "id": "rPSo_lUXmcRK",
        "outputId": "24920efe-7ce6-4555-9823-74f7c6f60e75"
      },
      "execution_count": 17,
      "outputs": [
        {
          "output_type": "stream",
          "name": "stdout",
          "text": [
            "{'Name': 'Abdul Subhan', 'Age': '17', 'gender': 'Male'}\n"
          ]
        }
      ]
    }
  ]
}