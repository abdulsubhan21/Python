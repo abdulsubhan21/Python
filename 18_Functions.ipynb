{
  "nbformat": 4,
  "nbformat_minor": 0,
  "metadata": {
    "colab": {
      "provenance": []
    },
    "kernelspec": {
      "name": "python3",
      "display_name": "Python 3"
    },
    "language_info": {
      "name": "python"
    }
  },
  "cells": [
    {
      "cell_type": "markdown",
      "source": [
        "# Functions"
      ],
      "metadata": {
        "id": "3AsuxeR6GX6s"
      }
    },
    {
      "cell_type": "markdown",
      "source": [
        "#1. Function With Calling Function"
      ],
      "metadata": {
        "id": "PaxSfNGDGca9"
      }
    },
    {
      "cell_type": "code",
      "execution_count": 1,
      "metadata": {
        "colab": {
          "base_uri": "https://localhost:8080/",
          "height": 0
        },
        "id": "8HzNy4xWwT0k",
        "outputId": "e29bffeb-4e06-4357-865c-3f351e454223"
      },
      "outputs": [
        {
          "output_type": "stream",
          "name": "stdout",
          "text": [
            "Abdul Subhan\n"
          ]
        }
      ],
      "source": [
        "def data():\n",
        "  print(\"Abdul Subhan\")\n",
        "\n",
        "data()"
      ]
    },
    {
      "cell_type": "markdown",
      "source": [
        "#2. Function With Arguments"
      ],
      "metadata": {
        "id": "U7XpHHzcH2CY"
      }
    },
    {
      "cell_type": "code",
      "source": [
        "def sum(a, b):\n",
        "  print(a + b)\n",
        "\n",
        "sum(20, 10)"
      ],
      "metadata": {
        "colab": {
          "base_uri": "https://localhost:8080/",
          "height": 0
        },
        "id": "1SMcqoRdHP27",
        "outputId": "6f93971a-264f-4286-ee93-199fc848b6da"
      },
      "execution_count": 2,
      "outputs": [
        {
          "output_type": "stream",
          "name": "stdout",
          "text": [
            "30\n"
          ]
        }
      ]
    },
    {
      "cell_type": "markdown",
      "source": [
        "#3. Function With Default Parameter Value"
      ],
      "metadata": {
        "id": "SDe77zqqKb6a"
      }
    },
    {
      "cell_type": "code",
      "source": [
        "def sum(a, b = 1):\n",
        "  print(a + b)\n",
        "\n",
        "sum(20)\n",
        "sum(20, 10)"
      ],
      "metadata": {
        "colab": {
          "base_uri": "https://localhost:8080/",
          "height": 0
        },
        "id": "RAelrmXAIG8Z",
        "outputId": "5d2c36f6-6b2e-4d97-80c5-3d45db35e839"
      },
      "execution_count": 7,
      "outputs": [
        {
          "output_type": "stream",
          "name": "stdout",
          "text": [
            "21\n",
            "30\n"
          ]
        }
      ]
    },
    {
      "cell_type": "markdown",
      "source": [
        "#4. Function With Return Values"
      ],
      "metadata": {
        "id": "41vgGoYGNQ69"
      }
    },
    {
      "cell_type": "code",
      "source": [
        "def square(x):\n",
        "  return(x ** 2)\n",
        "\n",
        "s = square(5)\n",
        "print(s)"
      ],
      "metadata": {
        "colab": {
          "base_uri": "https://localhost:8080/",
          "height": 0
        },
        "id": "h-CXyFi_K-5s",
        "outputId": "b843a9c4-a542-45bc-924e-afea6a7f979f"
      },
      "execution_count": 14,
      "outputs": [
        {
          "output_type": "stream",
          "name": "stdout",
          "text": [
            "25\n"
          ]
        }
      ]
    },
    {
      "cell_type": "code",
      "source": [],
      "metadata": {
        "id": "FNZuZrhDNspt"
      },
      "execution_count": null,
      "outputs": []
    }
  ]
}